{
 "cells": [
  {
   "cell_type": "markdown",
   "metadata": {},
   "source": [
    "# `Time Series Plotting`\n",
    "\n",
    "# <font color=red>Mr Fugu Data Science</font>\n",
    "\n",
    "# (◕‿◕✿)\n",
    "\n",
    "# `Purpose & Outcome:`\n",
    "\n",
    "+ Use Retail Online Sales to Plot Time Series\n",
    "    + Manipulate and format date/time data\n",
    "    + remove/clean data\n",
    "+ Figure out how to format these data for plotting and what we want to visualize with matplotlib\n",
    "\n",
    "[dataset uncleaned](https://archive.ics.uci.edu/ml/datasets/Online+Retail) | [further datasets for learning/practice](https://archive.ics.uci.edu/ml/index.php) | [Kaggle 80 plot for beginners](https://www.kaggle.com/python10pm/plotting-with-python-learn-80-plots-step-by-step)"
   ]
  },
  {
   "cell_type": "code",
   "execution_count": 1,
   "metadata": {},
   "outputs": [],
   "source": [
    "# dataframe\n",
    "import pandas as pd\n",
    "# os: file locator, datetime: manipulate dates/times\n",
    "import os,datetime\n",
    "# Format & locate ticks for dates\n",
    "from matplotlib.dates import DateFormatter, DayLocator\n",
    "# general plot formatting\n",
    "import matplotlib.pyplot as plt\n",
    "#format plot x/y tick labels\n",
    "from matplotlib.ticker import FuncFormatter\n",
    "\n",
    "import numpy as np\n",
    "\n",
    "%matplotlib inline \n",
    "#inline plots"
   ]
  },
  {
   "cell_type": "code",
   "execution_count": 2,
   "metadata": {},
   "outputs": [],
   "source": [
    "# Find a file outside your directory:\n",
    "\n",
    "def os_any_dir_search(file):\n",
    "    u=[]\n",
    "    for p,n,f in os.walk(os.getcwd()):\n",
    "        \n",
    "        for a in f:\n",
    "            a = str(a)\n",
    "            if a.endswith(file): # can be (.csv) or a file like I did and search \n",
    "#                 print(a)\n",
    "#                 print(p)\n",
    "                t=pd.read_csv(p+'/'+file)\n",
    "                u.append(p+'/'+a)\n",
    "    return t,u"
   ]
  },
  {
   "cell_type": "code",
   "execution_count": 3,
   "metadata": {},
   "outputs": [
    {
     "data": {
      "text/html": [
       "<div>\n",
       "<style scoped>\n",
       "    .dataframe tbody tr th:only-of-type {\n",
       "        vertical-align: middle;\n",
       "    }\n",
       "\n",
       "    .dataframe tbody tr th {\n",
       "        vertical-align: top;\n",
       "    }\n",
       "\n",
       "    .dataframe thead th {\n",
       "        text-align: right;\n",
       "    }\n",
       "</style>\n",
       "<table border=\"1\" class=\"dataframe\">\n",
       "  <thead>\n",
       "    <tr style=\"text-align: right;\">\n",
       "      <th></th>\n",
       "      <th>InvoiceNo</th>\n",
       "      <th>StockCode</th>\n",
       "      <th>Description</th>\n",
       "      <th>Quantity</th>\n",
       "      <th>InvoiceDate</th>\n",
       "      <th>UnitPrice</th>\n",
       "      <th>CustomerID</th>\n",
       "      <th>Country</th>\n",
       "      <th>CanceledQty</th>\n",
       "      <th>Matches</th>\n",
       "    </tr>\n",
       "  </thead>\n",
       "  <tbody>\n",
       "    <tr>\n",
       "      <th>0</th>\n",
       "      <td>563614</td>\n",
       "      <td>23345</td>\n",
       "      <td>DOLLY GIRL BEAKER</td>\n",
       "      <td>200</td>\n",
       "      <td>8/18/2011 8:51</td>\n",
       "      <td>1.08</td>\n",
       "      <td>12415</td>\n",
       "      <td>Australia</td>\n",
       "      <td>1</td>\n",
       "      <td>False</td>\n",
       "    </tr>\n",
       "    <tr>\n",
       "      <th>1</th>\n",
       "      <td>568708</td>\n",
       "      <td>23391</td>\n",
       "      <td>I LOVE LONDON MINI BACKPACK</td>\n",
       "      <td>4</td>\n",
       "      <td>9/28/2011 15:41</td>\n",
       "      <td>4.15</td>\n",
       "      <td>12393</td>\n",
       "      <td>Australia</td>\n",
       "      <td>1</td>\n",
       "      <td>False</td>\n",
       "    </tr>\n",
       "    <tr>\n",
       "      <th>2</th>\n",
       "      <td>556917</td>\n",
       "      <td>22418</td>\n",
       "      <td>10 COLOUR SPACEBOY PEN</td>\n",
       "      <td>48</td>\n",
       "      <td>6/15/2011 13:37</td>\n",
       "      <td>0.85</td>\n",
       "      <td>12415</td>\n",
       "      <td>Australia</td>\n",
       "      <td>1</td>\n",
       "      <td>False</td>\n",
       "    </tr>\n",
       "    <tr>\n",
       "      <th>3</th>\n",
       "      <td>543989</td>\n",
       "      <td>20973</td>\n",
       "      <td>12 PENCIL SMALL TUBE WOODLAND</td>\n",
       "      <td>384</td>\n",
       "      <td>2/15/2011 9:52</td>\n",
       "      <td>0.55</td>\n",
       "      <td>12415</td>\n",
       "      <td>Australia</td>\n",
       "      <td>1</td>\n",
       "      <td>False</td>\n",
       "    </tr>\n",
       "    <tr>\n",
       "      <th>4</th>\n",
       "      <td>547659</td>\n",
       "      <td>20984</td>\n",
       "      <td>12 PENCILS TALL TUBE POSY</td>\n",
       "      <td>12</td>\n",
       "      <td>3/24/2011 13:05</td>\n",
       "      <td>0.85</td>\n",
       "      <td>12434</td>\n",
       "      <td>Australia</td>\n",
       "      <td>1</td>\n",
       "      <td>False</td>\n",
       "    </tr>\n",
       "  </tbody>\n",
       "</table>\n",
       "</div>"
      ],
      "text/plain": [
       "   InvoiceNo StockCode                    Description  Quantity  \\\n",
       "0     563614     23345              DOLLY GIRL BEAKER       200   \n",
       "1     568708     23391    I LOVE LONDON MINI BACKPACK         4   \n",
       "2     556917     22418         10 COLOUR SPACEBOY PEN        48   \n",
       "3     543989     20973  12 PENCIL SMALL TUBE WOODLAND       384   \n",
       "4     547659     20984      12 PENCILS TALL TUBE POSY        12   \n",
       "\n",
       "       InvoiceDate  UnitPrice  CustomerID    Country  CanceledQty  Matches  \n",
       "0   8/18/2011 8:51       1.08       12415  Australia            1    False  \n",
       "1  9/28/2011 15:41       4.15       12393  Australia            1    False  \n",
       "2  6/15/2011 13:37       0.85       12415  Australia            1    False  \n",
       "3   2/15/2011 9:52       0.55       12415  Australia            1    False  \n",
       "4  3/24/2011 13:05       0.85       12434  Australia            1    False  "
      ]
     },
     "execution_count": 3,
     "metadata": {},
     "output_type": "execute_result"
    }
   ],
   "source": [
    "retail_sales_cleaned = os_any_dir_search('SalesDataNoCancels.csv')[0]\n",
    "\n",
    "retail_sales_cleaned.head()"
   ]
  },
  {
   "cell_type": "markdown",
   "metadata": {},
   "source": [
    "# `Convert string dates to datetime for parsing:`"
   ]
  },
  {
   "cell_type": "code",
   "execution_count": 4,
   "metadata": {},
   "outputs": [
    {
     "data": {
      "text/html": [
       "<div>\n",
       "<style scoped>\n",
       "    .dataframe tbody tr th:only-of-type {\n",
       "        vertical-align: middle;\n",
       "    }\n",
       "\n",
       "    .dataframe tbody tr th {\n",
       "        vertical-align: top;\n",
       "    }\n",
       "\n",
       "    .dataframe thead th {\n",
       "        text-align: right;\n",
       "    }\n",
       "</style>\n",
       "<table border=\"1\" class=\"dataframe\">\n",
       "  <thead>\n",
       "    <tr style=\"text-align: right;\">\n",
       "      <th></th>\n",
       "      <th>InvoiceNo</th>\n",
       "      <th>StockCode</th>\n",
       "      <th>Description</th>\n",
       "      <th>Quantity</th>\n",
       "      <th>InvoiceDate</th>\n",
       "      <th>UnitPrice</th>\n",
       "      <th>CustomerID</th>\n",
       "      <th>Country</th>\n",
       "      <th>CanceledQty</th>\n",
       "      <th>Matches</th>\n",
       "      <th>Date</th>\n",
       "      <th>Time</th>\n",
       "    </tr>\n",
       "  </thead>\n",
       "  <tbody>\n",
       "    <tr>\n",
       "      <th>0</th>\n",
       "      <td>563614</td>\n",
       "      <td>23345</td>\n",
       "      <td>DOLLY GIRL BEAKER</td>\n",
       "      <td>200</td>\n",
       "      <td>2011-08-18 08:51:00</td>\n",
       "      <td>1.08</td>\n",
       "      <td>12415</td>\n",
       "      <td>Australia</td>\n",
       "      <td>1</td>\n",
       "      <td>False</td>\n",
       "      <td>08/18/2011</td>\n",
       "      <td>08:51</td>\n",
       "    </tr>\n",
       "    <tr>\n",
       "      <th>1</th>\n",
       "      <td>568708</td>\n",
       "      <td>23391</td>\n",
       "      <td>I LOVE LONDON MINI BACKPACK</td>\n",
       "      <td>4</td>\n",
       "      <td>2011-09-28 15:41:00</td>\n",
       "      <td>4.15</td>\n",
       "      <td>12393</td>\n",
       "      <td>Australia</td>\n",
       "      <td>1</td>\n",
       "      <td>False</td>\n",
       "      <td>09/28/2011</td>\n",
       "      <td>15:41</td>\n",
       "    </tr>\n",
       "    <tr>\n",
       "      <th>2</th>\n",
       "      <td>556917</td>\n",
       "      <td>22418</td>\n",
       "      <td>10 COLOUR SPACEBOY PEN</td>\n",
       "      <td>48</td>\n",
       "      <td>2011-06-15 13:37:00</td>\n",
       "      <td>0.85</td>\n",
       "      <td>12415</td>\n",
       "      <td>Australia</td>\n",
       "      <td>1</td>\n",
       "      <td>False</td>\n",
       "      <td>06/15/2011</td>\n",
       "      <td>13:37</td>\n",
       "    </tr>\n",
       "    <tr>\n",
       "      <th>3</th>\n",
       "      <td>543989</td>\n",
       "      <td>20973</td>\n",
       "      <td>12 PENCIL SMALL TUBE WOODLAND</td>\n",
       "      <td>384</td>\n",
       "      <td>2011-02-15 09:52:00</td>\n",
       "      <td>0.55</td>\n",
       "      <td>12415</td>\n",
       "      <td>Australia</td>\n",
       "      <td>1</td>\n",
       "      <td>False</td>\n",
       "      <td>02/15/2011</td>\n",
       "      <td>09:52</td>\n",
       "    </tr>\n",
       "    <tr>\n",
       "      <th>4</th>\n",
       "      <td>547659</td>\n",
       "      <td>20984</td>\n",
       "      <td>12 PENCILS TALL TUBE POSY</td>\n",
       "      <td>12</td>\n",
       "      <td>2011-03-24 13:05:00</td>\n",
       "      <td>0.85</td>\n",
       "      <td>12434</td>\n",
       "      <td>Australia</td>\n",
       "      <td>1</td>\n",
       "      <td>False</td>\n",
       "      <td>03/24/2011</td>\n",
       "      <td>13:05</td>\n",
       "    </tr>\n",
       "  </tbody>\n",
       "</table>\n",
       "</div>"
      ],
      "text/plain": [
       "   InvoiceNo StockCode                    Description  Quantity  \\\n",
       "0     563614     23345              DOLLY GIRL BEAKER       200   \n",
       "1     568708     23391    I LOVE LONDON MINI BACKPACK         4   \n",
       "2     556917     22418         10 COLOUR SPACEBOY PEN        48   \n",
       "3     543989     20973  12 PENCIL SMALL TUBE WOODLAND       384   \n",
       "4     547659     20984      12 PENCILS TALL TUBE POSY        12   \n",
       "\n",
       "          InvoiceDate  UnitPrice  CustomerID    Country  CanceledQty  Matches  \\\n",
       "0 2011-08-18 08:51:00       1.08       12415  Australia            1    False   \n",
       "1 2011-09-28 15:41:00       4.15       12393  Australia            1    False   \n",
       "2 2011-06-15 13:37:00       0.85       12415  Australia            1    False   \n",
       "3 2011-02-15 09:52:00       0.55       12415  Australia            1    False   \n",
       "4 2011-03-24 13:05:00       0.85       12434  Australia            1    False   \n",
       "\n",
       "         Date   Time  \n",
       "0  08/18/2011  08:51  \n",
       "1  09/28/2011  15:41  \n",
       "2  06/15/2011  13:37  \n",
       "3  02/15/2011  09:52  \n",
       "4  03/24/2011  13:05  "
      ]
     },
     "execution_count": 4,
     "metadata": {},
     "output_type": "execute_result"
    }
   ],
   "source": [
    "# Convert str to date/time with pandas\n",
    "retail_sales_cleaned['InvoiceDate']=pd.to_datetime(retail_sales_cleaned['InvoiceDate'],\n",
    "                    infer_datetime_format=True)\n",
    "\n",
    "# Change formating to US dates\n",
    "retail_sales_cleaned['Date']=retail_sales_cleaned['InvoiceDate'].dt.strftime('%m/%d/%Y')\n",
    "# Extract the hours and minutes\n",
    "retail_sales_cleaned['Time']=retail_sales_cleaned['InvoiceDate'].dt.strftime('%H:%M')\n",
    "retail_sales_cleaned.head()"
   ]
  },
  {
   "cell_type": "code",
   "execution_count": 6,
   "metadata": {},
   "outputs": [
    {
     "data": {
      "text/html": [
       "<div>\n",
       "<style scoped>\n",
       "    .dataframe tbody tr th:only-of-type {\n",
       "        vertical-align: middle;\n",
       "    }\n",
       "\n",
       "    .dataframe tbody tr th {\n",
       "        vertical-align: top;\n",
       "    }\n",
       "\n",
       "    .dataframe thead th {\n",
       "        text-align: right;\n",
       "    }\n",
       "</style>\n",
       "<table border=\"1\" class=\"dataframe\">\n",
       "  <thead>\n",
       "    <tr style=\"text-align: right;\">\n",
       "      <th></th>\n",
       "      <th>InvoiceNo</th>\n",
       "      <th>StockCode</th>\n",
       "      <th>Description</th>\n",
       "      <th>Quantity</th>\n",
       "      <th>InvoiceDate</th>\n",
       "      <th>UnitPrice</th>\n",
       "      <th>CustomerID</th>\n",
       "      <th>Country</th>\n",
       "      <th>CanceledQty</th>\n",
       "      <th>Matches</th>\n",
       "      <th>Date</th>\n",
       "      <th>Time</th>\n",
       "      <th>Day_of_Week</th>\n",
       "      <th>Month</th>\n",
       "      <th>Sales_Total</th>\n",
       "    </tr>\n",
       "  </thead>\n",
       "  <tbody>\n",
       "    <tr>\n",
       "      <th>0</th>\n",
       "      <td>563614</td>\n",
       "      <td>23345</td>\n",
       "      <td>DOLLY GIRL BEAKER</td>\n",
       "      <td>200</td>\n",
       "      <td>2011-08-18 08:51:00</td>\n",
       "      <td>1.08</td>\n",
       "      <td>12415</td>\n",
       "      <td>Australia</td>\n",
       "      <td>1</td>\n",
       "      <td>False</td>\n",
       "      <td>08/18/2011</td>\n",
       "      <td>08:51</td>\n",
       "      <td>Thursday</td>\n",
       "      <td>August</td>\n",
       "      <td>216.0</td>\n",
       "    </tr>\n",
       "    <tr>\n",
       "      <th>1</th>\n",
       "      <td>568708</td>\n",
       "      <td>23391</td>\n",
       "      <td>I LOVE LONDON MINI BACKPACK</td>\n",
       "      <td>4</td>\n",
       "      <td>2011-09-28 15:41:00</td>\n",
       "      <td>4.15</td>\n",
       "      <td>12393</td>\n",
       "      <td>Australia</td>\n",
       "      <td>1</td>\n",
       "      <td>False</td>\n",
       "      <td>09/28/2011</td>\n",
       "      <td>15:41</td>\n",
       "      <td>Wednesday</td>\n",
       "      <td>September</td>\n",
       "      <td>16.6</td>\n",
       "    </tr>\n",
       "    <tr>\n",
       "      <th>2</th>\n",
       "      <td>556917</td>\n",
       "      <td>22418</td>\n",
       "      <td>10 COLOUR SPACEBOY PEN</td>\n",
       "      <td>48</td>\n",
       "      <td>2011-06-15 13:37:00</td>\n",
       "      <td>0.85</td>\n",
       "      <td>12415</td>\n",
       "      <td>Australia</td>\n",
       "      <td>1</td>\n",
       "      <td>False</td>\n",
       "      <td>06/15/2011</td>\n",
       "      <td>13:37</td>\n",
       "      <td>Wednesday</td>\n",
       "      <td>June</td>\n",
       "      <td>40.8</td>\n",
       "    </tr>\n",
       "    <tr>\n",
       "      <th>3</th>\n",
       "      <td>543989</td>\n",
       "      <td>20973</td>\n",
       "      <td>12 PENCIL SMALL TUBE WOODLAND</td>\n",
       "      <td>384</td>\n",
       "      <td>2011-02-15 09:52:00</td>\n",
       "      <td>0.55</td>\n",
       "      <td>12415</td>\n",
       "      <td>Australia</td>\n",
       "      <td>1</td>\n",
       "      <td>False</td>\n",
       "      <td>02/15/2011</td>\n",
       "      <td>09:52</td>\n",
       "      <td>Tuesday</td>\n",
       "      <td>February</td>\n",
       "      <td>211.2</td>\n",
       "    </tr>\n",
       "    <tr>\n",
       "      <th>4</th>\n",
       "      <td>547659</td>\n",
       "      <td>20984</td>\n",
       "      <td>12 PENCILS TALL TUBE POSY</td>\n",
       "      <td>12</td>\n",
       "      <td>2011-03-24 13:05:00</td>\n",
       "      <td>0.85</td>\n",
       "      <td>12434</td>\n",
       "      <td>Australia</td>\n",
       "      <td>1</td>\n",
       "      <td>False</td>\n",
       "      <td>03/24/2011</td>\n",
       "      <td>13:05</td>\n",
       "      <td>Thursday</td>\n",
       "      <td>March</td>\n",
       "      <td>10.2</td>\n",
       "    </tr>\n",
       "  </tbody>\n",
       "</table>\n",
       "</div>"
      ],
      "text/plain": [
       "   InvoiceNo StockCode                    Description  Quantity  \\\n",
       "0     563614     23345              DOLLY GIRL BEAKER       200   \n",
       "1     568708     23391    I LOVE LONDON MINI BACKPACK         4   \n",
       "2     556917     22418         10 COLOUR SPACEBOY PEN        48   \n",
       "3     543989     20973  12 PENCIL SMALL TUBE WOODLAND       384   \n",
       "4     547659     20984      12 PENCILS TALL TUBE POSY        12   \n",
       "\n",
       "          InvoiceDate  UnitPrice  CustomerID    Country  CanceledQty  Matches  \\\n",
       "0 2011-08-18 08:51:00       1.08       12415  Australia            1    False   \n",
       "1 2011-09-28 15:41:00       4.15       12393  Australia            1    False   \n",
       "2 2011-06-15 13:37:00       0.85       12415  Australia            1    False   \n",
       "3 2011-02-15 09:52:00       0.55       12415  Australia            1    False   \n",
       "4 2011-03-24 13:05:00       0.85       12434  Australia            1    False   \n",
       "\n",
       "         Date   Time Day_of_Week      Month  Sales_Total  \n",
       "0  08/18/2011  08:51    Thursday     August        216.0  \n",
       "1  09/28/2011  15:41   Wednesday  September         16.6  \n",
       "2  06/15/2011  13:37   Wednesday       June         40.8  \n",
       "3  02/15/2011  09:52     Tuesday   February        211.2  \n",
       "4  03/24/2011  13:05    Thursday      March         10.2  "
      ]
     },
     "execution_count": 6,
     "metadata": {},
     "output_type": "execute_result"
    }
   ],
   "source": [
    "# Day of week from numeric\n",
    "retail_sales_cleaned['Day_of_Week']=retail_sales_cleaned['InvoiceDate'].dt.strftime('%A')\n",
    "# Month name from numeric\n",
    "retail_sales_cleaned['Month']=retail_sales_cleaned['InvoiceDate'].dt.strftime('%B')\n",
    "# Sales Totals:\n",
    "retail_sales_cleaned['Sales_Total']=\\\n",
    "retail_sales_cleaned['Quantity']*retail_sales_cleaned['UnitPrice']\n",
    "retail_sales_cleaned.head()"
   ]
  },
  {
   "cell_type": "markdown",
   "metadata": {},
   "source": [
    "# `Clean Data & Format for Plotting:`\n",
    "\n",
    "+ We have to check for Nan/None values for date/time\n",
    "+ Also, very important: classifying day/month isn't enough. We need more clarification because when we plot this we will have gaps/steps which are not informative. \n",
    "    + Therefore, we shall break it down further so that we have more data points: \n",
    "    if we have Monday and Tuesday but nothing in between then there is a large gap in knowledge. Sales are done by the minute/hour and therefore we should try to break it down if we are to do a line or scatter plot."
   ]
  },
  {
   "cell_type": "code",
   "execution_count": 7,
   "metadata": {},
   "outputs": [
    {
     "data": {
      "text/plain": [
       "InvoiceNo      0\n",
       "StockCode      0\n",
       "Description    0\n",
       "Quantity       0\n",
       "InvoiceDate    0\n",
       "UnitPrice      0\n",
       "CustomerID     0\n",
       "Country        0\n",
       "CanceledQty    0\n",
       "Matches        0\n",
       "Date           0\n",
       "Time           0\n",
       "Day_of_Week    0\n",
       "Month          0\n",
       "Sales_Total    0\n",
       "dtype: int64"
      ]
     },
     "execution_count": 7,
     "metadata": {},
     "output_type": "execute_result"
    }
   ],
   "source": [
    "# Checking for null values in all columns:\n",
    "retail_sales_cleaned.isnull().sum()"
   ]
  },
  {
   "cell_type": "code",
   "execution_count": 8,
   "metadata": {},
   "outputs": [
    {
     "data": {
      "text/plain": [
       "November     62598\n",
       "October      48088\n",
       "December     42196\n",
       "September    39108\n",
       "May          27659\n",
       "August       26463\n",
       "June         26453\n",
       "March        26369\n",
       "July         26119\n",
       "April        22097\n",
       "January      20651\n",
       "February     19454\n",
       "Name: Month, dtype: int64"
      ]
     },
     "execution_count": 8,
     "metadata": {},
     "output_type": "execute_result"
    }
   ],
   "source": [
    "sales_by_month=retail_sales_cleaned.loc[:,['Sales_Total','Month']]\n",
    "\n",
    "sales_by_month['Month'].value_counts() # number of purchases by month\n",
    "# sales_by_month['Month'].unique()\n",
    "# sales_by_month['Month'].value_counts()"
   ]
  },
  {
   "cell_type": "code",
   "execution_count": 9,
   "metadata": {},
   "outputs": [
    {
     "data": {
      "text/plain": [
       "Month\n",
       "April         430497.691\n",
       "August        625288.990\n",
       "December      901412.940\n",
       "February      439187.140\n",
       "January       457864.050\n",
       "July          582967.621\n",
       "June          605578.550\n",
       "March         572038.170\n",
       "May           652485.670\n",
       "November     1129105.540\n",
       "October       967584.800\n",
       "September     932438.782\n",
       "dtype: float64"
      ]
     },
     "execution_count": 9,
     "metadata": {},
     "output_type": "execute_result"
    }
   ],
   "source": [
    "ff=sales_by_month.groupby('Month').sum().unstack()['Sales_Total']\n",
    "ff # monthly sales in British Pounds\n"
   ]
  },
  {
   "cell_type": "code",
   "execution_count": 11,
   "metadata": {},
   "outputs": [
    {
     "data": {
      "image/png": "[encoded data removed]",
      "text/plain": [
       "<Figure size 1440x720 with 1 Axes>"
      ]
     },
     "metadata": {
      "needs_background": "light"
     },
     "output_type": "display_data"
    }
   ],
   "source": [
    "# RUN THIS CODE TWICE: font sizes will enlarge on second run\n",
    "\n",
    "# import matplotlib.pyplot as plt\n",
    "\n",
    "plt.figure(figsize=(20,10))\n",
    "plt.rc('xtick', labelsize=25) \n",
    "plt.rc('ytick', labelsize=25) \n",
    "\n",
    "labels_=['January','February','March','April','May',\n",
    "'June','July','August','September','October','November','December']\n",
    "\n",
    "plt.bar(labels_,ff,\n",
    "align='center', alpha=0.5)\n",
    "plt.xticks(labels_,rotation=65)\n",
    "\n",
    "plt.ylabel('Sales Total '+ '('+u'\\u00A3'+')',size=25)\n",
    "plt.title('Sales By Month',size=25)\n",
    "\n",
    "plt.show()"
   ]
  },
  {
   "cell_type": "code",
   "execution_count": 12,
   "metadata": {},
   "outputs": [
    {
     "data": {
      "text/plain": [
       "Day_of_Week\n",
       "Friday       1228419.731\n",
       "Monday       1293921.391\n",
       "Saturday           0.000\n",
       "Sunday        771588.771\n",
       "Thursday     1919435.530\n",
       "Tuesday      1547583.411\n",
       "Wednesday    1535501.110\n",
       "dtype: float64"
      ]
     },
     "execution_count": 12,
     "metadata": {},
     "output_type": "execute_result"
    }
   ],
   "source": [
    "new_row=[{'Day_of_Week':'Saturday','Sales_Total':0}]\n",
    "df_=retail_sales_cleaned.loc[:,['Day_of_Week','Sales_Total']]\n",
    "\n",
    "df_=df_.append(new_row, ignore_index=True)\n",
    "\n",
    "days_sub_fix=df_.groupby('Day_of_Week').sum().unstack()['Sales_Total']\n",
    "days_sub_fix"
   ]
  },
  {
   "cell_type": "code",
   "execution_count": 13,
   "metadata": {},
   "outputs": [
    {
     "data": {
      "text/plain": [
       "Day_of_Week\n",
       "Monday       1293921.391\n",
       "Tuesday      1547583.411\n",
       "Wednesday    1535501.110\n",
       "Thursday     1919435.530\n",
       "Friday       1228419.731\n",
       "Saturday           0.000\n",
       "Sunday        771588.771\n",
       "dtype: float64"
      ]
     },
     "execution_count": 13,
     "metadata": {},
     "output_type": "execute_result"
    }
   ],
   "source": [
    "# for some reason I had to do this in order to get correct order! \n",
    "label_days=['Monday','Tuesday','Wednesday','Thursday','Friday','Saturday','Sunday']\n",
    "\n",
    "days_sub_fix[label_days]"
   ]
  },
  {
   "cell_type": "code",
   "execution_count": 14,
   "metadata": {},
   "outputs": [
    {
     "data": {
      "image/png": "[encoded data removed]",
      "text/plain": [
       "<Figure size 1440x720 with 1 Axes>"
      ]
     },
     "metadata": {
      "needs_background": "light"
     },
     "output_type": "display_data"
    }
   ],
   "source": [
    "# from matplotlib.ticker import FuncFormatter #(used for label formatting)\n",
    "\n",
    "fig,ax=plt.subplots(figsize=(20,10))\n",
    "\n",
    "plt.rc('xtick', labelsize=25) \n",
    "plt.rc('ytick', labelsize=25) \n",
    "\n",
    "# Convert y-axis labels to decimal with magnitude \n",
    "def number_formatter(number, pos=None):\n",
    "    \"\"\"Convert a number into a human readable format.\"\"\"\n",
    "    magnitude = 0\n",
    "    while abs(number) >= 1000:\n",
    "        magnitude += 1\n",
    "        number /= 1000.0\n",
    "    return '%1.1f%s' % (number, ['', 'K', 'M', 'B', 'T', 'Q'][magnitude])\n",
    "\n",
    "\n",
    "ax.yaxis.set_major_formatter(FuncFormatter(number_formatter))\n",
    "\n",
    "\n",
    "ax.bar(label_days,days_sub_fix[label_days],align='center', alpha=0.5)\n",
    "plt.xticks(label_days,rotation=65)\n",
    "plt.ylabel('Sales Total '+ '('+u'\\u00A3'+')',size=25)\n",
    "plt.title('Sales By Day',size=25)\n",
    "# plt.rc('xtick', labelsize=25) \n",
    "# plt.rc('ytick', labelsize=25) \n",
    "\n",
    "\n",
    "plt.show()\n"
   ]
  },
  {
   "cell_type": "markdown",
   "metadata": {},
   "source": [
    "**`I want to show something if you look at the sales by month and day, they don't seem like the scale would match up. But, doing a comparison you will see they are  in fact aligned.`** \n",
    "\n",
    "+ For some reason there were no sales on Saturday, even though these data come from an actual website.\n",
    "\n",
    "+ I changed the formatting of the y-axis labels (major ticks) pay attention\n",
    "\n",
    "**`Side Note:`** `retail_sales_cleaned['Day_of_Week'].value_counts()` this returns the volume sold per day!"
   ]
  },
  {
   "cell_type": "code",
   "execution_count": 15,
   "metadata": {},
   "outputs": [
    {
     "data": {
      "text/plain": [
       "Thursday     78113\n",
       "Wednesday    67111\n",
       "Tuesday      64841\n",
       "Monday       63230\n",
       "Sunday       60608\n",
       "Friday       53352\n",
       "Name: Day_of_Week, dtype: int64"
      ]
     },
     "execution_count": 15,
     "metadata": {},
     "output_type": "execute_result"
    }
   ],
   "source": [
    "# daily sales by volume\n",
    "retail_sales_cleaned['Day_of_Week'].value_counts()"
   ]
  },
  {
   "cell_type": "markdown",
   "metadata": {},
   "source": [
    "# `Time Series Investigating Top 5 Items and Countries`\n",
    "\n",
    "+ `Two plots:`\n",
    "    + One plot will be top 5 countries by Sales daily\n",
    "    + Other plot will be top 5 items sold by month\n",
    "    \n",
    "**`UK sales dwarf data so I am removing from Top 5!`**"
   ]
  },
  {
   "cell_type": "code",
   "execution_count": 16,
   "metadata": {},
   "outputs": [
    {
     "data": {
      "text/html": [
       "<div>\n",
       "<style scoped>\n",
       "    .dataframe tbody tr th:only-of-type {\n",
       "        vertical-align: middle;\n",
       "    }\n",
       "\n",
       "    .dataframe tbody tr th {\n",
       "        vertical-align: top;\n",
       "    }\n",
       "\n",
       "    .dataframe thead th {\n",
       "        text-align: right;\n",
       "    }\n",
       "</style>\n",
       "<table border=\"1\" class=\"dataframe\">\n",
       "  <thead>\n",
       "    <tr style=\"text-align: right;\">\n",
       "      <th></th>\n",
       "      <th>Sales_Total</th>\n",
       "    </tr>\n",
       "    <tr>\n",
       "      <th>Country</th>\n",
       "      <th></th>\n",
       "    </tr>\n",
       "  </thead>\n",
       "  <tbody>\n",
       "    <tr>\n",
       "      <th>Netherlands</th>\n",
       "      <td>283643.94</td>\n",
       "    </tr>\n",
       "    <tr>\n",
       "      <th>EIRE</th>\n",
       "      <td>237641.81</td>\n",
       "    </tr>\n",
       "    <tr>\n",
       "      <th>Germany</th>\n",
       "      <td>222920.88</td>\n",
       "    </tr>\n",
       "    <tr>\n",
       "      <th>France</th>\n",
       "      <td>203959.46</td>\n",
       "    </tr>\n",
       "    <tr>\n",
       "      <th>Australia</th>\n",
       "      <td>136919.90</td>\n",
       "    </tr>\n",
       "  </tbody>\n",
       "</table>\n",
       "</div>"
      ],
      "text/plain": [
       "             Sales_Total\n",
       "Country                 \n",
       "Netherlands    283643.94\n",
       "EIRE           237641.81\n",
       "Germany        222920.88\n",
       "France         203959.46\n",
       "Australia      136919.90"
      ]
     },
     "execution_count": 16,
     "metadata": {},
     "output_type": "execute_result"
    }
   ],
   "source": [
    "# we need to subset the data first:\n",
    "\n",
    "subset_by_country_sales=retail_sales_cleaned.loc[:,['Country','Sales_Total']]\n",
    "\n",
    "\n",
    "countries_subset=subset_by_country_sales.groupby('Country').\\\n",
    "sum().sort_values(by='Sales_Total',ascending=False)\n",
    "\n",
    "countries_subset[1:6] # these are the countries we will map/plot removing UK"
   ]
  },
  {
   "cell_type": "code",
   "execution_count": 17,
   "metadata": {},
   "outputs": [
    {
     "data": {
      "text/plain": [
       "Country\n",
       "United Kingdom    6.765359e+06\n",
       "Netherlands       2.836439e+05\n",
       "EIRE              2.376418e+05\n",
       "Germany           2.229209e+05\n",
       "France            2.039595e+05\n",
       "Name: Sales_Total, dtype: float64"
      ]
     },
     "execution_count": 17,
     "metadata": {},
     "output_type": "execute_result"
    }
   ],
   "source": [
    "# By the way UK, actually dwarfs this dataset, but we will NOT use here \n",
    "\n",
    "countries_subset[:5]['Sales_Total'] # Top 5 countries by sales"
   ]
  },
  {
   "cell_type": "code",
   "execution_count": 18,
   "metadata": {},
   "outputs": [
    {
     "data": {
      "text/plain": [
       "array(['Australia', 'EIRE', 'France', 'Germany', 'Netherlands'],\n",
       "      dtype=object)"
      ]
     },
     "execution_count": 18,
     "metadata": {},
     "output_type": "execute_result"
    }
   ],
   "source": [
    "# Now Find Data based on our list of countries\n",
    "\n",
    "idx=countries_subset[1:6]['Sales_Total'].index # Get country names Top 5 w/o UK\n",
    "\n",
    "top_five_countries_full=retail_sales_cleaned.\\\n",
    "loc[retail_sales_cleaned['Country'].isin(idx)]\n",
    "\n",
    "# verify we did it correct\n",
    "retail_sales_cleaned.loc[retail_sales_cleaned['Country'].isin(idx)].Country.unique()"
   ]
  },
  {
   "cell_type": "code",
   "execution_count": 19,
   "metadata": {},
   "outputs": [
    {
     "data": {
      "text/html": [
       "<div>\n",
       "<style scoped>\n",
       "    .dataframe tbody tr th:only-of-type {\n",
       "        vertical-align: middle;\n",
       "    }\n",
       "\n",
       "    .dataframe tbody tr th {\n",
       "        vertical-align: top;\n",
       "    }\n",
       "\n",
       "    .dataframe thead th {\n",
       "        text-align: right;\n",
       "    }\n",
       "</style>\n",
       "<table border=\"1\" class=\"dataframe\">\n",
       "  <thead>\n",
       "    <tr style=\"text-align: right;\">\n",
       "      <th></th>\n",
       "      <th>Country</th>\n",
       "      <th>Sales_Total</th>\n",
       "      <th>Date</th>\n",
       "      <th>Month</th>\n",
       "    </tr>\n",
       "  </thead>\n",
       "  <tbody>\n",
       "    <tr>\n",
       "      <th>0</th>\n",
       "      <td>Australia</td>\n",
       "      <td>216.0</td>\n",
       "      <td>08/18/2011</td>\n",
       "      <td>August</td>\n",
       "    </tr>\n",
       "    <tr>\n",
       "      <th>1</th>\n",
       "      <td>Australia</td>\n",
       "      <td>16.6</td>\n",
       "      <td>09/28/2011</td>\n",
       "      <td>September</td>\n",
       "    </tr>\n",
       "    <tr>\n",
       "      <th>2</th>\n",
       "      <td>Australia</td>\n",
       "      <td>40.8</td>\n",
       "      <td>06/15/2011</td>\n",
       "      <td>June</td>\n",
       "    </tr>\n",
       "    <tr>\n",
       "      <th>3</th>\n",
       "      <td>Australia</td>\n",
       "      <td>211.2</td>\n",
       "      <td>02/15/2011</td>\n",
       "      <td>February</td>\n",
       "    </tr>\n",
       "    <tr>\n",
       "      <th>4</th>\n",
       "      <td>Australia</td>\n",
       "      <td>10.2</td>\n",
       "      <td>03/24/2011</td>\n",
       "      <td>March</td>\n",
       "    </tr>\n",
       "  </tbody>\n",
       "</table>\n",
       "</div>"
      ],
      "text/plain": [
       "     Country  Sales_Total        Date      Month\n",
       "0  Australia        216.0  08/18/2011     August\n",
       "1  Australia         16.6  09/28/2011  September\n",
       "2  Australia         40.8  06/15/2011       June\n",
       "3  Australia        211.2  02/15/2011   February\n",
       "4  Australia         10.2  03/24/2011      March"
      ]
     },
     "execution_count": 19,
     "metadata": {},
     "output_type": "execute_result"
    }
   ],
   "source": [
    "# Prepare data for columns we need\n",
    "\n",
    "subset_top_five=top_five_countries_full.loc[:,['Country','Sales_Total','Date','Month']]\n",
    "subset_top_five.head()"
   ]
  },
  {
   "cell_type": "code",
   "execution_count": 32,
   "metadata": {},
   "outputs": [],
   "source": [
    "\n",
    "bb=retail_sales_cleaned.sort_values('Date')\n",
    "bb=bb[bb.InvoiceDate.between('10/01/2011', '10/31/2011')]\n",
    "vv=bb.loc[:,['Date','Country','Month','Sales_Total']]\n",
    "\n",
    "\n",
    "idx_=countries_subset[1:6]['Sales_Total'].index\n",
    "nn=vv.loc[vv['Country'].isin(idx_)]\n",
    "hol=nn.loc[nn['Month'].isin(holiday_sub)]\n"
   ]
  },
  {
   "cell_type": "code",
   "execution_count": 33,
   "metadata": {},
   "outputs": [],
   "source": [
    "oct_dts=pd.date_range(start=\"10/01/2011\",end=\"10/31/2011\").strftime(\"%m/%d/%Y\")\n",
    "\n",
    "vb=[]\n",
    "for i in idx_:\n",
    "    kk=hol.loc[hol['Country']==i]\n",
    "    \n",
    "# find country where date is not in comparison list and append 0, country name, date\n",
    "    vb.append([[i]*len(set(oct_dts)-set(kk['Date'])),\n",
    "               list(set(oct_dts)-set(kk['Date'])),\n",
    "               [0]*len(set(oct_dts)-set(kk['Date']))])\n",
    "\n",
    "dd_=pd.DataFrame(vb,columns=['Country','Date','Sales_Total'])\n",
    "\n",
    "dd_=dd_.apply(pd.Series.explode)# flatten dataframe columns of lists of dictionaries\n",
    "\n",
    "updated_dates=hol.loc[:,['Date','Country','Sales_Total']].append(dd_).\\\n",
    "reset_index(drop=True)\n"
   ]
  },
  {
   "cell_type": "markdown",
   "metadata": {},
   "source": [
    "# `Iterate Through Each Country & Stores Sales By Date`"
   ]
  },
  {
   "cell_type": "code",
   "execution_count": 34,
   "metadata": {},
   "outputs": [],
   "source": [
    "store_=[]\n",
    "ppp=updated_dates.sort_values(by=['Country','Date'])\n",
    "\n",
    "names_=ppp['Country'].unique()\n",
    "for i in names_:\n",
    "    mm=ppp.loc[ppp['Country']==i]\n",
    "    store_.append(list(mm.groupby('Date').sum()['Sales_Total']))"
   ]
  },
  {
   "cell_type": "code",
   "execution_count": 35,
   "metadata": {},
   "outputs": [
    {
     "data": {
      "image/png": "[encoded data removed]",
      "text/plain": [
       "<Figure size 864x576 with 1 Axes>"
      ]
     },
     "metadata": {
      "needs_background": "light"
     },
     "output_type": "display_data"
    }
   ],
   "source": [
    "# import matplotlib.pyplot as plt\n",
    "\n",
    "grid=[x for x in ppp.loc[:,'Date'].unique()]\n",
    "graphs=store_\n",
    "plt.figure(figsize=(12,8))\n",
    "for gg,graph in enumerate(graphs):\n",
    "        plt.plot(grid,graph,label=ppp.loc[:,'Country'].unique()[gg])\n",
    "                \n",
    "plt.ylabel('Sales Total '+ '('+u'\\u00A3'+')',size=25)\n",
    "plt.title('October 2011 Sales By Country/day',size=25)\n",
    "plt.legend(loc=\"upper left\")\n",
    "plt.xticks(ppp.loc[:,'Date'].unique(),rotation=45,ha=\"right\",size=9)\n",
    "plt.grid(True)\n",
    "plt.show()"
   ]
  },
  {
   "cell_type": "code",
   "execution_count": null,
   "metadata": {},
   "outputs": [],
   "source": []
  },
  {
   "cell_type": "markdown",
   "metadata": {},
   "source": [
    "# <font color=red>Like</font>, Share & \n",
    "\n",
    "# <font color=red>SUB</font>scribe\n",
    "\n",
    "**`Help Support the channel: Buy Me A Coffee @mrfugudatsci`**"
   ]
  },
  {
   "cell_type": "markdown",
   "metadata": {},
   "source": [
    "# `Citations & Help:`\n",
    "\n",
    "# ◔̯◔\n",
    "\n",
    "https://stackoverflow.com/questions/17071871/how-to-select-rows-from-a-dataframe-based-on-column-values\n",
    "\n",
    "`Date Time Help`\n",
    "\n",
    "https://www.datacamp.com/community/tutorials/converting-strings-datetime-objects\n",
    "\n",
    "https://stackoverflow.com/questions/38067704/how-to-change-the-datetime-format-in-pandas\n",
    "\n",
    "https://stackoverflow.com/questions/38709558/how-to-format-a-date-column-in-pandas\n",
    "\n",
    "`Sales Data Analysis Ideas:`\n",
    "\n",
    "https://www.kaggle.com/fabiendaniel/customer-segmentation\n",
    "\n",
    "https://www.kaggle.com/carrie1/ecommerce-data/notebooks\n",
    "\n",
    "`Plotting Help:`\n",
    "\n",
    "https://machinelearningmastery.com/time-series-data-visualization-with-python/\n",
    "\n",
    "https://unidata.github.io/python-training/workshop/Time_Series/basic-time-series-plotting/\n",
    "\n",
    "https://dfrieds.com/data-visualizations/how-format-large-tick-values.html\n",
    "\n",
    "https://napsterinblue.github.io/notes/python/viz/tick_string_formatting/\n",
    "\n",
    "https://flynn.gg/blog/better-matplotlib-charts/\n",
    "\n",
    "https://www.python-course.eu/matplotlib_histograms.php\n",
    "\n",
    "`Viewer Motivation:`\n",
    "\n",
    "https://stackoverflow.com/questions/45177318/in-pandas-is-there-some-compact-way-to-plot-data-across-days-of-the-week\n",
    "\n",
    "`Times Series Plots`\n",
    "\n",
    "https://www.dataquest.io/blog/tutorial-time-series-analysis-with-pandas/\n",
    "\n",
    "https://www.earthdatascience.org/courses/use-data-open-source-python/use-time-series-data-in-python/date-time-types-in-pandas-python/customize-dates-matplotlib-plots-python/\n",
    "\n",
    "https://goodboychan.github.io/chans_jupyter/python/datacamp/time_series_analysis/visualization/2020/06/13/02-Work-with-Multiple-Time-Series.html\n",
    "\n",
    "https://stackoverflow.com/questions/40766909/suggestions-to-plot-overlapping-lines-in-matplotlib"
   ]
  }
 ],
 "metadata": {
  "kernelspec": {
   "display_name": "Python 3",
   "language": "python",
   "name": "python3"
  },
  "language_info": {
   "codemirror_mode": {
    "name": "ipython",
    "version": 3
   },
   "file_extension": ".py",
   "mimetype": "text/x-python",
   "name": "python",
   "nbconvert_exporter": "python",
   "pygments_lexer": "ipython3",
   "version": "3.7.3"
  }
 },
 "nbformat": 4,
 "nbformat_minor": 4
}
