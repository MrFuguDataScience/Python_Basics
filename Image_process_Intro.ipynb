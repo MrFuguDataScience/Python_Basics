{
 "cells": [
  {
   "cell_type": "markdown",
   "metadata": {},
   "source": [
    "# `Image Processing for Newbies: using Python`\n",
    "\n",
    "# <font color=red>Mr Fugu Data Science</font>\n",
    "\n",
    "# (◕‿◕✿)\n",
    "\n",
    "**<font size=5>`Help Support the channel:Patreon @mrfugudatasci`</font>**\n",
    "\n",
    "**<font size=4>`Or Buy Me A Coffee: @mrfugudatasci`</font>**\n",
    "\n",
    "`-------------------------------------`"
   ]
  },
  {
   "cell_type": "code",
   "execution_count": 3,
   "metadata": {},
   "outputs": [],
   "source": [
    "import numpy as np\n",
    "import matplotlib.pyplot as plt\n",
    "import PIL\n",
    "from skimage import io\n",
    "\n",
    "%matplotlib inline"
   ]
  },
  {
   "cell_type": "code",
   "execution_count": null,
   "metadata": {},
   "outputs": [],
   "source": [
    "# Open images"
   ]
  },
  {
   "cell_type": "code",
   "execution_count": null,
   "metadata": {},
   "outputs": [],
   "source": [
    "# rescale"
   ]
  },
  {
   "cell_type": "code",
   "execution_count": null,
   "metadata": {},
   "outputs": [],
   "source": [
    "# opposite rescale???"
   ]
  },
  {
   "cell_type": "code",
   "execution_count": null,
   "metadata": {},
   "outputs": [],
   "source": [
    "# get array info"
   ]
  },
  {
   "cell_type": "code",
   "execution_count": null,
   "metadata": {},
   "outputs": [],
   "source": [
    "# change to gray scale"
   ]
  },
  {
   "cell_type": "code",
   "execution_count": null,
   "metadata": {},
   "outputs": [],
   "source": [
    "# get number of channels"
   ]
  },
  {
   "cell_type": "code",
   "execution_count": null,
   "metadata": {},
   "outputs": [],
   "source": [
    "# filters: "
   ]
  },
  {
   "cell_type": "code",
   "execution_count": null,
   "metadata": {},
   "outputs": [],
   "source": []
  },
  {
   "cell_type": "code",
   "execution_count": null,
   "metadata": {},
   "outputs": [],
   "source": []
  },
  {
   "cell_type": "markdown",
   "metadata": {},
   "source": [
    "# `Citations & Help:`\n",
    "\n",
    "# ◔̯◔\n",
    "\n",
    "https://www.youtube.com/watch?v=CTOURPZftuU\n",
    "\n",
    "https://scipy-lectures.org/advanced/image_processing/\n",
    "\n",
    "https://neptune.ai/blog/image-processing-in-python-algorithms-tools-and-methods-you-should-know\n",
    "\n",
    "https://www.toptal.com/opencv/python-image-processing-in-computational-photography\n",
    "\n",
    "https://www.pythonforengineers.com/image-and-video-processing-in-python/\n",
    "\n",
    "https://www.oreilly.com/library/view/programming-computer-vision/9781449341916/ch01.html\n",
    "\n",
    "https://machinelearningmastery.com/computer-vision-books/\n",
    "\n",
    "https://www.freecodecamp.org/news/how-to-create-generative-art-in-less-than-100-lines-of-code-d37f379859f/\n",
    "\n",
    "https://aiartists.org/ai-generated-art-tools\n",
    "\n",
    "https://www.analyticsvidhya.com/blog/2016/11/creating-an-artificial-artist-color-your-photos-using-neural-networks/\n",
    "\n",
    "https://github.com/luanfujun\n",
    "\n",
    "https://medium.com/mlreview/making-ai-art-with-style-transfer-using-keras-8bb5fa44b216\n",
    "\n",
    "https://staff.fnwi.uva.nl/r.vandenboomgaard/IPCV20172018/20172018/LabExercises/introPython.html\n",
    "\n",
    "https://www.kdnuggets.com/2018/09/image-data-analysis-python-p3.html\n",
    "\n",
    "https://note.nkmk.me/en/python-numpy-image-processing/"
   ]
  },
  {
   "cell_type": "code",
   "execution_count": null,
   "metadata": {},
   "outputs": [],
   "source": []
  }
 ],
 "metadata": {
  "kernelspec": {
   "display_name": "Python 3",
   "language": "python",
   "name": "python3"
  },
  "language_info": {
   "codemirror_mode": {
    "name": "ipython",
    "version": 3
   },
   "file_extension": ".py",
   "mimetype": "text/x-python",
   "name": "python",
   "nbconvert_exporter": "python",
   "pygments_lexer": "ipython3",
   "version": "3.7.3"
  }
 },
 "nbformat": 4,
 "nbformat_minor": 4
}
