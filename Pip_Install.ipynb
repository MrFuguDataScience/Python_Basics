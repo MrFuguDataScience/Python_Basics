{
 "cells": [
  {
   "cell_type": "markdown",
   "id": "087220c8",
   "metadata": {},
   "source": [
    "# `How to Install Pip, Multiple Ways!`\n",
    "\n",
    "# <font color=red>Mr Fugu Data Science</font>\n",
    "\n",
    "# (◕‿◕✿)\n",
    "\n",
    "\n",
    "`Objective:` **`Split into 3 parts: Mac, Linux, PC`**\n",
    "\n",
    "[Python Official Download](https://www.python.org/downloads/)\n",
    "\n",
    "\n",
    "\n",
    "# Please Read This: \n",
    "\n",
    "`If you have an older Operating System you need to make sure that a newer version of Python, Dependencies or similar will work on your machine. Check if your hardware limited as well. Now if you can upgrade your OS or find work arounds do those! This can save you time and frustration learning before updating anything. Just because you can download something doesn't mean it will run properly.`"
   ]
  },
  {
   "cell_type": "markdown",
   "id": "36ffd62d",
   "metadata": {},
   "source": [
    "# <font color =red>MAC</font>\n",
    "\n",
    "\n",
    "# `This is IMPORTANT:`\n",
    "\n",
    "Apple with store your Python LIbraries in 2 locations\n",
    "\n",
    "+ `/Library/Frameworks/Python.framework`\n",
    "\n",
    "+ `/usr/local/bin/`\n",
    "\n",
    "Please don't go around Deleting these or playing with them unless you know what you are doing. Messing up constant paths can have issues with dependencies later and cause headaches. "
   ]
  },
  {
   "cell_type": "markdown",
   "id": "7dd73335",
   "metadata": {},
   "source": [
    "# `Ensure Pip:`\n",
    "*The `ensurepip` package provides support for bootstrapping the pip installer into an **existing** Python installation or virtual environment.* (directly from Python Documenation)\n",
    "\n",
    "Using the Command Line: \n",
    "\n",
    "+ **`python -m ensurepip --upgrade`**\n",
    "\n",
    "This is install and if already present do an upgrade as well\n",
    "\n",
    "+ If you need to change the location of installation:\n",
    "    + **`--root <dir>`** this will install into the root directory, instead of a root venv\n",
    "    + **`--user`** in this case you are installing into a user environment instead of a globally"
   ]
  },
  {
   "cell_type": "markdown",
   "id": "f8e166f8",
   "metadata": {},
   "source": [
    "# `Homebrew Pip Install Mac Only`\n",
    "\n",
    "**`PLEASE Make sure you have`** `Homebrew` **first**, if you don't here you go just paste this in terminal:\n",
    "\n",
    "\n",
    "+ **`/bin/bash -c \"$(curl -fsSL https://raw.githubusercontent.com/Homebrew/install/HEAD/install.sh)\"`**\n",
    "\n",
    "+ Then do this: **`brew install python@3.11`** `for example If you don't have Python` and if you want specifically python 3.11\n",
    "\n",
    "`--------------- No If You Have Homebrew GO Here: ------------------------`\n",
    "\n",
    "**1. )** In the terminal use: **`brew install python`**\n",
    "\n",
    "+ This will install the latest version of Python as well as Pip in one go..\n",
    "\n",
    "**2. )** Then follow up with: **`brew unlink python && brew link python`**\n",
    "\n",
    "+ You are now linking the python to a correct area within your Mac to avoid issues down the road with your path\n",
    "\n",
    "\n",
    "[Homebrew Website & Doc's](https://brew.sh/)\n",
    "\n",
    "\n",
    "# `Updates Using Brew:`\n",
    "\n",
    "+ `Update` Brew Updates the App Programs: **`brew update`**\n",
    "\n",
    "+ `Upgrade`: different because you are updating the actual repository where brew came from **`brew upgrade`**\n",
    "\n",
    "\n",
    "[Brew Breakdown](https://erwinbierens.com/update-homebrew-on-macos/)"
   ]
  },
  {
   "cell_type": "markdown",
   "id": "b9435da5",
   "metadata": {},
   "source": [
    "# `get-pip.py Using cURL`\n",
    "\n",
    "<font color=red>PLEASE READ FIRST</font> \n",
    "\n",
    "**Using this method works but, you need to understand that you may have an inconsistent environment later if you do not do this correctly or understand what is going on!**\n",
    "\n",
    "\n",
    "`-----------------------------------------`\n",
    "\n",
    "+ Use the terminal and paste this: **`curl https://bootstrap.pypa.io/get-pip.py -o get-pip.py`** and press **Enter**\n",
    "\n",
    "+ Then do this: **`python3 get-pip.py`** and press **Enter**\n",
    "\n",
    "So what is going on with this install? How can we undesterstand what we are doing anyway?\n",
    "\n",
    "+ You are installing **`Pip, Install Setup tools`** and **`Wheels`** in the Python enviornment\n",
    "\n",
    "https://github.com/pypa/get-pip\n",
    "\n",
    "`------------------------------------------`\n",
    "\n",
    "# Important Note:\n",
    "\n",
    "+ `If you are using Python managed by your operating system or another package manager when running the above code you need to be cautious` because later down the road you may enocunter issues. This has the potential of inconsistent dependencies later. \n",
    "    + This shouldn't be a concern if you are running a Virtual Environment.\n",
    "\n",
    "`If you decide to run the above as a system wide Python Update or Install Consider this:`\n",
    "\n",
    "+ **`python get-pip.py --prefix=/usr/local/`** because this will allow you to run locally!\n",
    "\n",
    "\n",
    "[Python Doc for Clarification & Help](https://packaging.python.org/en/latest/tutorials/installing-packages/)"
   ]
  },
  {
   "cell_type": "markdown",
   "id": "1f306a67",
   "metadata": {},
   "source": [
    "# `Check Version of Pip`\n",
    "\n",
    "+ In the `terminal`: **`pip --version`**\n",
    "\n",
    "+ Alternate Way: **`python3 -m pip –version`**"
   ]
  },
  {
   "cell_type": "markdown",
   "id": "f9b96f51",
   "metadata": {},
   "source": [
    "# `Update PIP:`\n",
    "\n",
    "+ Input this in terminal and press enter: **`pip install --upgrade pip`**"
   ]
  },
  {
   "cell_type": "markdown",
   "id": "44ad5801",
   "metadata": {},
   "source": [
    "# <font color=red>Linux</font>"
   ]
  },
  {
   "cell_type": "markdown",
   "id": "845b0ac2",
   "metadata": {},
   "source": [
    "# `Ensure Pip:`\n",
    "\n",
    "Open Terminal and input this: **`python3 -m ensurepip --upgrade`**"
   ]
  },
  {
   "cell_type": "markdown",
   "id": "fa964406",
   "metadata": {},
   "source": [
    "# `CentOS/Ubuntu:`\n",
    "\n",
    "Type or Paste this into Command Line: **`python -m pip --version`**"
   ]
  },
  {
   "cell_type": "markdown",
   "id": "13424e60",
   "metadata": {},
   "source": [
    "# `Alternate Version using Sudo:` This is for the `System Download`\n",
    "    \n",
    "+ First Update List of Packages: **`sudo apt update`**  \n",
    "\n",
    "+ Then Install Pip: **`sudo apt install python3-pip -y`**\n",
    "\n",
    "Afterward: **`pip3 --version`** running this will allow you to see what version you have and know it worked\n",
    "\n",
    "Now, if for some reason there are issues with creating a wheel consider: \n",
    "\n",
    "**`sudo apt install python3-pip-whl`**\n"
   ]
  },
  {
   "cell_type": "markdown",
   "id": "475a6414",
   "metadata": {},
   "source": [
    "Red Hat, CentOS, or Fedora: dnf install python3 python3-devel\n",
    "\n",
    "Debian or Ubuntu: apt-get install python3 python3-dev\n",
    "\n",
    "Gentoo: emerge dev-lang/python\n",
    "\n",
    "Arch Linux: pacman -S python3\n",
    "\n",
    "https://wiki.python.org/moin/BeginnersGuide/Download"
   ]
  },
  {
   "cell_type": "code",
   "execution_count": null,
   "id": "6955bb92",
   "metadata": {},
   "outputs": [],
   "source": []
  },
  {
   "cell_type": "markdown",
   "id": "03d7ffdd",
   "metadata": {},
   "source": [
    "# <font color=red>PC</font>"
   ]
  },
  {
   "cell_type": "markdown",
   "id": "c1fb3d9c",
   "metadata": {},
   "source": [
    "\n",
    "\n",
    "[Known Issues with PC & Python Installs](https://docs.python.org/3/using/windows.html)"
   ]
  },
  {
   "cell_type": "code",
   "execution_count": null,
   "id": "1422ca6e",
   "metadata": {},
   "outputs": [],
   "source": []
  },
  {
   "cell_type": "markdown",
   "id": "ae6180c0",
   "metadata": {},
   "source": [
    "# Lastly, Consider a Virtual Environment!\n",
    "\n",
    "This will greatly help you for version control, dependencies and working on different projects or collaborations. You are isolating your environment for consistency and using specific dependencies that other people will have the ability to replicate if they run your code. "
   ]
  },
  {
   "cell_type": "code",
   "execution_count": null,
   "id": "497caf00",
   "metadata": {},
   "outputs": [],
   "source": []
  },
  {
   "cell_type": "markdown",
   "id": "daf830cd",
   "metadata": {},
   "source": [
    "# `Please Like, Share &`<font color=red>Sub</font>scribe\n",
    "\n",
    "# ◔̯◔\n",
    "\n",
    "https://www.groovypost.com/howto/install-pip-on-a-mac/\n",
    "\n",
    "https://phoenixnap.com/kb/install-pip-mac\n",
    "\n",
    "https://github.com/Homebrew/discussions/discussions/476\n",
    "\n",
    "https://geekflare.com/python-pip-installation/\n",
    "\n",
    "https://ehmatthes.github.io/pcc/chapter_12/installing_pip.html\n",
    "\n",
    "https://www.pythoncentral.io/how-to-use-pip-simple-guide-to-install-update-uninstall-packages/"
   ]
  }
 ],
 "metadata": {
  "kernelspec": {
   "display_name": "Python 3 (ipykernel)",
   "language": "python",
   "name": "python3"
  },
  "language_info": {
   "codemirror_mode": {
    "name": "ipython",
    "version": 3
   },
   "file_extension": ".py",
   "mimetype": "text/x-python",
   "name": "python",
   "nbconvert_exporter": "python",
   "pygments_lexer": "ipython3",
   "version": "3.10.9"
  }
 },
 "nbformat": 4,
 "nbformat_minor": 5
}
