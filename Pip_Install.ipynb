{
 "cells": [
  {
   "cell_type": "markdown",
   "id": "cf733b26",
   "metadata": {},
   "source": [
    "# `How to Install Pip, Multiple Ways!`\n",
    "\n",
    "# <font color=red>Mr Fugu Data Science</font>\n",
    "\n",
    "# (◕‿◕✿)"
   ]
  },
  {
   "cell_type": "markdown",
   "id": "9dcb1bc9",
   "metadata": {},
   "source": [
    "# `This is IMPORTANT:`\n",
    "\n",
    "Apple with store your Python LIbraries in 2 locations\n",
    "\n",
    "+ `/Library/Frameworks/Python.framework`\n",
    "\n",
    "+ `/usr/local/bin/`\n",
    "\n",
    "Please don't go around Deleting these or playing with them unless you know what you are doing. Messing up constant paths can have issues with dependencies later and cause headaches. "
   ]
  },
  {
   "cell_type": "markdown",
   "id": "07a49b14",
   "metadata": {},
   "source": [
    "# `Ensure Pip:`\n",
    "*The `ensurepip` package provides support for bootstrapping the pip installer into an existing Python installation or virtual environment.* (directly from Python Documenation)\n",
    "\n",
    "Using the Command Line: \n",
    "\n",
    "+ **`python -m ensurepip --upgrade`**\n",
    "\n",
    "This is install and if already present do an upgrade as well\n",
    "\n",
    "+ If you need to change the location of installation:\n",
    "    + **`--root <dir>`** this will install into the root directory, instead of a root venv\n",
    "    + **`--user`** in this case you are installing into a user environment instead of a globally"
   ]
  },
  {
   "cell_type": "markdown",
   "id": "af3a0b42",
   "metadata": {},
   "source": [
    "# `Homebrew Pip Install Mac Only`\n",
    "\n",
    "**`PLEASE Make sure you have`** `Homebrew` **first**, if you don't here you go just paste this in terminal:\n",
    "\n",
    "\n",
    "+ **`/bin/bash -c \"$(curl -fsSL https://raw.githubusercontent.com/Homebrew/install/HEAD/install.sh)\"`**\n",
    "\n",
    "+ Then do this: **`brew install python@3.11`** `for example If you don't have Python` and if you want specifically python 3.11\n",
    "\n",
    "`--------------- No If You Have Homebrew GO Here: ------------------------`\n",
    "\n",
    "**1. )** In the terminal use: **`brew install python`**\n",
    "\n",
    "+ This will install the latest version of Python as well as Pip in one go..\n",
    "\n",
    "**2. )** Then follow up with: **`brew unlink python && brew link python`**\n",
    "\n",
    "+ You are now linking the python to a correct area within your Mac to avoid issues down the road with your path\n",
    "\n",
    "\n",
    "[Homebrew Website & Doc's](https://brew.sh/)\n",
    "\n",
    "\n",
    "# `Updates Using Brew:`\n",
    "\n",
    "+ `Update` Brew Updates the App Programs: **`brew update`**\n",
    "\n",
    "+ `Upgrade`: different because you are updating the actual repository where brew came from **`brew upgrade`**\n",
    "\n",
    "\n",
    "[Brew Breakdown](https://erwinbierens.com/update-homebrew-on-macos/)"
   ]
  },
  {
   "cell_type": "markdown",
   "id": "19bf8867",
   "metadata": {},
   "source": [
    "# `Natural Install Using CURL`\n",
    "\n",
    "+ Use the terminal and paste this: **`curl https://bootstrap.pypa.io/get-pip.py -o get-pip.py`** and press **Enter**\n",
    "\n",
    "+ Then do this: **`python3 get-pip.py`** and press **Enter**\n",
    "\n",
    "So what is going on with this install? How can we undesterstand what we are doing anyway?\n",
    "\n",
    "+ You are installing **`PiP, Install Setup tools`** and **`Wheels`** in the Python enviornment\n",
    "\n",
    "https://github.com/pypa/get-pip"
   ]
  },
  {
   "cell_type": "markdown",
   "id": "73e4a5d1",
   "metadata": {},
   "source": [
    "# `Check Version of Pip`\n",
    "\n",
    "+ In the `terminal`: **`pip --version`**\n",
    "\n",
    "+ Alternate Way: **`python3 -m pip –version`**"
   ]
  },
  {
   "cell_type": "markdown",
   "id": "5ab38e37",
   "metadata": {},
   "source": [
    "# `Update PIP:`\n",
    "\n",
    "+ Input this in terminal and press enter: **`pip install --upgrade pip`**"
   ]
  },
  {
   "cell_type": "code",
   "execution_count": null,
   "id": "9c958a1d",
   "metadata": {},
   "outputs": [],
   "source": []
  },
  {
   "cell_type": "code",
   "execution_count": null,
   "id": "469b97eb",
   "metadata": {},
   "outputs": [],
   "source": []
  },
  {
   "cell_type": "markdown",
   "id": "41d67e2d",
   "metadata": {},
   "source": [
    "# `Please Like, Share &`<font color=red>Sub</font>scribe\n",
    "\n",
    "# ◔̯◔\n",
    "\n",
    "https://www.groovypost.com/howto/install-pip-on-a-mac/\n",
    "\n",
    "https://phoenixnap.com/kb/install-pip-mac\n",
    "\n",
    "https://github.com/Homebrew/discussions/discussions/476"
   ]
  }
 ],
 "metadata": {
  "kernelspec": {
   "display_name": "Python 3 (ipykernel)",
   "language": "python",
   "name": "python3"
  },
  "language_info": {
   "codemirror_mode": {
    "name": "ipython",
    "version": 3
   },
   "file_extension": ".py",
   "mimetype": "text/x-python",
   "name": "python",
   "nbconvert_exporter": "python",
   "pygments_lexer": "ipython3",
   "version": "3.10.9"
  }
 },
 "nbformat": 4,
 "nbformat_minor": 5
}
