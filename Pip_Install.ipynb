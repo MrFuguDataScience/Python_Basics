{
 "cells": [
  {
   "cell_type": "markdown",
   "id": "ec3c89c1",
   "metadata": {},
   "source": [
    "# `How to Install Pip, Multiple Ways!`\n",
    "\n",
    "# <font color=red>Mr Fugu Data Science</font>\n",
    "\n",
    "# (◕‿◕✿)\n",
    "\n",
    "\n",
    "`Objective:` **`Split into 3 parts: Mac, Linux, PC`**\n",
    "\n",
    "[Python Official Download](https://www.python.org/downloads/)\n",
    "\n",
    "\n",
    "\n",
    "# Please Read This: \n",
    "\n",
    "`If you have an older Operating System you need to make sure that a newer version of Python, Dependencies or similar will work on your machine. Check if your hardware limited as well. Now if you can upgrade your OS or find work arounds do those! This can save you time and frustration learning before updating anything. Just because you can download something doesn't mean it will run properly.`"
   ]
  },
  {
   "cell_type": "markdown",
   "id": "513a73b3",
   "metadata": {},
   "source": [
    "# `Clarify Miss Information About Python & Pip:`\n",
    "\n",
    "+ `If Python` was **`downloaded from SOURCE`** such as `Python.org or Homebrew`, then **`Pip should be installed`**\n",
    "\n",
    "+ **Linux**: `if using an OS Package Manager you may need to install Pip separately`\n",
    "\n",
    "\n",
    "https://packaging.python.org/en/latest/tutorials/installing-packages/\n",
    "\n",
    "\n",
    "`--------------------------------------------------`\n",
    "\n",
    "# `What is Pip?`\n",
    "+ a package manager for Python that installs external packages or dependencies via command line\n",
    "\n",
    "[Good Read from RealPython](https://realpython.com/what-is-pip/)"
   ]
  },
  {
   "cell_type": "markdown",
   "id": "917c6a54",
   "metadata": {},
   "source": [
    "# <font color =red>MAC</font>\n",
    "\n",
    "\n",
    "# `This is IMPORTANT:`\n",
    "\n",
    "Apple will store your Python LIbraries in 2 locations\n",
    "\n",
    "+ `/Library/Frameworks/Python.framework`\n",
    "\n",
    "+ `/usr/local/bin/`\n",
    "\n",
    "Please don't go around Deleting these or playing with them unless you know what you are doing. Messing up constant paths can have issues with dependencies later and cause headaches. "
   ]
  },
  {
   "cell_type": "markdown",
   "id": "59913c31",
   "metadata": {},
   "source": [
    "# `Ensure Pip:`\n",
    "*The `ensurepip` package provides support for bootstrapping the pip installer into an **existing** Python installation or virtual environment.* (directly from Python Documenation)\n",
    "\n",
    "Using the Command Line: \n",
    "\n",
    "+ **`python -m ensurepip --upgrade`**\n",
    "\n",
    "This is install and if already present do an upgrade as well\n",
    "\n",
    "+ If you need to change the location of installation:\n",
    "    + **`--root <dir>`** this will install into the root directory, instead of a root venv\n",
    "    + **`--user`** in this case you are installing into a user environment instead of a globally\n",
    "    \n",
    "    \n",
    "`----------------------------------------------`"
   ]
  },
  {
   "cell_type": "markdown",
   "id": "d0478d2b",
   "metadata": {},
   "source": [
    "# `Homebrew Pip Install Mac Only`\n",
    "\n",
    "+ Homebrew is a package manager for Mac allowing you to download and install package, manage your command line tools\n",
    "\n",
    "+ Since this is a package manager, building from source is not needed\n",
    "\n",
    "\n",
    "# <font color = red>PLEASE Make sure you have</font> `Homebrew` **`first`**, if you don't paste this in terminal:\n",
    "\n",
    "`---------------------- In The Terminal Cut & Paste If You DO NOT HAVE Homebrew ----------------------------`\n",
    "\n",
    "+ **`/bin/bash -c \"$(curl -fsSL https://raw.githubusercontent.com/Homebrew/install/HEAD/install.sh)\"`**\n",
    "\n",
    "+ Then do this: **`brew install python@3.11`** `for example If you don't have Python` and if you want specifically python 3.11\n",
    "\n",
    "# <font color=red>IF You Have Homebrew Go Here: </font>\n",
    "\n",
    "`----------------------- Now If You Have Homebrew GO Here: ------------------------`\n",
    "\n",
    "**1. )** In the terminal use: **`brew install python`**\n",
    "\n",
    "+ This will install the latest version of Python as well as Pip in one go..\n",
    "\n",
    "**2. )** Then follow up with: **`brew unlink python && brew link python`**\n",
    "\n",
    "+ You are now linking the python to a correct area within your Mac to avoid issues down the road with your path\n",
    "\n",
    "\n",
    "[Homebrew Website & Doc's](https://brew.sh/)\n",
    "\n",
    "\n",
    "# `Updates Using Brew:`\n",
    "\n",
    "+ `Update` Brew Updates the App Programs: **`brew update`**\n",
    "\n",
    "+ `Upgrade`: different because you are updating the actual repository where brew came from **`brew upgrade`**\n",
    "\n",
    "\n",
    "[Brew Breakdown](https://erwinbierens.com/update-homebrew-on-macos/)"
   ]
  },
  {
   "cell_type": "markdown",
   "id": "8801e644",
   "metadata": {},
   "source": [
    "# `get-pip.py Using cURL`\n",
    "\n",
    "<font color=red>PLEASE READ FIRST</font> \n",
    "\n",
    "**Using this method works but,** you need to understand that you **may have an inconsistent environment later if you do not do this correctly** or understand what is going on!\n",
    "\n",
    "\n",
    "`---------------------------- OPEN YOUR Terminal -------------------------------`\n",
    "\n",
    "+ Use the terminal and paste this: **`curl https://bootstrap.pypa.io/get-pip.py -o get-pip.py`** and press **Enter**\n",
    "\n",
    "+ Then do this: **`python3 get-pip.py`** and press **Enter**\n",
    "\n",
    "So what is going on with this install? How can we undesterstand what we are doing anyway?\n",
    "\n",
    "+ You are installing **`Pip, Install Setup tools`** and **`Wheels`** in the Python enviornment\n",
    "\n",
    "https://github.com/pypa/get-pip\n",
    "\n",
    "`------------------------------------------`\n",
    "\n",
    "**`What is this form of distribution above?`**\n",
    "\n",
    "+ Aside from the Python.org downloads and package distributions, there are 3rd party developers who created `Python Package Index which is found at pipy.org`\n",
    "+ The bootstraping started use as of Python 3.4 as an independent installation\n",
    "\n",
    "`------------------------------------------`\n",
    "\n",
    "# Important Note:\n",
    "\n",
    "+ `If you are using Python managed by your operating system or another package manager when running the above code you need to be cautious` because later down the road you may enocunter issues. This has the potential of inconsistent dependencies later. \n",
    "    + This shouldn't be a concern if you are running a Virtual Environment.\n",
    "\n",
    "`If you decide to run the above as a system wide Python Update or Install Consider this:`\n",
    "\n",
    "+ **`python get-pip.py --prefix=/usr/local/`** because this will allow you to run locally!\n",
    "\n",
    "\n",
    "[Python Doc for Clarification & Help](https://packaging.python.org/en/latest/tutorials/installing-packages/)"
   ]
  },
  {
   "cell_type": "markdown",
   "id": "827693c8",
   "metadata": {},
   "source": [
    "# `Check Version of Pip`\n",
    "\n",
    "+ In the `terminal`: **`pip --version`**\n",
    "\n",
    "+ Alternate Way: **`python3 -m pip –version`**"
   ]
  },
  {
   "cell_type": "markdown",
   "id": "416607a8",
   "metadata": {},
   "source": [
    "# `Update PIP:`\n",
    "\n",
    "+ Input this in terminal and press enter: **`pip install --upgrade pip`**\n",
    "\n",
    "\n",
    "`----------------------------------------`"
   ]
  },
  {
   "cell_type": "markdown",
   "id": "efe837a2",
   "metadata": {},
   "source": [
    "# <font color=red>Linux</font>"
   ]
  },
  {
   "cell_type": "markdown",
   "id": "81091aff",
   "metadata": {},
   "source": [
    "# `Ensure Pip:`\n",
    "\n",
    "Open Terminal and input this: **`python3 -m ensurepip --upgrade`**"
   ]
  },
  {
   "cell_type": "markdown",
   "id": "1ff64604",
   "metadata": {},
   "source": [
    "# `CentOS/Ubuntu:`\n",
    "\n",
    "Type or Paste this into Command Line: **`python -m pip --version`**"
   ]
  },
  {
   "cell_type": "markdown",
   "id": "bce99448",
   "metadata": {},
   "source": [
    "# `Alternate Version using Sudo:` This is for the `System Download`\n",
    "\n",
    "+ Assuming you have Python already on your system\n",
    "    \n",
    "    + First Update List of Packages: **`sudo apt update`**  \n",
    "\n",
    "    + Then Install Pip: **`sudo apt install python3-pip -y`**\n",
    "\n",
    "Afterward: **`pip3 --version`** running this will allow you to see what version you have and know it worked\n",
    "\n",
    "Now, if for some reason there are issues with creating a wheel consider: \n",
    "\n",
    "**`sudo apt install python3-pip-whl`**\n"
   ]
  },
  {
   "cell_type": "markdown",
   "id": "5d226b77",
   "metadata": {},
   "source": [
    "# `Alternate Linux Distributions:`\n",
    "\n",
    "\n",
    "\n",
    "+ `Red Hat, CentOS, or Fedora`: **`sudo dnf install python3 python3-devel python3-wheel`**\n",
    "    + Centos: you may need to also get the wheels using `python3-wheel` as above\n",
    "    \n",
    "\n",
    "+ `Debian 11 or Ubuntu`: **`sudo apt-get install python3 python3-dev`** (If you don't have python3)\n",
    "    + Update: `sudo apt update`\n",
    "    + Install Virtual Env. & Pip:  `sudo apt install python3-venv python3-pip`\n",
    "        + As of 2021 Python.org documentation says that `Debian/Ubuntu` are using a default User preference for downloading. \n",
    "\n",
    "+ `Gentoo`: **`emerge dev-lang/python`**\n",
    "\n",
    "+ `Arch Linux`: **`pacman -S python3`**\n",
    "\n",
    "https://wiki.python.org/moin/BeginnersGuide/Download\n",
    "\n",
    "https://geekflare.com/python-pip-installation/\n",
    "\n",
    "https://packaging.python.org/en/latest/guides/installing-using-linux-tools/#debian-ubuntu\n",
    "\n",
    "https://cloudinfrastructureservices.co.uk/how-to-install-python-3-in-debian-11-10/\n",
    "\n",
    "https://docs.aws.amazon.com/elasticbeanstalk/latest/dg/eb-cli3-install-linux.html"
   ]
  },
  {
   "cell_type": "markdown",
   "id": "153d932d",
   "metadata": {},
   "source": [
    "# `Clarifying Something:` \n",
    "\n",
    "+ Your system may have 2 versions of Python (System Wide and then you may have a VenV) so how do we deal with this?\n",
    "    + You are able to do 2 different installs such as\n",
    "    \n",
    "**1. )**\n",
    "    \n",
    "**2. )**"
   ]
  },
  {
   "cell_type": "code",
   "execution_count": null,
   "id": "5d3c2707",
   "metadata": {},
   "outputs": [],
   "source": []
  },
  {
   "cell_type": "markdown",
   "id": "b8fded83",
   "metadata": {},
   "source": [
    "# <font color=red>PC \"Windows\":</font>\n",
    "\n",
    "------ **Before you move on:** ------\n",
    "\n",
    "**`1.)`** Make sure `you have` Python installed\n",
    "+ Type this in command line: `python --version` or `py --version`\n",
    "\n",
    "**`2.)`** Check to make sure Pip is `NOT` installed\n",
    "+ `pip -V` or `pip --version`\n",
    "\n",
    "`-----------------------------`\n",
    "\n",
    "*Python from source ( 3.4 or newer ) comes with Pip installed but if you are installed separate you have a few options*"
   ]
  },
  {
   "cell_type": "markdown",
   "id": "70c30674",
   "metadata": {},
   "source": [
    "\n",
    "\n",
    "[Known Issues with PC & Python Installs](https://docs.python.org/3/using/windows.html)"
   ]
  },
  {
   "cell_type": "markdown",
   "id": "70159bca",
   "metadata": {},
   "source": [
    "\n",
    "1.) `Check if you have Pip in command line`: **`py -m pip --version`**\n",
    "\n",
    "2.) \n",
    "\n",
    "\n",
    "\n",
    "Good Reference to help you Windows 11 & 10: https://www.alphr.com/install-pip-windows/\n",
    "\n",
    "\n",
    "`------------------------------------`"
   ]
  },
  {
   "cell_type": "markdown",
   "id": "f6dda7cc",
   "metadata": {},
   "source": [
    "# Lastly, Consider a Virtual Environment!\n",
    "\n",
    "This will greatly help you for version control, dependencies and working on different projects or collaborations. You are isolating your environment for consistency and using specific dependencies that other people will have the ability to replicate if they run your code. \n",
    "\n",
    "[Medium Article Anaconda Virtual Environment](https://towardsdatascience.com/beginner-friendly-virtual-environment-management-anaconda-pycharm-36178e20129f#:~:text=Anaconda%20for%20Virtual%20Environment%20Management&text=So%20I'll%20offer%20a,science%20and%20machine%20learning%20community)"
   ]
  },
  {
   "cell_type": "markdown",
   "id": "d18f58e5",
   "metadata": {},
   "source": [
    "# `Please Like, Share &`<font color=red>Sub</font>scribe\n",
    "\n",
    "# ◔̯◔\n",
    "\n",
    "https://medium.com/codex/why-you-should-upgrade-now-all-the-new-goodness-in-python-3-11-998d8c31efb5 (updating Python various platforms)\n",
    "\n",
    "https://www.groovypost.com/howto/install-pip-on-a-mac/\n",
    "\n",
    "https://phoenixnap.com/kb/install-pip-mac\n",
    "\n",
    "https://github.com/Homebrew/discussions/discussions/476\n",
    "\n",
    "https://geekflare.com/python-pip-installation/\n",
    "\n",
    "https://ehmatthes.github.io/pcc/chapter_12/installing_pip.html\n",
    "\n",
    "https://www.pythoncentral.io/how-to-use-pip-simple-guide-to-install-update-uninstall-packages/\n",
    "\n",
    "https://erwinbierens.com/update-homebrew-on-macos/\n",
    "\n",
    "`PC Related:`\n",
    "\n",
    "\n",
    "https://www.activestate.com/resources/quick-reads/how-to-install-pip-on-windows/\n",
    "\n",
    "https://www.geeksforgeeks.org/how-to-install-pip-on-windows/\n",
    "\n",
    "https://www.dataquest.io/blog/install-pip-windows/\n",
    "\n",
    "https://www.partitionwizard.com/partitionmanager/install-pip.html\n",
    "\n",
    "`Linux:`\n",
    "\n",
    "https://linuxhandbook.com/install-pip-debian/"
   ]
  }
 ],
 "metadata": {
  "kernelspec": {
   "display_name": "Python 3 (ipykernel)",
   "language": "python",
   "name": "python3"
  },
  "language_info": {
   "codemirror_mode": {
    "name": "ipython",
    "version": 3
   },
   "file_extension": ".py",
   "mimetype": "text/x-python",
   "name": "python",
   "nbconvert_exporter": "python",
   "pygments_lexer": "ipython3",
   "version": "3.10.9"
  }
 },
 "nbformat": 4,
 "nbformat_minor": 5
}
