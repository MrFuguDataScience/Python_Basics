{
 "cells": [
  {
   "cell_type": "markdown",
   "metadata": {},
   "source": [
    "# <font color=red>Python Profiling:</font> *`(using the right tool for the situation)`*\n",
    "\n",
    "# *`Mr Fugu Data Science`*\n",
    "\n",
    "# (◕‿◕✿)\n",
    "\n",
    "*Motivation*: `wouldn't it be better to see what the bottle neck is: instead of getting an estimate or theoretical idea?`"
   ]
  },
  {
   "cell_type": "markdown",
   "metadata": {},
   "source": [
    "+ If you have a program with a function that takes say 10 minutes to run, is this 30% or 90% of the total run time?\n",
    "    + It would serve us to check if our code is inefficient. But, without experience or guidance how would you know in the first place you have terribly slow or poorly written code?\n",
    "    \n",
    "*`Stepping back and doing a few things will aid in our inspection.`*\n",
    "\n",
    "`1.)` Investigate the run time of our program\n",
    "\n",
    "* Get a baseline of what we are dealing with\n",
    "\n",
    "`2.)` Then find functions that may be holding us back\n",
    "\n",
    "`3.)` If you need a more granular approach consider a line by line search when you start to narrow down areas\n",
    "\n",
    "\n",
    "**Before we move on, there is something we should really consider: You have times where you may have blocks of code which have dependency on other pieces of code. Therefore, complicating how your program runs. This may cause extra function calls, slow you down or make it hard to find a reference.**\n",
    "+ Do not think that because something is called often that it is bogging everything down\n",
    "+ Understand you may want to exclude from profiling the startup of a program or initial overhead\n",
    "+ Optimizing code isn't always a good bet due to maintaining, keeping stable or readablility\n",
    "\n",
    "\n",
    "# `Benchmarking:` \n",
    "\n",
    "+ *`running a program many times and measuring time to complete each run of your program!`*"
   ]
  },
  {
   "cell_type": "markdown",
   "metadata": {},
   "source": [
    "# **`Profiling:`**\n",
    "\n",
    "+ Consider `profiling` as evaluating the time or memory used for a program, function or even a line of code and figuring out the resources it is occupying.  \n",
    "    + One thing we can consider: number of function calls. If you notice something called frequently take note but this in itself doesn't always declare an issue to resolve.\n",
    "    \n",
    "\n",
    "`Two types of Profiling:`\n",
    "\n",
    "+ **Deterministic:**\n",
    "    * monitoring events, **`while being accurate will have an effect on performance overhead`**. This would be `better run on small functions or operations`.\n",
    "    + Think of it like this: if you put the same inputs you will get the same outputs\n",
    "\n",
    "+ **Statistical:**\n",
    "    * **`Less accurate but also uses fewer overhead`** resources by taking samples.\n",
    "    \n",
    "Something really useful and pretty cool is the (Call Graph) look into **gprof2dot** for example. It will `convert your script into a graph` like structure showing what functions are calling each other.\n",
    "\n",
    "\n",
    "# `Other Tools:`\n",
    "\n",
    "    + vprof\n",
    "    + pyflame\n",
    "    + stackImpact\n",
    "    \n",
    "https://medium.com/@antoniomdk1/hpc-with-python-part-1-profiling-1dda4d172cdf"
   ]
  },
  {
   "cell_type": "markdown",
   "metadata": {},
   "source": [
    "# `Native Python Profiling examples:` \n",
    "\n",
    "+ **`Timeit:`** benchmark code blocks or lines of code\n",
    "    + Not used on entire program\n",
    "    + Code needs to be isolated\n",
    "    \n",
    "+ **`Cprofile:`** runs on entire program\n",
    "    + evaluates each funcation call, then gives average time for those calls and a list of most frequent\n",
    "        + Downside: high overhead, do not use this for production work! Consider, only for development.\n",
    "\n",
    "+ **`Time:`** just a stop watch \n",
    "    + not able to run an entire program \n",
    "    \n",
    "* `If you have code that may take some time use`: `time` instead for a speed up but lose some accuracy    \n",
    "\n",
    "[external resources](https://www.infoworld.com/article/3600993/9-nifty-libraries-for-profiling-python-code.html)"
   ]
  },
  {
   "cell_type": "markdown",
   "metadata": {},
   "source": [
    "+  **`Always, consider what your 'profiler' is measuring to get an idea of if it is best for your circumstance!`</font>**"
   ]
  },
  {
   "cell_type": "markdown",
   "metadata": {},
   "source": [
    "# `Time:` *measuring the time for our code in a single run*\n",
    "\n",
    "[Good Time Resource](https://realpython.com/python-time-module/) | [Python Doc for Time](https://docs.python.org/3/library/time.html)\n",
    "\n",
    "# `Ex.)`\n",
    "\n",
    "`from time import time`\n",
    "\n",
    "`start_time = time()`\n",
    "\n",
    "`your code here`\n",
    "\n",
    "`end_time = time()`\n",
    "\n",
    "`print(f'It took {end_time - start_time} this many seconds!')`"
   ]
  },
  {
   "cell_type": "markdown",
   "metadata": {},
   "source": [
    "`--------------------------------------------------`"
   ]
  },
  {
   "cell_type": "markdown",
   "metadata": {},
   "source": [
    "# `TimeIT:` *execution time over multiple passes \"runs\"*\n",
    "\n",
    "`timeit.timeit(stmt = pass, setup= pass, timer = 'default timer', number=?)`\n",
    "\n",
    "+ `stmt():` piece of code to measure the time for\n",
    "+ `setup():` code that will run before calling the `stmt`, something like imports, etc\n",
    "+ `timer:` this has a default timer and really you don't need to adjust\n",
    "+ `number:` the amount of passes you desire"
   ]
  },
  {
   "cell_type": "code",
   "execution_count": 17,
   "metadata": {},
   "outputs": [
    {
     "name": "stdout",
     "output_type": "stream",
     "text": [
      "What we are aiming to measure 10k times: 0-1-2-3-4-5-6-7-8-9-10-11-12-13-14-15-16-17-18-19-20-21-22-23-24-25-26-27-28-29-30-31-32-33-34-35-36-37-38-39-40-41-42-43-44-45-46-47-48-49-50-51-52-53-54-55-56-57-58-59-60-61-62-63-64-65-66-67-68-69-70-71-72-73-74-75-76-77-78-79-80-81-82-83-84-85-86-87-88-89-90-91-92-93-94-95-96-97-98-99\n",
      "\n",
      "\n",
      "------------ Compare Various String Join Loops for Time executed -------------\n",
      "\n",
      "\n",
      "Loop: 0.36799254800007475\n",
      "List comprehension: 0.27392371499990986\n",
      "Using Map: 0.20632422399967254\n",
      "Lambda with Map: 0.22572984399994311\n"
     ]
    }
   ],
   "source": [
    "# Ex.) Let's try 4 different loops and see what is faster as an example (From Python Documentation)\n",
    "# https://docs.python.org/3/library/timeit.html\n",
    "\n",
    "import timeit\n",
    "\n",
    "print('What we are aiming to measure 10k times:',\"-\".join(str(n) for n in range(100)))\n",
    "print('\\n')\n",
    "print('------------ Compare Various String Join Loops for Time executed -------------')\n",
    "print('\\n')\n",
    "print('Loop:',timeit.timeit('\"-\".join(str(n) for n in range(100))', number=10000))\n",
    "\n",
    "print('List comprehension:',timeit.timeit('\"-\".join([str(n) for n in range(100)])', number=10000))\n",
    "\n",
    "print('Using Map:',timeit.timeit('\"-\".join(map(str, range(100)))', number=10000))\n",
    "\n",
    "print('Lambda with Map:',timeit.timeit(lambda: \"-\".join(map(str, range(100))), number=10000))"
   ]
  },
  {
   "cell_type": "markdown",
   "metadata": {},
   "source": [
    "**`Lastly, if you are using long running calls consider %time instead of %timeit. While it is less precise it is faster`**\n",
    "\n",
    "*https://scipy-lectures.org/advanced/optimizing/index.html*\n",
    "\n",
    "`___________________________________________________`\n",
    "\n",
    "\n",
    "# `Cprofile:` *Measures wall clock time, think of this as elapsed time*\n",
    "\n",
    "+ Consider it as if we are measuring the time for a function to run\n",
    "    + `You are NOT looking at every line of code!`\n",
    "        + In that case you would need to do something else like a `line profiler`\n",
    "+ *Deterministic*\n",
    "\n",
    "\n",
    "`Side Note: (Use profile instead of cProfile if the latter is not available on your system) from Python Docs`\n",
    "[Python Doc Cprofile](https://docs.python.org/3/library/profile.html)\n",
    "\n",
    "* But, `profile` alone is written in Python not as a C extension"
   ]
  },
  {
   "cell_type": "markdown",
   "metadata": {},
   "source": [
    "# `EX.)`\n",
    "\n",
    "Your basic old script you call in the interpretor:\n",
    "\n",
    "`$ python3 some_file.py`\n",
    "\n",
    "If you would like to use Cprofile\n",
    "\n",
    "`$ python3 -m cprofile some_file.py`\n",
    "\n",
    "Or Another example:\n",
    "\n",
    "`python -m cProfile -s tottime some_program.py`\n",
    "\n",
    "* This will give us a printout of the `-s tottime` which will be a sorted table of total time for each element\n",
    "    + anything near the top is what you focus on changing/optimizing if possible.\n",
    "    \n",
    "    \n",
    "# `Ex.) `\n",
    "\n",
    "+ If you would like to run the code on a block instead of the entire program, you can encapsulate everything:\n",
    "\n",
    "`import cProfile`\n",
    "\n",
    "`cp = cProfile.Profile()`\n",
    "\n",
    "`cp.enable()`\n",
    "\n",
    "and here is your code you want to profile between\n",
    "\n",
    "`cp.disable()`\n",
    "\n",
    "`cp.print_stats()`\n",
    "\n",
    "\n",
    "\n",
    "**'code snippet from Toucan Toco, link below!'**\n",
    "\n",
    "\n",
    "[command line flags & similar](https://www.ibm.com/docs/en/aix/7.1?topic=names-command-parameters) | [beginner command line flags](https://jgefroh.medium.com/a-beginners-guide-to-linux-command-line-56a8004e2471)\n",
    "\n",
    "* `There is an issue that you need to consider: the printout of this will generate a table containing the functions called. We have no idea of relationship to each other; such as dependency`\n",
    "\n",
    "# <font color=red>Cons</font>: \n",
    "\n",
    "**`1.) Large overhead\n",
    "2.) Printout of each function represented by a line\n",
    "3.) Real world use will be an issue and you should expect slower results\n",
    "4.) Very important note: you may have slow code for a specific function and you can also have a function slow for specific inputs!`**\n",
    "\n",
    "# `Two options for Cprofile:`\n",
    "+ Eliot: [Eliot_profiler](https://eliot.readthedocs.io/en/stable/)\n",
    "+ Pyinstrument: [Pyinstrument_github](https://github.com/joerick/pyinstrument/)"
   ]
  },
  {
   "cell_type": "code",
   "execution_count": 19,
   "metadata": {},
   "outputs": [
    {
     "name": "stdout",
     "output_type": "stream",
     "text": [
      "         287 function calls (285 primitive calls) in 0.001 seconds\n",
      "\n",
      "   Ordered by: standard name\n",
      "\n",
      "   ncalls  tottime  percall  cumtime  percall filename:lineno(function)\n",
      "        1    0.000    0.000    0.000    0.000 <__array_function__ internals>:2(copyto)\n",
      "        4    0.000    0.000    0.000    0.000 <frozen importlib._bootstrap>:1009(_handle_fromlist)\n",
      "        1    0.000    0.000    0.001    0.001 <string>:1(<module>)\n",
      "        1    0.000    0.000    0.000    0.000 _dtype.py:319(_name_includes_bit_suffix)\n",
      "        1    0.000    0.000    0.000    0.000 _dtype.py:333(_name_get)\n",
      "        1    0.000    0.000    0.000    0.000 _dtype.py:36(_kind_name)\n",
      "        5    0.000    0.000    0.000    0.000 abc.py:137(__instancecheck__)\n",
      "        1    0.000    0.000    0.000    0.000 base.py:1186(name)\n",
      "        4    0.000    0.000    0.000    0.000 base.py:247(is_dtype)\n",
      "        1    0.000    0.000    0.000    0.000 base.py:5388(default_index)\n",
      "        3    0.000    0.000    0.000    0.000 base.py:5394(maybe_extract_name)\n",
      "        1    0.000    0.000    0.000    0.000 base.py:592(_reset_identity)\n",
      "        1    0.000    0.000    0.000    0.000 blocks.py:118(__init__)\n",
      "        1    0.000    0.000    0.000    0.000 blocks.py:129(_check_ndim)\n",
      "        1    0.000    0.000    0.000    0.000 blocks.py:247(mgr_locs)\n",
      "        1    0.000    0.000    0.000    0.000 blocks.py:251(mgr_locs)\n",
      "        1    0.000    0.000    0.000    0.000 blocks.py:2585(__init__)\n",
      "        1    0.000    0.000    0.000    0.000 blocks.py:2975(get_block_type)\n",
      "        1    0.000    0.000    0.000    0.000 blocks.py:3021(make_block)\n",
      "        1    0.000    0.000    0.000    0.000 cast.py:1111(maybe_infer_to_datetimelike)\n",
      "        1    0.000    0.000    0.000    0.000 cast.py:1218(maybe_cast_to_datetime)\n",
      "        1    0.000    0.000    0.000    0.000 cast.py:1467(construct_1d_object_array_from_listlike)\n",
      "        1    0.000    0.000    0.000    0.000 cast.py:70(maybe_convert_platform)\n",
      "        4    0.000    0.000    0.000    0.000 common.py:1565(is_extension_array_dtype)\n",
      "        3    0.000    0.000    0.000    0.000 common.py:1708(_is_dtype_type)\n",
      "        2    0.000    0.000    0.000    0.000 common.py:179(ensure_python_int)\n",
      "        1    0.000    0.000    0.000    0.000 common.py:1844(pandas_dtype)\n",
      "        1    0.000    0.000    0.000    0.000 common.py:188(all_none)\n",
      "        2    0.000    0.000    0.000    0.000 common.py:192(<genexpr>)\n",
      "        3    0.000    0.000    0.000    0.000 common.py:206(classes)\n",
      "        3    0.000    0.000    0.000    0.000 common.py:208(<lambda>)\n",
      "        3    0.000    0.000    0.000    0.000 common.py:222(is_object_dtype)\n",
      "        1    0.000    0.000    0.000    0.000 common.py:252(is_sparse)\n",
      "        1    0.000    0.000    0.000    0.000 common.py:280(maybe_iterable_to_list)\n",
      "        1    0.000    0.000    0.000    0.000 common.py:339(is_categorical)\n",
      "        1    0.000    0.000    0.000    0.000 common.py:403(is_datetime64tz_dtype)\n",
      "        1    0.000    0.000    0.000    0.000 common.py:472(is_period_dtype)\n",
      "        1    0.000    0.000    0.000    0.000 common.py:506(is_interval_dtype)\n",
      "        1    0.000    0.000    0.000    0.000 common.py:542(is_categorical_dtype)\n",
      "        1    0.000    0.000    0.000    0.000 construction.py:337(extract_array)\n",
      "        1    0.000    0.000    0.000    0.000 construction.py:388(sanitize_array)\n",
      "        1    0.000    0.000    0.000    0.000 construction.py:570(is_empty_data)\n",
      "        1    0.000    0.000    0.000    0.000 dtypes.py:1124(is_dtype)\n",
      "        4    0.000    0.000    0.000    0.000 dtypes.py:75(find)\n",
      "        1    0.000    0.000    0.000    0.000 dtypes.py:917(is_dtype)\n",
      "       28    0.000    0.000    0.000    0.000 generic.py:10(_check)\n",
      "        1    0.000    0.000    0.000    0.000 generic.py:190(__init__)\n",
      "        1    0.000    0.000    0.000    0.000 generic.py:5257(__getattr__)\n",
      "        1    0.000    0.000    0.000    0.000 generic.py:5276(__setattr__)\n",
      "        1    0.000    0.000    0.000    0.000 inference.py:299(is_dict_like)\n",
      "        3    0.000    0.000    0.000    0.000 inference.py:325(<genexpr>)\n",
      "        4    0.000    0.000    0.000    0.000 inference.py:358(is_hashable)\n",
      "        1    0.000    0.000    0.000    0.000 managers.py:1467(__init__)\n",
      "        1    0.000    0.000    0.000    0.000 multiarray.py:1043(copyto)\n",
      "        1    0.000    0.000    0.000    0.000 numeric.py:155(is_all_dates)\n",
      "        1    0.000    0.000    0.000    0.000 numeric.py:283(full)\n",
      "        1    0.000    0.000    0.000    0.000 numeric.py:83(_validate_dtype)\n",
      "        1    0.000    0.000    0.000    0.000 range.py:131(_simple_new)\n",
      "        2    0.000    0.000    0.000    0.000 range.py:675(__len__)\n",
      "        1    0.000    0.000    0.000    0.000 range.py:83(__new__)\n",
      "        1    0.000    0.000    0.001    0.001 series.py:183(__init__)\n",
      "        1    0.000    0.000    0.000    0.000 series.py:376(_set_axis)\n",
      "        1    0.000    0.000    0.000    0.000 series.py:403(_set_subtyp)\n",
      "        1    0.000    0.000    0.000    0.000 series.py:428(name)\n",
      "        1    0.000    0.000    0.000    0.000 series.py:432(name)\n",
      "        1    0.000    0.000    0.000    0.000 {built-in method __new__ of type object at 0x10cf96778}\n",
      "        5    0.000    0.000    0.000    0.000 {built-in method _abc._abc_instancecheck}\n",
      "        2    0.000    0.000    0.000    0.000 {built-in method builtins.all}\n",
      "        1    0.000    0.000    0.001    0.001 {built-in method builtins.exec}\n",
      "       39    0.000    0.000    0.000    0.000 {built-in method builtins.getattr}\n",
      "       10    0.000    0.000    0.000    0.000 {built-in method builtins.hasattr}\n",
      "        4    0.000    0.000    0.000    0.000 {built-in method builtins.hash}\n",
      "       57    0.000    0.000    0.000    0.000 {built-in method builtins.isinstance}\n",
      "       16    0.000    0.000    0.000    0.000 {built-in method builtins.issubclass}\n",
      "     11/9    0.000    0.000    0.000    0.000 {built-in method builtins.len}\n",
      "        2    0.000    0.000    0.000    0.000 {built-in method numpy.array}\n",
      "        1    0.000    0.000    0.000    0.000 {built-in method numpy.core._multiarray_umath.implement_array_function}\n",
      "        2    0.000    0.000    0.000    0.000 {built-in method numpy.empty}\n",
      "        1    0.000    0.000    0.000    0.000 {method 'disable' of '_lsprof.Profiler' objects}\n",
      "        1    0.000    0.000    0.000    0.000 {pandas._libs.algos.ensure_object}\n",
      "        1    0.000    0.000    0.000    0.000 {pandas._libs.lib.infer_datetimelike_array}\n",
      "        1    0.000    0.000    0.000    0.000 {pandas._libs.lib.infer_dtype}\n",
      "        3    0.000    0.000    0.000    0.000 {pandas._libs.lib.is_list_like}\n",
      "        2    0.000    0.000    0.000    0.000 {pandas._libs.lib.is_scalar}\n",
      "        1    0.000    0.000    0.000    0.000 {pandas._libs.lib.maybe_convert_objects}\n",
      "\n",
      "\n"
     ]
    }
   ],
   "source": [
    "# code Example to see print out of table\n",
    "\n",
    "import cProfile\n",
    "import pandas as pd\n",
    "\n",
    "cProfile.run(\"pd.Series(list('WHOLOVESINDIANFOOD'))\")"
   ]
  },
  {
   "cell_type": "markdown",
   "metadata": {},
   "source": [
    "# `One last note on Cprofile: consider using in these circumstances`\n",
    "\n",
    "+ CPU only tasks\n",
    "+ Call that take a long time\n",
    "+ Investigating memory allocation\n",
    "+ Counters that increase\n",
    "\n",
    "`This code block came from:`[python_speed](https://pythonspeed.com/articles/beyond-cprofile/)\n",
    "\n",
    "`___________________________________________________`"
   ]
  },
  {
   "cell_type": "markdown",
   "metadata": {},
   "source": [
    "# `Line Profiler:` *good option if you know what block of code is slowing you down. But, not sure where exactly* \n",
    "\n",
    "\n",
    "\n",
    "+ There is a side note that is important to mention which easily gets overlooked. `If you run some code that uses a library or external package: consider that computations in the background may be run and you are unaware.`\n",
    "\n",
    "If you would like to install:\n",
    "\n",
    "`python -m pip3 install line_profiler`\n",
    "\n",
    "Or if using Anaconda:\n",
    "\n",
    "`conda install line_profiler`\n",
    "\n",
    "or \n",
    "\n",
    "`pip3 install line_profiler`\n",
    "\n",
    "+ `If you are using Jupyter Notebooks, you have the ability to use line magics!`"
   ]
  },
  {
   "cell_type": "code",
   "execution_count": null,
   "metadata": {},
   "outputs": [],
   "source": []
  },
  {
   "cell_type": "code",
   "execution_count": 21,
   "metadata": {},
   "outputs": [
    {
     "name": "stdout",
     "output_type": "stream",
     "text": [
      " "
     ]
    }
   ],
   "source": [
    "# Ex) \n",
    "\n",
    "import numpy as np\n",
    "count = 10_000_000\n",
    "%prun x = np.arange(0, count)\n"
   ]
  },
  {
   "cell_type": "code",
   "execution_count": 107,
   "metadata": {},
   "outputs": [],
   "source": [
    "# !pip3 install line_profiler\n",
    "\n",
    "\n",
    "# https://github.com/Homebrew/homebrew-core/issues/76621 (if you use Homebrew check this out!)"
   ]
  },
  {
   "cell_type": "markdown",
   "metadata": {},
   "source": [
    "# `Ex.1)This part is used exclusively with Jupyter Notebook`"
   ]
  },
  {
   "cell_type": "code",
   "execution_count": null,
   "metadata": {},
   "outputs": [],
   "source": [
    "\n",
    "\n",
    "%load_ext line_profiler"
   ]
  },
  {
   "cell_type": "code",
   "execution_count": 114,
   "metadata": {},
   "outputs": [],
   "source": [
    "def primes_nums(n=1000): \n",
    "    A = [True] * (n+1)\n",
    "    A[0] = False\n",
    "    A[1] = False\n",
    "    for i in range(2, int(n**0.5)):\n",
    "        if A[i]:\n",
    "            for j in range(i**2, n+1, i):\n",
    "                A[j] = False\n",
    "\n",
    "    return [x for x in range(2, n) if A[x]]\n",
    "\n",
    "\n",
    "#line magic for line profiler and telling it which function to profile\n",
    "\n",
    "%lprun -f prime_nums prime_nums()"
   ]
  },
  {
   "cell_type": "markdown",
   "metadata": {},
   "source": [
    "# `Ex.2)If you were loading this without Jupyter Notebook`"
   ]
  },
  {
   "cell_type": "code",
   "execution_count": 112,
   "metadata": {},
   "outputs": [],
   "source": [
    "from line_profiler import LineProfiler\n",
    "\n",
    "# example adapted from online and in links below\n",
    "\n",
    "def prime_nums(n=1000): \n",
    "    A = [True] * (n+1)\n",
    "    A[0] = False\n",
    "    A[1] = False\n",
    "    for i in range(2, int(n**0.5)):\n",
    "        if A[i]:\n",
    "            for j in range(i**2, n+1, i):\n",
    "                A[j] = False\n",
    "    return [x for x in range(2, n) if A[x]]\n",
    "\n",
    "l_profiler = LineProfiler() # object we create which will be used to get our stats\n",
    "\n",
    "l_p_wrapper = l_profiler(prime_nums) # create a wrapper for our function"
   ]
  },
  {
   "cell_type": "code",
   "execution_count": 115,
   "metadata": {},
   "outputs": [
    {
     "name": "stdout",
     "output_type": "stream",
     "text": [
      "Timer unit: 1e-06 s\n",
      "\n",
      "Total time: 0.003787 s\n",
      "File: <ipython-input-112-35719f63a444>\n",
      "Function: prime_nums at line 5\n",
      "\n",
      "Line #      Hits         Time  Per Hit   % Time  Line Contents\n",
      "==============================================================\n",
      "     5                                           def prime_nums(n=1000): \n",
      "     6         2         11.0      5.5      0.3      A = [True] * (n+1)\n",
      "     7         2          2.0      1.0      0.1      A[0] = False\n",
      "     8         2          2.0      1.0      0.1      A[1] = False\n",
      "     9        60         42.0      0.7      1.1      for i in range(2, int(n**0.5)):\n",
      "    10        58         32.0      0.6      0.8          if A[i]:\n",
      "    11      2838       1636.0      0.6     43.2              for j in range(i**2, n+1, i):\n",
      "    12      2818       1697.0      0.6     44.8                  A[j] = False\n",
      "    13         2        365.0    182.5      9.6      return [x for x in range(2, n) if A[x]]\n",
      "\n"
     ]
    }
   ],
   "source": [
    "# Once this is run we can then call the stats next\n",
    "l_p_wrapper()\n",
    "\n",
    "# Calling our profiler to give the stats, if the wrapper isn't run first the results will be empty\n",
    "l_profiler.print_stats()"
   ]
  },
  {
   "cell_type": "markdown",
   "metadata": {},
   "source": [
    "# `Command Line:`\n",
    "\n",
    "1. ) You use `kernprof` to create a file to store your results\n",
    "    + 1a. ) then you will get a file stored with your file name followed by the `.lprof` in your directory\n",
    "\n",
    "`kernprof -l some_script_you_have.py`\n",
    "\n",
    "2. ) then you retreive that file for the results\n",
    "\n",
    "`python3 -m line_profiler some_script_you_have.py.lprof`\n",
    "\n"
   ]
  },
  {
   "cell_type": "markdown",
   "metadata": {},
   "source": [
    "# `Chaining more than one function:`\n",
    "\n",
    "l_profiler = LineProfiler()\n",
    "\n",
    "l_profiler.add_function(fcn_1)\n",
    "l_profiler.add_function(fcn_2)\n",
    "l_profiler.add_function(fcn_3)\n",
    "\n",
    "l_p_wrapper = lprofiler(your_main_func)\n",
    "\n",
    "l_p_wrapper()\n",
    "\n",
    "l_profiler.print_stats()"
   ]
  },
  {
   "cell_type": "markdown",
   "metadata": {},
   "source": [
    "`----------------------------------------`\n",
    "\n",
    "\n",
    "# `External Software for a Visual profiler`\n",
    "\n",
    "+ Snakeviz\n",
    "+ gprof2dot\n",
    "+ vprof"
   ]
  },
  {
   "cell_type": "markdown",
   "metadata": {},
   "source": [
    "# `Optimizing:`\n",
    "\n",
    "+ Be careful when optimizing code due to the fact that you can start introducing difficult code to manage, update or read.\n",
    "\n",
    "[Good Read for tips](https://www.toptal.com/full-stack/code-optimization)"
   ]
  },
  {
   "cell_type": "code",
   "execution_count": 3,
   "metadata": {},
   "outputs": [],
   "source": [
    "# Real World Usuage Think about that!"
   ]
  },
  {
   "cell_type": "markdown",
   "metadata": {},
   "source": [
    "# Good Reads/Resource:\n",
    "\n",
    "https://nyu-cds.github.io/python-performance-tuning/02-cprofile/\n",
    "\n",
    "https://cloud.google.com/profiler/docs/profiling-python\n",
    "\n",
    "https://towardsdatascience.com/magic-commands-for-profiling-in-jupyter-notebook-d2ef00e29a63\n"
   ]
  },
  {
   "cell_type": "markdown",
   "metadata": {},
   "source": [
    "# `Please Like, Share &` <font color=red>SUB</font>`scribe`"
   ]
  },
  {
   "cell_type": "markdown",
   "metadata": {},
   "source": [
    "# `Citations & Help:`\n",
    "\n",
    "# ◔̯◔\n",
    "\n",
    "\n",
    "https://www.toucantoco.com/en/tech-blog/python-performance-optimization\n",
    "\n",
    "https://wiki.python.org/moin/PythonSpeed/PerformanceTips#Profiling_Code\n",
    "\n",
    "https://stackoverflow.com/questions/582336/how-do-i-profile-a-python-script\n",
    "\n",
    "https://machinelearningmastery.com/profiling-python-code/ \n",
    "\n",
    "https://www.infoworld.com/article/3600993/9-nifty-libraries-for-profiling-python-code.html\n",
    "\n",
    "https://medium.com/@narenandu/profiling-and-visualization-tools-in-python-89a46f578989\n",
    "\n",
    "https://towardsdatascience.com/how-to-profile-your-code-in-python-e70c834fad89\n",
    "\n",
    "https://pythonspeed.com/articles/beyond-cprofile/\n",
    "\n",
    "https://betterprogramming.pub/a-comprehensive-guide-to-profiling-python-programs-f8b7db772e6\n",
    "\n",
    "https://medium.com/geekculture/profiling-and-optimizing-your-python-code-64fe694b7f7f\n",
    "\n",
    "https://scipy-lectures.org/advanced/optimizing/index.html\n",
    "\n",
    "https://docs.nersc.gov/development/languages/python/profiling-debugging-python/\n",
    "\n",
    "https://medium.com/uncountable-engineering/pythons-line-profiler-32df2b07b290\n",
    "\n",
    "https://www.toucantoco.com/en/tech-blog/python-performance-optimization\n",
    "\n",
    "https://llllllllll.github.io/principles-of-performance/how-to-optimize-code.html\n",
    "\n",
    "https://nyu-cds.github.io/python-performance-tuning/03-line_profiler/\n",
    "\n",
    "https://codesolid.com/how-do-i-profile-python-code/ \n",
    "\n",
    "https://coderzcolumn.com/tutorials/python/line-profiler-line-by-line-profiling-of-python-code"
   ]
  }
 ],
 "metadata": {
  "kernelspec": {
   "display_name": "Python 3",
   "language": "python",
   "name": "python3"
  },
  "language_info": {
   "codemirror_mode": {
    "name": "ipython",
    "version": 3
   },
   "file_extension": ".py",
   "mimetype": "text/x-python",
   "name": "python",
   "nbconvert_exporter": "python",
   "pygments_lexer": "ipython3",
   "version": "3.7.3"
  }
 },
 "nbformat": 4,
 "nbformat_minor": 4
}
