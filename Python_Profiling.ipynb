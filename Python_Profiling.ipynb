{
 "cells": [
  {
   "cell_type": "markdown",
   "metadata": {},
   "source": [
    "# <font color=red>Python Profiling:</font> *`(using the right tool for the situation)`*\n",
    "\n",
    "# `Mr Fugu Data Science`\n",
    "\n",
    "# (◕‿◕✿)\n",
    "\n",
    "*Motivation*: `wouldn't it be better to see what the bottle neck is: instead of getting an estimate or theoretical idea?`"
   ]
  },
  {
   "cell_type": "markdown",
   "metadata": {},
   "source": [
    "+ If you have a program with a function that takes say 10 minutes to run, is this 30% or 90% of the total run time?\n",
    "    + It would serve us to check if our code is inefficient. But, without experience or guidance how would you know in the first place you have terribly slow or poorly written code?\n",
    "    \n",
    "*`Stepping back and doing a few things will aid in our inspection.`*\n",
    "\n",
    "`1.)` Investigate the run time of our program\n",
    "\n",
    "* Get a baseline of what we are dealing with\n",
    "\n",
    "`2.)` Then find functions that may be holding us back\n",
    "\n",
    "`3.)` If you need a more granular approach consider a line by line search when you start to narrow down areas\n",
    "\n",
    "\n",
    "**Before we move on, there is something we should really consider: You have times where you may have blocks of code which have dependency on other pieces of code. Therefore, complicating how your program runs. This may cause extra function calls, slow you down or make it hard to find a reference.**\n",
    "+ Do not think that because something is called often that it is bogging everything down\n",
    "+ Understand you may want to exclude from profiling the startup of a program or initial overhead\n",
    "+ Optimizing code isn't always a good bet due to maintaining, keeping stable or readablility"
   ]
  },
  {
   "cell_type": "markdown",
   "metadata": {},
   "source": [
    "# **`Profiling:`**\n",
    "\n",
    "+ Consider `profiling` as evaluating the time or memory used for a program, function or even a line of code and figuring out the resources it is occupying.  \n",
    "    + One thing we can consider: number of function calls. If you notice something called frequently take note but this in itself doesn't always declare an issue to resolve.\n",
    "    \n",
    "\n",
    "`Two types of Profiling:`\n",
    "\n",
    "+ **Deterministic:**\n",
    "    * monitoring events, **`while being accurate will have an effect on performance overhead`**. This would be better run on small functions or operations.\n",
    "    + Think of it like this: if you put the same inputs you will get the same outputs\n",
    "\n",
    "+ **Statistical:**\n",
    "    * **`Less accurate but also uses fewer overhead`** resources by taking samples.\n",
    "    \n",
    "Something really useful and pretty cool is the (Call Graph) look into **gprof2dot** for example. It will `convert your script into a graph` like structure showing what functions are calling each other.\n",
    "\n",
    "\n",
    "# `Other Tools:`\n",
    "\n",
    "    + vprof\n",
    "    + pyflame\n",
    "    + stackImpact\n",
    "    \n",
    "https://medium.com/@antoniomdk1/hpc-with-python-part-1-profiling-1dda4d172cdf"
   ]
  },
  {
   "cell_type": "code",
   "execution_count": null,
   "metadata": {},
   "outputs": [],
   "source": []
  },
  {
   "cell_type": "markdown",
   "metadata": {},
   "source": [
    "# `Native Python Profiling examples:` \n",
    "\n",
    "+ **`Timeit:`** benchmark code blocks or lines of code\n",
    "    + Not used on entire program\n",
    "    + Code needs to be isolated\n",
    "    \n",
    "+ **`Cprofile:`** runs on entire program\n",
    "    + evaluates each funcation call, then gives average time for those calls and a list of most frequent\n",
    "        + Downside: high overhead, do not use this for production work! Consider, only for development.\n",
    "\n",
    "+ **`Time:`** just a stop watch \n",
    "    + not able to run an entire program \n",
    "    \n",
    "* If you have code that may take some time use: `time` instead for a speed up but lose some accuracy    \n",
    "\n",
    "[external resources](https://www.infoworld.com/article/3600993/9-nifty-libraries-for-profiling-python-code.html)"
   ]
  },
  {
   "cell_type": "markdown",
   "metadata": {},
   "source": [
    "+  **`Always, consider what your 'profiler' is measuring to get an idea of if it is best for your circumstance!`</font>**"
   ]
  },
  {
   "cell_type": "markdown",
   "metadata": {},
   "source": [
    "# `Time:` measuring the time for our code in a single run\n",
    "\n",
    "# `Ex.)`\n",
    "\n",
    "`from time import time`\n",
    "\n",
    "`start_time = time()`\n",
    "\n",
    "`your code here`\n",
    "\n",
    "`end_time = time()`\n",
    "\n",
    "`print(f'It took {end_time - start_time} this many seconds!')`"
   ]
  },
  {
   "cell_type": "markdown",
   "metadata": {},
   "source": [
    "# `TimeIT:` execution time over multiple passes \"runs\"\n",
    "\n",
    "# `Ex.)`"
   ]
  },
  {
   "cell_type": "markdown",
   "metadata": {},
   "source": [
    "**`Lastly, if you are using long running calls consider %time instead of %timeit. While it is less precise it is faster`**\n",
    "\n",
    "*https://scipy-lectures.org/advanced/optimizing/index.html*\n",
    "\n",
    "`___________________________________________________`\n",
    "\n",
    "\n",
    "# `Cprofile:`\n",
    "+ **`Measures wall clock time,think of this as elapsed time`**\n",
    "    + Consider it as if we are measuring the time for a function to run\n",
    "        + `You are NOT looking at every line of code!`\n",
    "            + In that case you would need to do something else like a `line profiler`\n",
    "+ Deterministic\n"
   ]
  },
  {
   "cell_type": "markdown",
   "metadata": {},
   "source": [
    "# `EX.)`\n",
    "\n",
    "Your basic old script you call in the interpretor:\n",
    "\n",
    "`$ python3 some_file.py`\n",
    "\n",
    "If you would like to use Cprofile\n",
    "\n",
    "`$ python3 -m cprofile some_file.py`\n",
    "\n",
    "Or Another example:\n",
    "\n",
    "`python -m cProfile -s tottime some_program.py`\n",
    "\n",
    "* This will give us a printout of the `-s tottime` which will be a sorted table of total time for each element\n",
    "    + anything near the top is what you focus on changing/optimizing if possible.\n",
    "    \n",
    "    \n",
    "# `Ex.) `\n",
    "\n",
    "+ If you would like to run the code on a block instead of the entire program, you can encapsulate everything:\n",
    "\n",
    "`import cProfile`\n",
    "\n",
    "`cp = cProfile.Profile()`\n",
    "\n",
    "`cp.enable()`\n",
    "\n",
    "and here is your code you want to profile between\n",
    "\n",
    "`cp.disable()`\n",
    "\n",
    "`cp.print_stats()`\n",
    "\n",
    "\n",
    "\n",
    "**'code snippet from Toucan Toco, link below!'**\n",
    "\n",
    "\n",
    "[command line flags & similar](https://www.ibm.com/docs/en/aix/7.1?topic=names-command-parameters) | [beginner command line flags](https://jgefroh.medium.com/a-beginners-guide-to-linux-command-line-56a8004e2471)\n",
    "\n",
    "* `There is an issue that you need to consider: the printout of this will generate a table containing the functions called. We have no idea of relationship to each other; such as dependency`\n",
    "\n",
    "# <font color=red>Cons</font>: \n",
    "\n",
    "**`1.) Large overhead\n",
    "2.) Printout of each function represented by a line\n",
    "3.) Real world use will be an issue and you should expect slower results\n",
    "4.) Very important note: you may have slow code for a specific function and you can also have a function slow for specific inputs!`**"
   ]
  },
  {
   "cell_type": "code",
   "execution_count": null,
   "metadata": {},
   "outputs": [],
   "source": [
    "# code Example to see print out of table\n",
    "\n",
    "import cProfile\n",
    "import pandas as pd\n",
    "\n"
   ]
  },
  {
   "cell_type": "markdown",
   "metadata": {},
   "source": [
    "`___________________________________________________`"
   ]
  },
  {
   "cell_type": "markdown",
   "metadata": {},
   "source": [
    "# `Line Profiler:` *this is a good option if you know what block of code is slowing you down but not sure where exactly* \n",
    "\n",
    "\n",
    "\n",
    "+ There is a side note that is important to mention which easily gets overlooked. `If you run some code that uses a library or external package: consider that computations in the background may be run and you are unaware.`\n",
    "\n",
    "If you would like to install:\n",
    "\n",
    "`python -m pip install line_profiler`\n",
    "\n",
    "Or if using Anaconda:\n",
    "\n",
    "`conda install line_profiler`\n",
    "\n",
    "or \n",
    "\n",
    "`pip install line_profiler`"
   ]
  },
  {
   "cell_type": "markdown",
   "metadata": {},
   "source": [
    "# `External Software to Visually see usuage`\n",
    "\n",
    "`Ex.)`\n",
    "\n",
    "+ Snakeviz\n",
    "+ gprof2dot\n",
    "+ "
   ]
  },
  {
   "cell_type": "markdown",
   "metadata": {},
   "source": [
    "# `Optimizing:`\n",
    "\n",
    "+ Be careful when optimizing code due to the fact that you can start introducing difficult code to manage, update or read.\n"
   ]
  },
  {
   "cell_type": "code",
   "execution_count": 3,
   "metadata": {},
   "outputs": [],
   "source": [
    "# Real World Usuage (Example)"
   ]
  },
  {
   "cell_type": "markdown",
   "metadata": {},
   "source": [
    "# Good Reading resource:\n",
    "\n",
    "https://nyu-cds.github.io/python-performance-tuning/02-cprofile/\n",
    "\n",
    "https://cloud.google.com/profiler/docs/profiling-python\n",
    "\n"
   ]
  },
  {
   "cell_type": "markdown",
   "metadata": {},
   "source": [
    "# `Please Like, Share &` <font color=red>SUB</font>`scribe`"
   ]
  },
  {
   "cell_type": "markdown",
   "metadata": {},
   "source": [
    "# `Citations & Help:`\n",
    "\n",
    "# ◔̯◔\n",
    "\n",
    "\n",
    "https://www.toucantoco.com/en/tech-blog/python-performance-optimization\n",
    "\n",
    "https://wiki.python.org/moin/PythonSpeed/PerformanceTips#Profiling_Code\n",
    "\n",
    "https://stackoverflow.com/questions/582336/how-do-i-profile-a-python-script\n",
    "\n",
    "https://machinelearningmastery.com/profiling-python-code/ \n",
    "\n",
    "https://www.infoworld.com/article/3600993/9-nifty-libraries-for-profiling-python-code.html\n",
    "\n",
    "https://medium.com/@narenandu/profiling-and-visualization-tools-in-python-89a46f578989\n",
    "\n",
    "https://towardsdatascience.com/how-to-profile-your-code-in-python-e70c834fad89\n",
    "\n",
    "https://pythonspeed.com/articles/beyond-cprofile/\n",
    "\n",
    "https://betterprogramming.pub/a-comprehensive-guide-to-profiling-python-programs-f8b7db772e6\n",
    "\n",
    "https://medium.com/geekculture/profiling-and-optimizing-your-python-code-64fe694b7f7f\n",
    "\n",
    "https://scipy-lectures.org/advanced/optimizing/index.html\n",
    "\n",
    "https://docs.nersc.gov/development/languages/python/profiling-debugging-python/\n",
    "\n",
    "https://medium.com/uncountable-engineering/pythons-line-profiler-32df2b07b290\n",
    "\n",
    "https://www.toucantoco.com/en/tech-blog/python-performance-optimization"
   ]
  }
 ],
 "metadata": {
  "kernelspec": {
   "display_name": "Python 3",
   "language": "python",
   "name": "python3"
  },
  "language_info": {
   "codemirror_mode": {
    "name": "ipython",
    "version": 3
   },
   "file_extension": ".py",
   "mimetype": "text/x-python",
   "name": "python",
   "nbconvert_exporter": "python",
   "pygments_lexer": "ipython3",
   "version": "3.7.3"
  }
 },
 "nbformat": 4,
 "nbformat_minor": 4
}
