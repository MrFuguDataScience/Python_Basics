{
 "cells": [
  {
   "cell_type": "markdown",
   "metadata": {},
   "source": [
    "# `Python: Lambda, Map, Reduce, Filter Functions`\n",
    "\n",
    "# <font color=red>Mr Fugu Data Science</font>\n",
    "\n",
    "# (◕‿◕✿)\n",
    "\n",
    "# `Purpose & Outcome:`\n",
    "\n",
    "+ Show the usage and compare/contrast filter,map\n",
    "    + explain the use of each function\n",
    "    \n",
    "**`Help Support the channel: Buy Me A Coffee, @mrfugudatasci`**"
   ]
  },
  {
   "cell_type": "markdown",
   "metadata": {},
   "source": [
    "# `Lambda Function:` \n",
    "\n",
    "+ Are anonymous functions defined without a function name\n",
    "    + In this case you are not using the `def` portion to start a function, nor are giving the function a name after the `def`\n",
    "    \n",
    "**`Workflow:`**`lambda` *`argument:`* *`expression`* \n",
    "\n",
    "ex.) doubling_num = lambda x: x*2"
   ]
  },
  {
   "cell_type": "code",
   "execution_count": null,
   "metadata": {},
   "outputs": [],
   "source": []
  },
  {
   "cell_type": "markdown",
   "metadata": {},
   "source": [
    "# `Filter:`\n",
    "\n",
    "**`Workflow:`**`filter(func,*iteralble)`\n",
    "\n",
    "+ Takes in a list as the arguments with a function\n",
    "    + The function is applied to all items within your list\n",
    "\n",
    "`Takes a list of objects and uses your function to create a new list with all objects that return TRUE`\n",
    "\n",
    "**Returns ONLY elements that are True**\n",
    "\n",
    "[map vs filter](https://medium.com/@ankur.ghogle100/difference-between-map-and-filter-in-python-8c5bca11afe8)"
   ]
  },
  {
   "cell_type": "code",
   "execution_count": null,
   "metadata": {},
   "outputs": [],
   "source": []
  },
  {
   "cell_type": "markdown",
   "metadata": {},
   "source": [
    "# `Map:`\n",
    "\n",
    "**`Workflow:`**\n",
    "    `map(func,iteralble_01,iterable_02...)`\n",
    "\n",
    "+ Takes in a list as the arguments with a function\n",
    "    + The function is applied to all items within your list(s)\n",
    "\n",
    "`applies a function to your list, but modifies your list`\n",
    "\n",
    "**Returns EVERY ELEMENT**"
   ]
  },
  {
   "cell_type": "code",
   "execution_count": 9,
   "metadata": {},
   "outputs": [
    {
     "data": {
      "text/plain": [
       "['aaaa', 'bbbbbbbbbb', 'cccccccccccccccccc']"
      ]
     },
     "execution_count": 9,
     "metadata": {},
     "output_type": "execute_result"
    }
   ],
   "source": [
    "def mult_elem_of_lsts(a,b,c):\n",
    "    return a*b*c\n",
    "\n",
    "list(map(mult_elem_of_lsts,[1,2,3],[4,5,6],['a','b','c']))"
   ]
  },
  {
   "cell_type": "code",
   "execution_count": 35,
   "metadata": {},
   "outputs": [
    {
     "data": {
      "text/plain": [
       "[11, 44, 99]"
      ]
     },
     "execution_count": 35,
     "metadata": {},
     "output_type": "execute_result"
    }
   ],
   "source": [
    "# different size lists with map:\n",
    "\n",
    "list(map(mult_elem_of_lsts,[1,2,3,4],['a','b','c'],[11,22,33]))\n",
    "\n",
    "# what happens when you don't have list() surrounding map?\n",
    "b=list(map(mult_elem_of_lsts,[1,2,3,4],['a','b','c','d'],[11,22,33]))\n",
    "\n",
    "[len(i) for i in b]\n"
   ]
  },
  {
   "cell_type": "markdown",
   "metadata": {},
   "source": [
    "# `If don't use the list() surrounding Map/Filter?`\n",
    "\n",
    "+ you are generating an `iterator object, think (generator)`. To get arround this `either use a list comprhension or list` can solve this and print off your result.\n",
    "+ If you have never used or heard of `functional programming`, we are using what is called a `higher order function: a function(s) as input or returns a function output.` \n",
    "\n",
    "`Filter:` think of using a list comprehension with a conditional statement such as *if* at the end\n",
    "\n"
   ]
  },
  {
   "cell_type": "markdown",
   "metadata": {},
   "source": [
    "# `Comparing with Example: Map vs Filter`"
   ]
  },
  {
   "cell_type": "code",
   "execution_count": 34,
   "metadata": {},
   "outputs": [
    {
     "data": {
      "text/plain": [
       "[1, 4, 9, 16, 25]"
      ]
     },
     "execution_count": 34,
     "metadata": {},
     "output_type": "execute_result"
    }
   ],
   "source": [
    "items = [1, 2, 3, 4, 5]\n",
    "squared = map(lambda x: x**2, items)\n",
    "list(squared)"
   ]
  },
  {
   "cell_type": "code",
   "execution_count": null,
   "metadata": {},
   "outputs": [],
   "source": []
  },
  {
   "cell_type": "code",
   "execution_count": null,
   "metadata": {},
   "outputs": [],
   "source": []
  },
  {
   "cell_type": "markdown",
   "metadata": {},
   "source": [
    "# `Reduce:`\n",
    "\n",
    "+ used to reduce an iterable to a single value"
   ]
  },
  {
   "cell_type": "code",
   "execution_count": null,
   "metadata": {},
   "outputs": [],
   "source": []
  },
  {
   "cell_type": "code",
   "execution_count": null,
   "metadata": {},
   "outputs": [],
   "source": []
  },
  {
   "cell_type": "markdown",
   "metadata": {},
   "source": [
    "# <font color=red>Like</font>,Share &\n",
    "\n",
    "# <font color=red>SUB</font>scribe"
   ]
  },
  {
   "cell_type": "markdown",
   "metadata": {},
   "source": [
    "# `Citations & Help:`\n",
    "\n",
    "# ◔̯◔\n",
    "\n",
    "http://cs111.wellesley.edu/~cs111/archive/cs111_spring15/public_html/notes/lectures/22_lambdaFilterReduce_4up.pdf\n",
    "\n",
    "https://towardsdatascience.com/understanding-the-use-of-lambda-expressions-map-and-filter-in-python-5e03e4b18d09\n",
    "\n",
    "https://realpython.com/python-reduce-function/"
   ]
  }
 ],
 "metadata": {
  "kernelspec": {
   "display_name": "Python 3",
   "language": "python",
   "name": "python3"
  },
  "language_info": {
   "codemirror_mode": {
    "name": "ipython",
    "version": 3
   },
   "file_extension": ".py",
   "mimetype": "text/x-python",
   "name": "python",
   "nbconvert_exporter": "python",
   "pygments_lexer": "ipython3",
   "version": "3.7.3"
  }
 },
 "nbformat": 4,
 "nbformat_minor": 4
}
