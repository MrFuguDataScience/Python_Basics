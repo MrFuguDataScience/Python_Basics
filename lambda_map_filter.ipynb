{
 "cells": [
  {
   "cell_type": "markdown",
   "metadata": {},
   "source": [
    "# `Python: Lambda, Map, Reduce, Filter Functions`\n",
    "\n",
    "# <font color=red>Mr Fugu Data Science</font>\n",
    "\n",
    "# (◕‿◕✿)\n",
    "\n",
    "# `Purpose & Outcome:`\n",
    "\n",
    "+ Show the usage and compare/contrast filter,map\n",
    "    + explain the use of each function\n",
    "    + Do the same thing in different ways!\n",
    "    \n",
    "**`Help Support the channel: Buy Me A Coffee, @mrfugudatasci`**"
   ]
  },
  {
   "cell_type": "markdown",
   "metadata": {},
   "source": [
    "# `Lambda Function:` \n",
    "\n",
    "+ Are anonymous functions defined without a function name\n",
    "    + In this case you are not using the `def` portion to start a function, nor are you giving the function a name after the `def`.\n",
    "    \n",
    "**`Workflow:`**`lambda` *`argument:`* *`expression`* \n",
    "\n",
    "ex.) doubling_num = lambda x: x*2"
   ]
  },
  {
   "cell_type": "code",
   "execution_count": 71,
   "metadata": {},
   "outputs": [
    {
     "data": {
      "text/plain": [
       "100.91"
      ]
     },
     "execution_count": 71,
     "metadata": {},
     "output_type": "execute_result"
    }
   ],
   "source": [
    "# Simple example with amortization: 5% interest, 24 months and $2300 loan\n",
    "\n",
    "amortize_fcn = lambda p,n,i: p*i*((1+i)**n)/(((1+i)**n)-1)\n",
    "\n",
    "# monthly payment:\n",
    "round(amortize_fcn(2300,24,0.00417),2)\n",
    "\n",
    "# if curious: amount of interest over 24 months: 2421.84-2300= $121.84"
   ]
  },
  {
   "cell_type": "code",
   "execution_count": 77,
   "metadata": {},
   "outputs": [
    {
     "data": {
      "text/plain": [
       "4.912"
      ]
     },
     "execution_count": 77,
     "metadata": {},
     "output_type": "execute_result"
    }
   ],
   "source": [
    "# doubling a number, the (2.456) is the number we're doubling\n",
    "(lambda x:(2*x))(2.456)"
   ]
  },
  {
   "cell_type": "code",
   "execution_count": 126,
   "metadata": {},
   "outputs": [
    {
     "name": "stdout",
     "output_type": "stream",
     "text": [
      "define function:  27\n",
      "list comprehension: [27]\n",
      "lambda version: 27\n"
     ]
    }
   ],
   "source": [
    "# Doing The Same Thing 3 Different Ways:\n",
    "\n",
    "lst=[3]\n",
    "\n",
    "def n_to_n_power(x):\n",
    "    dub=x**x\n",
    "    return dub\n",
    "\n",
    "dub_lst_comp=[x**x for x in lst]\n",
    "\n",
    "lam_dub=lambda x: x**x\n",
    "\n",
    "print('define function: ',lam_dub(lst[0]))\n",
    "print('list comprehension:',dub_lst_comp)\n",
    "print('lambda version:',n_to_n_power(lst[0]))"
   ]
  },
  {
   "cell_type": "markdown",
   "metadata": {},
   "source": [
    "# `Filter:`\n",
    "\n",
    "**`Workflow:`**`filter(func,*iteralble)`\n",
    "\n",
    "+ Takes in a list as the arguments with a function\n",
    "    + The function is applied to all items within your list\n",
    "\n",
    "`Takes a list of objects and uses your function to create a new list with all objects that return TRUE`\n",
    "\n",
    "**Returns ONLY elements that are True**\n",
    "\n",
    "[map vs filter](https://medium.com/@ankur.ghogle100/difference-between-map-and-filter-in-python-8c5bca11afe8)"
   ]
  },
  {
   "cell_type": "code",
   "execution_count": 181,
   "metadata": {},
   "outputs": [
    {
     "data": {
      "text/plain": [
       "['Malayalam', 'Top spot', 'Detartrated']"
      ]
     },
     "execution_count": 181,
     "metadata": {},
     "output_type": "execute_result"
    }
   ],
   "source": [
    "# palindromes: \n",
    "\n",
    "fun_lst = ['Malayalam','Top spot','Detartrated','Hot Boy',\n",
    "'Bazooka','God Save Eva\"s dog']\n",
    "\n",
    "\n",
    "palindrome_ = list(filter(lambda word: word.lower().replace(' ','') ==\n",
    "            word[::-1].lower().replace(' ',''),fun_lst))\n",
    "palindrome_"
   ]
  },
  {
   "cell_type": "code",
   "execution_count": 185,
   "metadata": {},
   "outputs": [
    {
     "data": {
      "text/plain": [
       "[('Bobo', 3.3), ('Elmo', 3.9)]"
      ]
     },
     "execution_count": 185,
     "metadata": {},
     "output_type": "execute_result"
    }
   ],
   "source": [
    "# GPA filtering:\n",
    "\n",
    "gpa=[('kermit',2.69),('Bobo',3.3),('Elmo',3.9),('Elvira',2.87)]\n",
    "\n",
    "def gpa_for_interns(gpa_score):\n",
    "    return gpa_score[1] > 3.13\n",
    "\n",
    "list(filter(gpa_for_interns, gpa))"
   ]
  },
  {
   "cell_type": "markdown",
   "metadata": {},
   "source": [
    "# `Map:`\n",
    "\n",
    "**`Workflow:`**\n",
    "    `map(func,iteralble_01,iterable_02...)`\n",
    "\n",
    "+ Takes in a list as the arguments with a function\n",
    "    + The function is applied to all items within your list(s)\n",
    "\n",
    "`applies a function to your list, but modifies your list`\n",
    "\n",
    "**Returns EVERY ELEMENT**"
   ]
  },
  {
   "cell_type": "code",
   "execution_count": 9,
   "metadata": {},
   "outputs": [
    {
     "data": {
      "text/plain": [
       "['aaaa', 'bbbbbbbbbb', 'cccccccccccccccccc']"
      ]
     },
     "execution_count": 9,
     "metadata": {},
     "output_type": "execute_result"
    }
   ],
   "source": [
    "def mult_elem_of_lsts(a,b,c):\n",
    "    return a*b*c\n",
    "\n",
    "list(map(mult_elem_of_lsts,[1,2,3],[4,5,6],['a','b','c']))"
   ]
  },
  {
   "cell_type": "code",
   "execution_count": 150,
   "metadata": {},
   "outputs": [
    {
     "data": {
      "text/plain": [
       "[11, 44, 99]"
      ]
     },
     "execution_count": 150,
     "metadata": {},
     "output_type": "execute_result"
    }
   ],
   "source": [
    "# DIFFERENT size lists using map:\n",
    "\n",
    "# what happens when you don't have list() surrounding map?\n",
    "b=list(map(mult_elem_of_lsts,[1,2,3,4],['a','b','c','d'],[11,22,33]))\n",
    "\n",
    "[len(i) for i in b]"
   ]
  },
  {
   "cell_type": "code",
   "execution_count": 156,
   "metadata": {},
   "outputs": [
    {
     "data": {
      "text/plain": [
       "'FEE-FI-FO-FUM'"
      ]
     },
     "execution_count": 156,
     "metadata": {},
     "output_type": "execute_result"
    }
   ],
   "source": [
    "# Creating 1 string from list using map \n",
    "'-'.join(map(lambda s: s.upper(), ['fee','fi','fo','fum'])) "
   ]
  },
  {
   "cell_type": "code",
   "execution_count": 187,
   "metadata": {},
   "outputs": [
    {
     "data": {
      "text/plain": [
       "[0, 2, 4, None, 8]"
      ]
     },
     "execution_count": 187,
     "metadata": {},
     "output_type": "execute_result"
    }
   ],
   "source": [
    "# Conditional statement with map: \n",
    "list(map(lambda x: x*2 if x*2/6. != 1 else None, range(5)))"
   ]
  },
  {
   "cell_type": "markdown",
   "metadata": {},
   "source": [
    "# `If don't use the list() surrounding Map/Filter?`\n",
    "\n",
    "+ you are generating an `iterator object, think (generator)`. To get arround this `either use a list comprhension or list` can solve this and print off your result.\n",
    "+ If you have never used or heard of `functional programming`, we are using what is called a `higher order function: a function(s) as input or returns a function output.` \n",
    "\n",
    "`Filter:` think of using a list comprehension with a conditional statement such as *if* at the end\n",
    "\n"
   ]
  },
  {
   "cell_type": "markdown",
   "metadata": {},
   "source": [
    "# `Comparing with Example: Map vs Filter`"
   ]
  },
  {
   "cell_type": "code",
   "execution_count": 34,
   "metadata": {},
   "outputs": [
    {
     "data": {
      "text/plain": [
       "[1, 4, 9, 16, 25]"
      ]
     },
     "execution_count": 34,
     "metadata": {},
     "output_type": "execute_result"
    }
   ],
   "source": [
    "items = [1, 2, 3, 4, 5]\n",
    "squared = map(lambda x: x**2, items)\n",
    "list(squared)"
   ]
  },
  {
   "cell_type": "code",
   "execution_count": null,
   "metadata": {},
   "outputs": [],
   "source": []
  },
  {
   "cell_type": "code",
   "execution_count": null,
   "metadata": {},
   "outputs": [],
   "source": []
  },
  {
   "cell_type": "markdown",
   "metadata": {},
   "source": [
    "# `Reduce: Used to reduce iterable to a single value!`\n",
    "\n",
    "`Workflow:` \n",
    "\n",
    "`import functools\n",
    "functools.reduce(func,iterable)`\n",
    "\n",
    "+ The function: is applied to each element of iterable,from left to right."
   ]
  },
  {
   "cell_type": "code",
   "execution_count": 36,
   "metadata": {},
   "outputs": [],
   "source": [
    "import functools"
   ]
  },
  {
   "cell_type": "code",
   "execution_count": 158,
   "metadata": {},
   "outputs": [
    {
     "data": {
      "text/plain": [
       "44"
      ]
     },
     "execution_count": 158,
     "metadata": {},
     "output_type": "execute_result"
    }
   ],
   "source": [
    "# dot product:\n",
    "\n",
    "def dot_prod(x_vec,y_vec):\n",
    "    return functools.reduce(lambda a,b: a+b,\n",
    "        map(lambda x: x[0]*x[1],zip(x_vec,y_vec)))\n",
    "\n",
    "dot_prod([1,3,5],[2,4,6])\n",
    "\n",
    "# example from citations"
   ]
  },
  {
   "cell_type": "code",
   "execution_count": 160,
   "metadata": {},
   "outputs": [
    {
     "data": {
      "text/plain": [
       "44"
      ]
     },
     "execution_count": 160,
     "metadata": {},
     "output_type": "execute_result"
    }
   ],
   "source": [
    "# verify above\n",
    "import numpy as np\n",
    "a,b=np.array([1,3,5]),np.array([2,4,6])\n",
    "a.dot(b)"
   ]
  },
  {
   "cell_type": "code",
   "execution_count": 189,
   "metadata": {},
   "outputs": [
    {
     "data": {
      "text/plain": [
       "102"
      ]
     },
     "execution_count": 189,
     "metadata": {},
     "output_type": "execute_result"
    }
   ],
   "source": [
    "# Compare \n",
    "lis_=[1,2,3,4,5,66,77,88,99,102]\n",
    "functools.reduce(lambda a,b : a if a > b else b,lis_)"
   ]
  },
  {
   "cell_type": "markdown",
   "metadata": {},
   "source": [
    "# `Hidden Gift: If you stayed till the end`\n"
   ]
  },
  {
   "cell_type": "code",
   "execution_count": 63,
   "metadata": {},
   "outputs": [],
   "source": [
    "import operator"
   ]
  },
  {
   "cell_type": "code",
   "execution_count": null,
   "metadata": {},
   "outputs": [],
   "source": []
  },
  {
   "cell_type": "markdown",
   "metadata": {},
   "source": [
    "# <font color=red>Like</font>,Share &\n",
    "\n",
    "# <font color=red>SUB</font>scribe"
   ]
  },
  {
   "cell_type": "markdown",
   "metadata": {},
   "source": [
    "# `Citations & Help:`\n",
    "\n",
    "# ◔̯◔\n",
    "\n",
    "http://cs111.wellesley.edu/~cs111/archive/cs111_spring15/public_html/notes/lectures/22_lambdaFilterReduce_4up.pdf\n",
    "\n",
    "https://towardsdatascience.com/understanding-the-use-of-lambda-expressions-map-and-filter-in-python-5e03e4b18d09\n",
    "\n",
    "https://realpython.com/python-reduce-function/"
   ]
  }
 ],
 "metadata": {
  "kernelspec": {
   "display_name": "Python 3",
   "language": "python",
   "name": "python3"
  },
  "language_info": {
   "codemirror_mode": {
    "name": "ipython",
    "version": 3
   },
   "file_extension": ".py",
   "mimetype": "text/x-python",
   "name": "python",
   "nbconvert_exporter": "python",
   "pygments_lexer": "ipython3",
   "version": "3.7.3"
  }
 },
 "nbformat": 4,
 "nbformat_minor": 4
}
