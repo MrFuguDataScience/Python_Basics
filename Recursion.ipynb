{
 "cells": [
  {
   "cell_type": "markdown",
   "metadata": {},
   "source": [
    "# `Recursion`\n",
    "\n",
    "# <font color=red>Mr Fugu Data Science</font>\n",
    "\n",
    "# (◕‿◕✿)\n",
    "\n",
    "\n",
    "# `Purpose & Objective:`\n",
    "\n",
    "+ Give idea of how it works\n",
    "\n",
    "+ Show a couple of examples\n",
    "\n",
    "\n",
    "# `Help Support This Channel: Buy Me A Coffee:` https://www.buymeacoffee.com/mrfugudatasci\n",
    "\n",
    "**`@mrfugudatasci`**"
   ]
  },
  {
   "cell_type": "markdown",
   "metadata": {},
   "source": [
    "# `Recursion:`\n",
    "\n",
    "+ `What is it?`\n",
    "    * A function that can directly or indirectly call itself.\n",
    "\n"
   ]
  },
  {
   "cell_type": "markdown",
   "metadata": {},
   "source": [
    "# `When is it used?`\n",
    "\n",
    "+ When a problem can be broken up into sub routines \"tasks\"\n",
    "    + When the results of one step can be used in previous step\n",
    "    "
   ]
  },
  {
   "cell_type": "markdown",
   "metadata": {},
   "source": [
    "# `Considerations using recursion:`\n",
    "\n",
    "+ If a loop can achieve the same thing (consider the loop instead)\n",
    "+ Memory management\n",
    "    * Depending on how nested and local variables and parameters this can become a hog to compute. \n",
    "    * Think about this, each instance produces a new variable to store and use. \n",
    "+ time is can an issue\n",
    "+ debugging can be difficult\n",
    "+ It is possible to calculate redundant events. \n",
    "    * For instance, this can occur with the Fibonacci sequence. \n",
    "\n",
    "\n",
    "`3 Common Issues with Recursion`\n",
    "\n",
    "1. ) Not setting up a base case\n",
    "\n",
    "2. ) you are not progressing to the base case\n",
    "\n",
    "3. ) the amount of resources you are using for each function call outweights any benefit"
   ]
  },
  {
   "cell_type": "markdown",
   "metadata": {},
   "source": [
    "# `Memory Allocation and Stack: Recursion`\n",
    "\n",
    "+ When you call a function, memory is allocated on the stack\n",
    "    + The stack works by Last In First Out:(LIFO) principle\n",
    "    + There will be an area/location where the data will be reserved on the stack\n",
    "+ `Now when you call your function for reursion:`\n",
    "    + a place in memory is stored with a copy of your local variables for that call.\n",
    "        + When the base case is reached, you remove the allocated memory and the value is returned.\n",
    "            + Think of popping it from the stack at that point\n",
    "        + Otherwise, you continue until the parent function is returned \n",
    "+ The stack grows with the number of recursive call!\n"
   ]
  },
  {
   "cell_type": "markdown",
   "metadata": {},
   "source": [
    "# `How do you use it?`\n",
    "\n",
    "1. ) `Establish a base case`\n",
    "    + This is done to avoid an infinite loop!\n",
    "\n",
    "2. ) `Moving toward the base case`\n",
    "    + we want to have a solution and not deviate or just linger around\n",
    "\n",
    "3. ) call our function function (recursive step)\n",
    "\n",
    "\n",
    "`Essentially, what is going on:` \n",
    "\n",
    "you are making a call to your function that is remembering where you were at for the previous steps. Then you are moving forward to approach your base case if all goes to plan."
   ]
  },
  {
   "cell_type": "markdown",
   "metadata": {},
   "source": [
    "# `No Base Case:`"
   ]
  },
  {
   "cell_type": "code",
   "execution_count": null,
   "metadata": {},
   "outputs": [],
   "source": [
    "def sum(some_num):\n",
    "    return some_num + sum(some_num-1) # when does it stop?"
   ]
  },
  {
   "cell_type": "markdown",
   "metadata": {},
   "source": [
    "# `Not getting close to base case:`"
   ]
  },
  {
   "cell_type": "code",
   "execution_count": null,
   "metadata": {},
   "outputs": [],
   "source": [
    "def sum(some_num):\n",
    "    if some_num ==1:\n",
    "        return 1\n",
    "    else: (some_num +sum(some_num)) # you are not getting to the base case!\n",
    "        "
   ]
  },
  {
   "cell_type": "markdown",
   "metadata": {},
   "source": [
    "# `Using Too Many Resources for no good reason!:`"
   ]
  },
  {
   "cell_type": "code",
   "execution_count": null,
   "metadata": {},
   "outputs": [],
   "source": [
    "def super_fun_func(some_num):\n",
    "    print(some_num)\n",
    "    some_lst = []\n",
    "    for i in range(0,1000000000,1):\n",
    "        some_lst.append(\"*\")\n",
    "    some_num = some_num +1\n",
    "    return super_fun_func(some_num)\n"
   ]
  },
  {
   "cell_type": "markdown",
   "metadata": {},
   "source": [
    "# Ex. 1)  `Consider Fibonacci sequence:` Recursion vs Iterations\n",
    "\n",
    "\n",
    "+ This is a classic application that has many real world consequences. Let's some of the short falls with using it for recursion.\n",
    "\n",
    "`1!=1 & 0!=0` \n",
    "\n",
    "`f(n) = f(n-1)+f(n-2)`\n",
    "\n",
    "The first few iterations of `Fibonacci` look like this: `0,1,1,3,5,8,11`"
   ]
  },
  {
   "cell_type": "markdown",
   "metadata": {},
   "source": [
    "# `Recursive Fibonacci`"
   ]
  },
  {
   "cell_type": "code",
   "execution_count": 8,
   "metadata": {},
   "outputs": [],
   "source": [
    "def fibo_recur(n):\n",
    "    if n<=0:\n",
    "        print(\"wrong input,try again >2\")\n",
    "    # 1st fibonacci number = 0 and 2nd fibonacci number = 1\n",
    "    elif n==1: # base case\n",
    "        return 1\n",
    "    else:\n",
    "        return fibo_recur(n-1)+fibo_recur(n-2) # recursive step"
   ]
  },
  {
   "cell_type": "code",
   "execution_count": 11,
   "metadata": {},
   "outputs": [
    {
     "name": "stdout",
     "output_type": "stream",
     "text": [
      "317 ms ± 11.4 ms per loop (mean ± std. dev. of 7 runs, 1 loop each)\n"
     ]
    }
   ],
   "source": [
    "%%timeit\n",
    "Fibonacci(30)"
   ]
  },
  {
   "cell_type": "markdown",
   "metadata": {},
   "source": [
    "# `Caching:`\n",
    "\n",
    "+ `Uses temporary location to store your data. Good, if its data you are accessing often and its fast. The problem is that memory is expensive and deciding what to store can be tricky.`\n",
    "    + The amount of cache memory is limited, so you need to manage what will be stored there.\n",
    "    + The `LRU Cache` comes to our rescue, because it allows us to get rid of data that hasn't been accessed recently. This is our trick for recursion calls hogging up resources. \n",
    "\n",
    "+ You could make the recursion with the use of caching so you don't have to recompute at every step. \n",
    "\n",
    "`from functools import lru_cache\n",
    "@lru_cache(maxsize=None)`\n",
    "\n",
    "using this decorator can help, because the above example is running in a naive sense and wasting resources. You would place the decorator above your function.\n",
    "+ One consideration, since the caching is using a dictionary to cache the results you will need your function to be hashable.\n",
    "\n",
    "\n",
    "# `Dreaded: Errors with recurssion`\n",
    "\n",
    "Another potential problem is returning an error for `recursion depth exceeded`. This can occur when you have deep recursion. You can try to combat this with:\n",
    "\n",
    "`import sys\n",
    "sys.getrecursionlimit()`\n",
    "\n",
    "But, you have to understand what datatypes you are dealing with because garbage collection and you will create unnecessary copies for instance (mutable) object. Please, look into this...\n",
    "\n",
    "* `Lastly, Python doesn't have a way to optimize tail-recursion!`\n",
    "    + In this scenario, you will use far too many resources to make it benefitical and might as well use iteration."
   ]
  },
  {
   "cell_type": "markdown",
   "metadata": {},
   "source": [
    "# `Problems That Arise with Fibonacci`\n",
    "\n",
    "+ Notice the duplicates that we generate!"
   ]
  },
  {
   "cell_type": "markdown",
   "metadata": {},
   "source": [
    "<img src=\"fib_tree.png\">"
   ]
  },
  {
   "cell_type": "markdown",
   "metadata": {},
   "source": [
    "# `Looping Fibonacci sequence:`"
   ]
  },
  {
   "cell_type": "code",
   "execution_count": 17,
   "metadata": {},
   "outputs": [],
   "source": [
    "def fib_iter(num):\n",
    "    a=1\n",
    "    b=1\n",
    "    if num==1 or num==2:\n",
    "        return 1\n",
    "    elif num==0:\n",
    "        return 0\n",
    "    else:\n",
    "        for i in range(num-3):\n",
    "            total = a + b\n",
    "            b=a\n",
    "            a= total\n",
    "        return b "
   ]
  },
  {
   "cell_type": "code",
   "execution_count": 18,
   "metadata": {},
   "outputs": [
    {
     "name": "stdout",
     "output_type": "stream",
     "text": [
      "2.09 µs ± 51.9 ns per loop (mean ± std. dev. of 7 runs, 100000 loops each)\n"
     ]
    }
   ],
   "source": [
    "%%timeit\n",
    "fib_iter(30)"
   ]
  },
  {
   "cell_type": "markdown",
   "metadata": {},
   "source": [
    "# `Compare Time & Space Complexity: (Fibonacci)`"
   ]
  },
  {
   "cell_type": "markdown",
   "metadata": {},
   "source": [
    "**`Recursive:`** \n",
    "\n",
    "+ `Time Complexity:` **big O($2^n$)**\n",
    "\n",
    "    * `Space Complexity:` **O(n)**\n",
    "\n",
    "This is because you have a splitting of 2, for each branch and (n) of of which the function is called. This is bad.\n",
    "    \n",
    "**`Iterative:`**\n",
    "\n",
    "+ `Time Complexity:` **big O(n)**\n",
    "\n",
    "    * `Space Complexity:` **O(1)**"
   ]
  },
  {
   "cell_type": "markdown",
   "metadata": {},
   "source": [
    "# `How can you make this better?`\n",
    "\n",
    "+ Consider, `Dynamic Programming`\n",
    "\n",
    "[Check example here from M.I.T.](http://courses.csail.mit.edu/6.006/fall09/lecture_notes/lecture18.pdf)"
   ]
  },
  {
   "cell_type": "markdown",
   "metadata": {},
   "source": [
    "# `Ex. 2) Sorting a list`\n",
    "\n",
    "+ Our base case is \"zero or one\""
   ]
  },
  {
   "cell_type": "code",
   "execution_count": 45,
   "metadata": {},
   "outputs": [],
   "source": [
    "def is_list_sorted(your_list):\n",
    "    \"\"\"True = if list is in sorted ascending\"\"\"\n",
    "    if len(your_list) <= 1:\n",
    "        return True\n",
    "    else:\n",
    "    # check your_list[0] vs your_list[1]\n",
    "        if your_list[0] > your_list[1]:\n",
    "            return False\n",
    "        else:\n",
    "            return is_list_sorted(your_list[1:])\n"
   ]
  },
  {
   "cell_type": "code",
   "execution_count": 49,
   "metadata": {},
   "outputs": [
    {
     "name": "stdout",
     "output_type": "stream",
     "text": [
      "Is [1,5,15,0] Sorted =  False\n",
      "Is [0,1,2,3] Sorted =  True\n"
     ]
    }
   ],
   "source": [
    "print('Is [1,5,15,0] Sorted = ',is_list_sorted([1,5,15,0]))\n",
    "print('Is [0,1,2,3] Sorted = ',is_list_sorted([0,1,2,3]))"
   ]
  },
  {
   "cell_type": "markdown",
   "metadata": {},
   "source": [
    "# `Ex. 3) Merge Sort:`\n",
    "\n",
    "+ The base case, is not straightforward: if you have have < 1 then nothing happens\n",
    "\n",
    "How should we think about the time complexity?\n",
    "\n",
    "+ You have a divide step: **O(log n)**\n",
    "    * each step is cut in half then iterated\n",
    "\n",
    "+ And a recombine step: **O(n)**\n",
    "    * at most you you have (n) comparisons\n",
    "    \n",
    "`---------------`\n",
    "\n",
    "`Overall Worst Case:` **O(n log n)**\n",
    "\n",
    "\n",
    "+ `Base Case:` at least 1 element for the list\n",
    "    + `Recursive steps:` run merge_sort on left and right sides"
   ]
  },
  {
   "cell_type": "code",
   "execution_count": null,
   "metadata": {},
   "outputs": [],
   "source": [
    "# Not Actual Code But Idea of Algorithm:\n",
    "\n",
    "def mergeSort(your_list):\n",
    "    merge=[]\n",
    "    \"\"\"use merge sort to sort your_list ascending\"\"\"\n",
    "    if len(your_list) > 1:\n",
    "      # split into two lists\n",
    "        half = len(your_list)/2\n",
    "        L1_right = your_list[0:half]\n",
    "        L2_left = your_list[half:]\n",
    "      # sort each list\n",
    "        mergeSort(L1_right)\n",
    "        mergeSort(L2_left)\n",
    "      # merge back into a sorted list\n",
    "        merge(L1_right,L2_left,your_list)"
   ]
  },
  {
   "cell_type": "markdown",
   "metadata": {},
   "source": [
    "+ Typically, you won't have to implement sorting algorithms by hand. But, it is an exercise to express how recursion can be used. There are instances where it is needed and cirumstances where looping is far better option (but, may be ugly code and hard to read!). \n",
    "\n",
    "+ This is a case by case decission but when you come into a situation with the ability to sub-divide into smaller problems and and solve from there: look into recursion."
   ]
  },
  {
   "cell_type": "code",
   "execution_count": null,
   "metadata": {},
   "outputs": [],
   "source": [
    "# Put github recursive parsing example:\n",
    "\n"
   ]
  },
  {
   "cell_type": "markdown",
   "metadata": {},
   "source": [
    "# `Citations & Help:`\n",
    "\n",
    "# ◔̯◔\n",
    "\n",
    "https://jarednielsen.com/big-o-recursive-space-complexity/\n",
    "\n",
    "https://www.cs.cornell.edu/courses/JavaAndDS/files/complexityFibonacci1.pdf\n",
    "\n",
    "https://www.geeksforgeeks.org/program-for-nth-fibonacci-number/\n",
    "\n",
    "https://www2.cs.duke.edu/courses/spring18/compsci330/Notes/introduction.pdf\n",
    "\n",
    "https://realpython.com/python-thinking-recursively/\n",
    "\n",
    "https://medium.com/@syedtousifahmed/fibonacci-iterative-vs-recursive-5182d7783055\n",
    "\n",
    "https://www.cs.swarthmore.edu/~knerr/teaching/topics/recursion.html\n",
    "\n",
    "https://runestone.academy/runestone/books/published/pythonds/SortSearch/TheMergeSort.html#:~:text=Merge%20sort%20is%20a%20recursive,merge%20sort%20on%20both%20halves\n",
    "\n",
    "https://www.cs.cmu.edu/~15110-n15/lectures/unit05-3-MergeSort.pdf\n",
    "\n",
    "https://www.educative.io/courses/recursion-for-coding-interviews-in-python/B8wMXy0nmvk\n",
    "\n",
    "https://medium.com/@vienchitang/what-is-an-lru-cache-3e8ad1853584"
   ]
  }
 ],
 "metadata": {
  "kernelspec": {
   "display_name": "Python 3",
   "language": "python",
   "name": "python3"
  },
  "language_info": {
   "codemirror_mode": {
    "name": "ipython",
    "version": 3
   },
   "file_extension": ".py",
   "mimetype": "text/x-python",
   "name": "python",
   "nbconvert_exporter": "python",
   "pygments_lexer": "ipython3",
   "version": "3.7.3"
  }
 },
 "nbformat": 4,
 "nbformat_minor": 4
}
