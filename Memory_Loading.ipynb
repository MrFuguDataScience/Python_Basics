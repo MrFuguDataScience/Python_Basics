{
 "cells": [
  {
   "cell_type": "markdown",
   "metadata": {},
   "source": [
    "# Scaling Data with Limited Memory\n",
    "\n",
    "# `Mr Fugu Data Science`\n",
    "\n",
    "# (◕‿◕✿)"
   ]
  },
  {
   "cell_type": "code",
   "execution_count": null,
   "metadata": {},
   "outputs": [],
   "source": [
    "# imports:\n",
    "\n"
   ]
  },
  {
   "cell_type": "markdown",
   "metadata": {},
   "source": [
    "# `Considerations:`\n",
    "\n",
    "+ Loading data into memory can be tricky and problematic if you have large datasets. Taking this into account is important and techniques used should be evaluated in order to be efficient with processing.\n",
    "\n",
    "**Ex. )** `Pandas` will load all your data into memory causing issues if you have a dataset larger than the memory you have available for your machine.\n",
    "\n",
    "* Pay attention to your data, you may be making (intermediate) copies of the data and slowing down processing!\n",
    "    + `Pandas isn't the best choice for all situations`\n",
    "\n",
    "+ We can:\n",
    "    + Buy a faster machine or rent access like cloud computing\n",
    "    + You can try to offload from memory onto disk, but this is a slower access than RAM\n",
    "\n",
    "`Hmm. What do we do and how to approach this issue?`"
   ]
  },
  {
   "cell_type": "markdown",
   "metadata": {},
   "source": [
    "# `Compressing Data (Managing Resources Locally)`\n",
    "\n",
    "+ Changing Data-Types\n",
    "+ Chunking\n",
    "+ Indexing"
   ]
  },
  {
   "cell_type": "code",
   "execution_count": 1,
   "metadata": {},
   "outputs": [],
   "source": [
    "# Chunking/Loading"
   ]
  },
  {
   "cell_type": "code",
   "execution_count": null,
   "metadata": {},
   "outputs": [],
   "source": []
  },
  {
   "cell_type": "code",
   "execution_count": null,
   "metadata": {},
   "outputs": [],
   "source": []
  },
  {
   "cell_type": "markdown",
   "metadata": {},
   "source": [
    "# `Using Different Libraries`\n",
    "\n",
    "+ Parallel Computing options such as `Dask`"
   ]
  },
  {
   "cell_type": "code",
   "execution_count": 2,
   "metadata": {},
   "outputs": [],
   "source": [
    "# Think Parallel"
   ]
  },
  {
   "cell_type": "markdown",
   "metadata": {},
   "source": [
    "# `File Storage:`"
   ]
  },
  {
   "cell_type": "code",
   "execution_count": null,
   "metadata": {},
   "outputs": [],
   "source": [
    "# Pickle Files"
   ]
  },
  {
   "cell_type": "code",
   "execution_count": null,
   "metadata": {},
   "outputs": [],
   "source": [
    "# Change Data-Types"
   ]
  },
  {
   "cell_type": "code",
   "execution_count": null,
   "metadata": {},
   "outputs": [],
   "source": []
  },
  {
   "cell_type": "code",
   "execution_count": null,
   "metadata": {},
   "outputs": [],
   "source": []
  },
  {
   "cell_type": "code",
   "execution_count": null,
   "metadata": {},
   "outputs": [],
   "source": []
  },
  {
   "cell_type": "code",
   "execution_count": null,
   "metadata": {},
   "outputs": [],
   "source": []
  },
  {
   "cell_type": "code",
   "execution_count": null,
   "metadata": {},
   "outputs": [],
   "source": []
  },
  {
   "cell_type": "markdown",
   "metadata": {},
   "source": [
    "# `Citations & Help`\n",
    "\n",
    "# ◔̯◔\n",
    "\n",
    "[pandas thoughts](https://pandas.pydata.org/pandas-docs/stable/user_guide/scale.html#:~:text=pandas%20provides%20data%20structures%20for,need%20to%20make%20intermediate%20copies) | [Memory and Speed Python](https://pythonspeed.com/memory/) | [Further Help Kaggle](https://www.kaggle.com/frankherfert/tips-tricks-for-working-with-large-datasets)\n",
    "\n",
    "https://towardsdatascience.com/what-to-do-when-your-data-is-too-big-for-your-memory-65c84c600585\n",
    "\n",
    "https://www.ionos.com/digitalguide/hosting/technical-matters/in-memory-databases/\n",
    "\n",
    "https://www.kaggle.com/yuliagm/how-to-work-with-big-datasets-on-16g-ram-dask"
   ]
  }
 ],
 "metadata": {
  "kernelspec": {
   "display_name": "Python 3",
   "language": "python",
   "name": "python3"
  },
  "language_info": {
   "codemirror_mode": {
    "name": "ipython",
    "version": 3
   },
   "file_extension": ".py",
   "mimetype": "text/x-python",
   "name": "python",
   "nbconvert_exporter": "python",
   "pygments_lexer": "ipython3",
   "version": "3.7.3"
  }
 },
 "nbformat": 4,
 "nbformat_minor": 4
}
