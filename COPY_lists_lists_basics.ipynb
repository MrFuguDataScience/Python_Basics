{
 "cells": [
  {
   "cell_type": "markdown",
   "metadata": {},
   "source": [
    "# `List of List Again:`\n",
    "\n",
    "# <font color=red>Mr Fugu Data Science</font>\n",
    "\n",
    "# (◕‿◕✿)\n",
    "\n",
    "# Purpose & Outcome:\n",
    "\n",
    "+ Use List comprehensions, looping and numpy arrays\n",
    "+ Show examples of lists of list with uneven sizes and how to parse\n",
    "    + Flatten\n",
    "    + Delete, reomve, pop\n",
    "    + Insert\n",
    "\n",
    "**Hit me up @ Buymeacoffee:** @mrfugudatasci\n",
    "https://www.buymeacoffee.com/mrfugudatasci"
   ]
  },
  {
   "cell_type": "code",
   "execution_count": 1,
   "metadata": {},
   "outputs": [],
   "source": [
    "import pandas as pd\n",
    "import time"
   ]
  },
  {
   "cell_type": "markdown",
   "metadata": {},
   "source": [
    "# Lists:\n",
    "+ Are Mutable:\n",
    "+ Can have duplicates\n",
    "+ Ordered\n"
   ]
  },
  {
   "cell_type": "code",
   "execution_count": 2,
   "metadata": {},
   "outputs": [],
   "source": [
    "# Uneven size:\n",
    "A=[[1,2,3,4],[5,6,7],[8,9],[10]]\n",
    "\n",
    "#Strings: Name_address\n",
    "B=[['John','Jane','Ali','Depesh','Jose','Klein'],\n",
    "['100 E. Pearlman st','1000 Joshua tree ln','598 Coach pkwy',\n",
    "'1800 Boston ct','12 Hillside wy','9022 E. Buckington ct']]\n",
    "\n",
    "# Mixed types:\n",
    "C=[[1,'Yay',2,'Nope',{'Bilbao':'Spain'}],['Connor',('a',4)],[],['Barney',123,(3,88)]]\n",
    "\n",
    "# Name, profession and age as tuple\n",
    "D=[['Paul','Oakenfold','Musician'],['Armin', 'Van Buuren','Musician'],\n",
    "   ['keanu', 'Reeve','Actor'],('age',57),\n",
    "   ('age',43),('age',56)]"
   ]
  },
  {
   "cell_type": "code",
   "execution_count": 3,
   "metadata": {},
   "outputs": [],
   "source": [
    "# Look at our error:\n",
    "# for i in A:\n",
    "#     print(i[3])"
   ]
  },
  {
   "cell_type": "code",
   "execution_count": 13,
   "metadata": {},
   "outputs": [
    {
     "data": {
      "text/plain": [
       "[4, 'None', 'None', 'None']"
      ]
     },
     "execution_count": 13,
     "metadata": {},
     "output_type": "execute_result"
    }
   ],
   "source": [
    "# Lets get any element of each list in (A) by idx position:\n",
    "\n",
    "def fcn_take_idx(your_list,idx):\n",
    "    new_list=[]\n",
    "    for i in range(len(your_list)):\n",
    "        try: \n",
    "            new_list.append(your_list[i][idx])\n",
    "            \n",
    "        except:\n",
    "            new_list.append('None')\n",
    "    return new_list\n",
    "\n",
    "fcn_take_idx(A,3)"
   ]
  },
  {
   "cell_type": "code",
   "execution_count": 14,
   "metadata": {},
   "outputs": [
    {
     "name": "stdout",
     "output_type": "stream",
     "text": [
      "1.91 µs ± 31.3 ns per loop (mean ± std. dev. of 7 runs, 1000000 loops each)\n"
     ]
    }
   ],
   "source": [
    "%%timeit\n",
    "fcn_take_idx(A,3)"
   ]
  },
  {
   "cell_type": "markdown",
   "metadata": {},
   "source": [
    "# `Flatten:`"
   ]
  },
  {
   "cell_type": "code",
   "execution_count": 15,
   "metadata": {},
   "outputs": [
    {
     "data": {
      "text/plain": [
       "[1, 2, 3, 4, 5, 6, 7, 8, 9, 10]"
      ]
     },
     "execution_count": 15,
     "metadata": {},
     "output_type": "execute_result"
    }
   ],
   "source": [
    "# EX.1)  unnest (A) with list comprhension:\n",
    "\n",
    "[y for x in A for y in x]"
   ]
  },
  {
   "cell_type": "code",
   "execution_count": 16,
   "metadata": {},
   "outputs": [
    {
     "name": "stdout",
     "output_type": "stream",
     "text": [
      "760 ns ± 35.6 ns per loop (mean ± std. dev. of 7 runs, 1000000 loops each)\n"
     ]
    }
   ],
   "source": [
    "%%timeit\n",
    "[y for x in A for y in x]"
   ]
  },
  {
   "cell_type": "code",
   "execution_count": 17,
   "metadata": {},
   "outputs": [
    {
     "name": "stdout",
     "output_type": "stream",
     "text": [
      "1.17 µs ± 24.3 ns per loop (mean ± std. dev. of 7 runs, 1000000 loops each)\n"
     ]
    }
   ],
   "source": [
    "%%timeit\n",
    "# Ex. 2) Unnest with loop:\n",
    "\n",
    "flat_loop=[]\n",
    "for i in A:\n",
    "    for j in i:\n",
    "        flat_loop.append(j)\n",
    "flat_loop"
   ]
  },
  {
   "cell_type": "code",
   "execution_count": 21,
   "metadata": {},
   "outputs": [
    {
     "data": {
      "text/plain": [
       "[1, 2, 3, 4, 5, 6, 7, 8, 9, 10]"
      ]
     },
     "execution_count": 21,
     "metadata": {},
     "output_type": "execute_result"
    }
   ],
   "source": [
    "# Ex. 3) flatten with Itertools\n",
    "\n",
    "import itertools\n",
    "\n",
    "list(itertools.chain(*A))"
   ]
  },
  {
   "cell_type": "code",
   "execution_count": 22,
   "metadata": {},
   "outputs": [
    {
     "name": "stdout",
     "output_type": "stream",
     "text": [
      "628 ns ± 10.3 ns per loop (mean ± std. dev. of 7 runs, 1000000 loops each)\n"
     ]
    }
   ],
   "source": [
    "%%timeit\n",
    "# cut and paste command from above\n",
    "list(itertools.chain(*A))"
   ]
  },
  {
   "cell_type": "markdown",
   "metadata": {},
   "source": [
    "# `Unpack: by index value:`"
   ]
  },
  {
   "cell_type": "code",
   "execution_count": 23,
   "metadata": {},
   "outputs": [
    {
     "data": {
      "text/plain": [
       "[1, 2, 3, 4, 5, 6, 7]"
      ]
     },
     "execution_count": 23,
     "metadata": {},
     "output_type": "execute_result"
    }
   ],
   "source": [
    "# Unpack by specific index positions:\n",
    "\n",
    "A_=[[1,2,3,4],[5,6,7],[8,9],[10]]\n",
    "\n",
    "[*A_[0],*A_[1]]"
   ]
  },
  {
   "cell_type": "code",
   "execution_count": 24,
   "metadata": {},
   "outputs": [
    {
     "name": "stdout",
     "output_type": "stream",
     "text": [
      "462 ns ± 35.8 ns per loop (mean ± std. dev. of 7 runs, 1000000 loops each)\n"
     ]
    }
   ],
   "source": [
    "%%timeit\n",
    "# Use extend to flatten lists:\n",
    "alt_flat=[]\n",
    "for i in A_:\n",
    "    alt_flat.extend(i)\n",
    "alt_flat"
   ]
  },
  {
   "cell_type": "code",
   "execution_count": 26,
   "metadata": {},
   "outputs": [
    {
     "data": {
      "text/plain": [
       "[1, 2, 3, 4, 5, 6, 7, 8, 9, 10]"
      ]
     },
     "execution_count": 26,
     "metadata": {},
     "output_type": "execute_result"
    }
   ],
   "source": [
    "# cut and paste from above\n",
    "alt_flat=[]\n",
    "for i in A_:\n",
    "    alt_flat.extend(i)\n",
    "alt_flat"
   ]
  },
  {
   "cell_type": "markdown",
   "metadata": {},
   "source": [
    "# Take only lists of len >2:\n"
   ]
  },
  {
   "cell_type": "code",
   "execution_count": null,
   "metadata": {},
   "outputs": [],
   "source": [
    "[ y for x in A if len(x) > 2 for y in [x] ]\n",
    "\n",
    "# if you do not surround the [x], you will get a flat list!"
   ]
  },
  {
   "cell_type": "markdown",
   "metadata": {},
   "source": [
    "# `Convert Nested Lists of List into: tuple lists:` (Name and address)"
   ]
  },
  {
   "cell_type": "code",
   "execution_count": null,
   "metadata": {},
   "outputs": [],
   "source": [
    "print('Original Data:\\n',B)\n",
    "print('----------------------')\n",
    "print('Zipped list:\\n',list(zip(B[0],B[1])))"
   ]
  },
  {
   "cell_type": "code",
   "execution_count": null,
   "metadata": {},
   "outputs": [],
   "source": [
    "# Example where we have lists of list and tuples corresponding to a persons information\n",
    "# But, this is not what we exactly want. Need to rethink...\n",
    "names=[]\n",
    "ages_=[]\n",
    "\n",
    "for i in D:\n",
    "    if type(i)==list:\n",
    "        names.append(i)\n",
    "    else:\n",
    "        ages_.append(i[1])\n",
    "    w=list(zip(names,ages_))\n",
    "    \n",
    "w\n"
   ]
  },
  {
   "cell_type": "code",
   "execution_count": 30,
   "metadata": {},
   "outputs": [
    {
     "data": {
      "text/html": [
       "<div>\n",
       "<style scoped>\n",
       "    .dataframe tbody tr th:only-of-type {\n",
       "        vertical-align: middle;\n",
       "    }\n",
       "\n",
       "    .dataframe tbody tr th {\n",
       "        vertical-align: top;\n",
       "    }\n",
       "\n",
       "    .dataframe thead th {\n",
       "        text-align: right;\n",
       "    }\n",
       "</style>\n",
       "<table border=\"1\" class=\"dataframe\">\n",
       "  <thead>\n",
       "    <tr style=\"text-align: right;\">\n",
       "      <th></th>\n",
       "      <th>first_name</th>\n",
       "      <th>last_name</th>\n",
       "      <th>occupation</th>\n",
       "      <th>age</th>\n",
       "    </tr>\n",
       "  </thead>\n",
       "  <tbody>\n",
       "    <tr>\n",
       "      <th>0</th>\n",
       "      <td>Paul</td>\n",
       "      <td>Oakenfold</td>\n",
       "      <td>Musician</td>\n",
       "      <td>57</td>\n",
       "    </tr>\n",
       "    <tr>\n",
       "      <th>1</th>\n",
       "      <td>Armin</td>\n",
       "      <td>Van Buuren</td>\n",
       "      <td>Musician</td>\n",
       "      <td>43</td>\n",
       "    </tr>\n",
       "    <tr>\n",
       "      <th>2</th>\n",
       "      <td>keanu</td>\n",
       "      <td>Reeve</td>\n",
       "      <td>Actor</td>\n",
       "      <td>56</td>\n",
       "    </tr>\n",
       "  </tbody>\n",
       "</table>\n",
       "</div>"
      ],
      "text/plain": [
       "  first_name   last_name occupation  age\n",
       "0       Paul   Oakenfold   Musician   57\n",
       "1      Armin  Van Buuren   Musician   43\n",
       "2      keanu       Reeve      Actor   56"
      ]
     },
     "execution_count": 30,
     "metadata": {},
     "output_type": "execute_result"
    }
   ],
   "source": [
    "names=[]\n",
    "ages_=[]\n",
    "ppl=['first_name','last_name','occupation']\n",
    "\n",
    "for i in D:\n",
    "    if type(i)==list:\n",
    "        kk=dict(zip(ppl,i))\n",
    "        names.append(kk)\n",
    "    else:\n",
    "        ages_.append([i[1]])\n",
    "\n",
    "\n",
    "cc=pd.DataFrame(names)\n",
    "dd=pd.DataFrame(ages_,columns=['age'])\n",
    "pd.concat([cc,dd],axis=1)"
   ]
  },
  {
   "cell_type": "code",
   "execution_count": 29,
   "metadata": {},
   "outputs": [
    {
     "name": "stdout",
     "output_type": "stream",
     "text": [
      "1.75 ms ± 96.4 µs per loop (mean ± std. dev. of 7 runs, 1000 loops each)\n"
     ]
    }
   ],
   "source": [
    "%%timeit\n",
    "names=[]\n",
    "ages_=[]\n",
    "ppl=['first_name','last_name','occupation']\n",
    "\n",
    "for i in D:\n",
    "    if type(i)==list:\n",
    "        kk=dict(zip(ppl,i))\n",
    "        names.append(kk)\n",
    "    else:\n",
    "        ages_.append([i[1]])\n",
    "\n",
    "\n",
    "cc=pd.DataFrame(names)\n",
    "dd=pd.DataFrame(ages_,columns=['age'])\n",
    "pd.concat([cc,dd],axis=1)"
   ]
  },
  {
   "cell_type": "code",
   "execution_count": null,
   "metadata": {},
   "outputs": [],
   "source": [
    "# Ok we are part of the way, we need to still iterate more \n",
    "ppl_=['first','last','occ']\n",
    "mm=[ dict(zip(ppl_,x)) if type(x) ==list else x for x in D]\n",
    "mm"
   ]
  },
  {
   "cell_type": "code",
   "execution_count": null,
   "metadata": {},
   "outputs": [],
   "source": [
    "\n",
    "\n",
    "ppl=['first','second','occ']\n",
    "mm=[ dict(zip(ppl,x)) if type(x) ==list else x for x in D]\n",
    "\n",
    "nms=[] # names\n",
    "b=[] # ages\n",
    "\n",
    "for j in mm:\n",
    "    if type(j)==dict:\n",
    "        nms.append(j)\n",
    "    else:\n",
    "        b.append({j[0]:j[1]})\n",
    "\n",
    "        \n",
    "nms_=pd.DataFrame(nms)\n",
    "ag_=pd.DataFrame(b)\n",
    "pd.concat([nms_,ag_],axis=1)\n",
    "\n"
   ]
  },
  {
   "cell_type": "code",
   "execution_count": null,
   "metadata": {},
   "outputs": [],
   "source": [
    "%%timeit\n",
    "\n",
    "ppl=['first','second','occ']\n",
    "mm=[ dict(zip(ppl,x)) if type(x) ==list else x for x in D]\n",
    "\n",
    "nms=[] # names\n",
    "b=[] # ages\n",
    "\n",
    "for j in mm:\n",
    "    if type(j)==dict:\n",
    "        nms.append(j)\n",
    "    else:\n",
    "        b.append({j[0]:j[1]})\n",
    "\n",
    "        \n",
    "nms_=pd.DataFrame(nms)\n",
    "ag_=pd.DataFrame(b)\n",
    "pd.concat([nms_,ag_],axis=1)"
   ]
  },
  {
   "cell_type": "markdown",
   "metadata": {},
   "source": [
    "# `Let's play around with (C):`\n",
    "\n",
    "+ 1.) lets order all the lists of list by data type\n",
    "+ 2.) take out a specific datatype "
   ]
  },
  {
   "cell_type": "code",
   "execution_count": null,
   "metadata": {},
   "outputs": [],
   "source": [
    "print(C)\n",
    "for i in C:\n",
    "    print('--------',type(i),'length of each sublist:',len(i))"
   ]
  },
  {
   "cell_type": "code",
   "execution_count": null,
   "metadata": {},
   "outputs": [],
   "source": [
    "# Only take the strings from each list and their idx position\n",
    "only_str=[]\n",
    "for i in range(len(C)):\n",
    "    for j in C[i]:\n",
    "        if type(j)==str:\n",
    "            only_str.append([i,j])\n",
    "only_str"
   ]
  },
  {
   "cell_type": "markdown",
   "metadata": {},
   "source": [
    "# `Adding Element to list at specific index:`"
   ]
  },
  {
   "cell_type": "code",
   "execution_count": null,
   "metadata": {},
   "outputs": [],
   "source": [
    "# you are adding to the end of list 3\n",
    "print('Original: ',A)\n",
    "\n",
    "A[3].append(11)\n",
    "print('updated: ',A)\n"
   ]
  },
  {
   "cell_type": "markdown",
   "metadata": {},
   "source": [
    "# `Update a value for nested list:`"
   ]
  },
  {
   "cell_type": "code",
   "execution_count": null,
   "metadata": {},
   "outputs": [],
   "source": [
    "# Changing the list to that value:\n",
    "E=[[0,1,2],[4,4,8],[6,11,20,9],[3,7],[1]]\n",
    "print('Original:',E)\n",
    "\n",
    "E[0]=[2]\n",
    "print('Updated:',E)"
   ]
  },
  {
   "cell_type": "markdown",
   "metadata": {},
   "source": [
    "# `Insert into list at specific point:`"
   ]
  },
  {
   "cell_type": "code",
   "execution_count": null,
   "metadata": {},
   "outputs": [],
   "source": [
    "print('Original:',E)\n",
    "E[3].insert(1,'yay')\n",
    "print('Insert at list 4, index 1:',E)"
   ]
  },
  {
   "cell_type": "markdown",
   "metadata": {},
   "source": [
    "# `Merge one list into another:`"
   ]
  },
  {
   "cell_type": "code",
   "execution_count": null,
   "metadata": {},
   "outputs": [],
   "source": [
    "print('Original',only_str)\n",
    "print('----------------')\n",
    "only_str[3].extend(['My','New','List'])\n",
    "\n",
    "print('Merge New List at index 3:',only_str)"
   ]
  },
  {
   "cell_type": "markdown",
   "metadata": {},
   "source": [
    "# `Remove Items from Nested List:`"
   ]
  },
  {
   "cell_type": "code",
   "execution_count": null,
   "metadata": {},
   "outputs": [],
   "source": [
    "print('Original',only_str)\n",
    "print('-------------')\n",
    "v=only_str[1].pop()"
   ]
  },
  {
   "cell_type": "code",
   "execution_count": null,
   "metadata": {},
   "outputs": [],
   "source": [
    "# This is stored and wont harm it now\n",
    "print('Returning what we are discarding only:',v)\n",
    "only_str"
   ]
  },
  {
   "cell_type": "markdown",
   "metadata": {},
   "source": [
    "# `Pay attnetion: If we continue to run pop()`"
   ]
  },
  {
   "cell_type": "code",
   "execution_count": null,
   "metadata": {},
   "outputs": [],
   "source": [
    "print('Original:',C)\n",
    "print('---------')\n",
    "\n",
    "pop_=C[0].pop()"
   ]
  },
  {
   "cell_type": "code",
   "execution_count": null,
   "metadata": {},
   "outputs": [],
   "source": [
    "print('pop_ done once:',pop_)\n",
    "print('-------------')\n",
    "print('pop_,done twice:',C[0].pop())\n",
    "print('-------------')\n",
    "print('pop three times:',C[0].pop())\n",
    "print('-----------')\n",
    "print('pop 4 times:',C[0].pop())"
   ]
  },
  {
   "cell_type": "markdown",
   "metadata": {},
   "source": [
    "# `Return Everything Except deleted:`"
   ]
  },
  {
   "cell_type": "code",
   "execution_count": null,
   "metadata": {},
   "outputs": [],
   "source": [
    "L=[['harp','guitar','drums'],['chicken','dog','frog'],'wow',['blues cheese'],2]\n",
    "\n",
    "del L[1][1]\n",
    "\n",
    "L"
   ]
  },
  {
   "cell_type": "markdown",
   "metadata": {},
   "source": [
    "# `Remove from a location you are unsure about:`"
   ]
  },
  {
   "cell_type": "code",
   "execution_count": null,
   "metadata": {},
   "outputs": [],
   "source": [
    "L[1].remove('chicken')\n",
    "L"
   ]
  },
  {
   "cell_type": "markdown",
   "metadata": {},
   "source": [
    "# `Using a tool from Itertools called (cycle):`\n",
    "\n",
    "+ If you have uneven nested lists, you can use this to wrap around values the smaller list"
   ]
  },
  {
   "cell_type": "code",
   "execution_count": null,
   "metadata": {},
   "outputs": [],
   "source": [
    "from itertools import cycle\n",
    "\n",
    "lst_sht = ['Jose', 'Shawn', 'Margot','Jeanie']\n",
    "lst_longer_len = [ 10, 49, 5, 119, 8 ]\n",
    "merged2 = zip(cycle(lst_sht), lst_longer_len)\n",
    "print(list(merged2))"
   ]
  },
  {
   "cell_type": "markdown",
   "metadata": {},
   "source": [
    "# <font color=red>Like</font>, Share & \n",
    "\n",
    "# <font color=red>SUB</font>scribe\n",
    "\n",
    "# ◔̯◔\n",
    "\n",
    "# `If You Liked, consider buying me a coffee` \n",
    "@mrfugudatasci https://www.buymeacoffee.com/mrfugudatasci"
   ]
  }
 ],
 "metadata": {
  "kernelspec": {
   "display_name": "Python 3",
   "language": "python",
   "name": "python3"
  },
  "language_info": {
   "codemirror_mode": {
    "name": "ipython",
    "version": 3
   },
   "file_extension": ".py",
   "mimetype": "text/x-python",
   "name": "python",
   "nbconvert_exporter": "python",
   "pygments_lexer": "ipython3",
   "version": "3.7.3"
  }
 },
 "nbformat": 4,
 "nbformat_minor": 4
}
