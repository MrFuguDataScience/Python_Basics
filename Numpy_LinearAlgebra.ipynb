{
 "cells": [
  {
   "cell_type": "markdown",
   "metadata": {},
   "source": [
    "# `Linear Algebra using Numpy`\n",
    "\n",
    "# <font color=red>Mr Fugu Data Science</font>\n",
    "\n",
    "# (◕‿◕✿)\n",
    "\n",
    "# `Purpose & Outcome:`\n",
    "\n",
    "+ Learn new numpy operations\n",
    "+ Practice linear algebra\n",
    "    + brush up on how operations work by example\n",
    "\n",
    "**Help Support the Channel: Buy Me A Coffee @mrfugudatasci**\n",
    "\n",
    "[great resource](https://www.oreilly.com/library/view/machine-learning-with/9781491989371/ch01.html)"
   ]
  },
  {
   "cell_type": "code",
   "execution_count": 84,
   "metadata": {},
   "outputs": [
    {
     "data": {
      "text/plain": [
       "'1.18.1'"
      ]
     },
     "execution_count": 84,
     "metadata": {},
     "output_type": "execute_result"
    }
   ],
   "source": [
    "import numpy as np\n",
    "np.__version__ # if you were wondering what version"
   ]
  },
  {
   "cell_type": "markdown",
   "metadata": {},
   "source": [
    "# `Eigen values and vectors:`\n",
    "\n",
    "<font size=4>**$Ax=\\lambda x$**</font>, where **$\\lambda$** is our eigen value of A\n",
    "+ It deals with shrinking and stretching of vector ( x )\n",
    "    + If the eigenvalue is zero, then we have a nullspace\n",
    "+ the determinant <font size=4>$(A-\\lambda I)=0$</font>\n",
    "\n",
    "\n",
    "`------------------------------`\n",
    "\n",
    "\n",
    "# Ex.)  $$A=\\begin{bmatrix} 1 & 0 \\\\ -3 & 2  \\end{bmatrix}$$\n",
    "\n",
    "Let us solve this:\n",
    "\n",
    "<font size=5>$det\\begin{bmatrix} 1-\\lambda & 0 \\\\ -3& 2-\\lambda   \\end{bmatrix}$</font>\n",
    "\n",
    "<font size=5>$=(1-\\lambda)(2-\\lambda)-(3)*(0)$</font>\n",
    "\n",
    "`factor this and use completing the squares`\n",
    "\n",
    "<font size=5>$=\\lambda^2-3\\lambda+2$</font>\n",
    "\n",
    "<font size=5>$=(\\lambda-1)(\\lambda-2)$</font>\n",
    "\n",
    "<font size=5>$\\lambda=1,2$</font> `finally our eigen values yippie.`\n",
    "\n",
    "`---------------------------`\n",
    "\n",
    "`Eigen Vectors`\n",
    "\n",
    "\n",
    "solve for each w.r.t. $\\lambda$\n",
    "\n",
    "<font size=5>$\\begin{bmatrix} 1-\\lambda=1 & 0 \\\\ -3& 2-\\lambda=1   \\end{bmatrix}$</font> = <font size=5>$\\begin{bmatrix} 0 & 0 \\\\ -3& 1   \\end{bmatrix}$</font>\n",
    "\n",
    "Now, you can solve with `Gaussian Elimination:`\n",
    "\n",
    "<font size=5>$\\begin{bmatrix} 0(3) & 0(3) \\\\ -3& 1   \\end{bmatrix}$</font><font size=4>$\\begin{bmatrix}v_{11}\\\\v_{1,2} \\end{bmatrix}=0$</font>\n",
    "\n",
    "<font size=4>$-3v_{1,1}+v_{1,2}=0$</font> \n",
    "\n",
    "<font size=4>$x_{11}=\\frac{1}{3}v_{1,2}$</font>\n",
    "\n",
    "<font size=4>$eigenVector(\\lambda=1)=\\begin{bmatrix}x_{1,1}\\\\\\frac{1}{3}x_{1,2} \\end{bmatrix}$</font>\n",
    "\n",
    "`----------------------------`\n",
    "\n",
    "`Now samething for` $\\lambda=2$\n",
    "\n",
    "<font size=5>$\\begin{bmatrix} 1-\\lambda=2 & 0 \\\\ -3& 2-\\lambda=2   \\end{bmatrix}$</font> = <font size=5>$\\begin{bmatrix} -1 & 0 \\\\ -3& 0   \\end{bmatrix}$</font>\n",
    "\n",
    "Now, you can solve with `Gaussian Elimination:`\n",
    "\n",
    "<font size=5>$\\begin{bmatrix} -1(3) & 0(3) \\\\ -3& 0   \\end{bmatrix}$</font><font size=4>$\\begin{bmatrix}v_{11}\\\\v_{1,2} \\end{bmatrix}=0$</font>\n",
    "\n",
    "<font size=4>$-3v_{1,1}=0$</font> \n",
    "\n",
    "<font size=4>$x_{11}=0$</font>\n",
    "\n",
    "<font size=4>$eigenVector(\\lambda=2)=\\begin{bmatrix}x_{1,1}=0\\\\x_{1,2}=? \\end{bmatrix}$</font>\n",
    "\n",
    "$x_{1,2}=?$, meaning that you can place a value since it will only be a multiple say (1) like the results.\n",
    "\n",
    "[theory eigenvalue/vectors M.I.T help](http://math.mit.edu/~gs/linearalgebra/ila0601.pdf) | [matrix calculator with steps shown](https://matrixcalc.org/en/vectors.html#eigenvectors%28%7B%7B1,0%7D,%7B-3,2%7D%7D%29)"
   ]
  },
  {
   "cell_type": "code",
   "execution_count": 40,
   "metadata": {},
   "outputs": [
    {
     "data": {
      "text/plain": [
       "(array([2., 1.]),\n",
       " array([[0.        , 0.31622777],\n",
       "        [1.        , 0.9486833 ]]))"
      ]
     },
     "execution_count": 40,
     "metadata": {},
     "output_type": "execute_result"
    }
   ],
   "source": [
    "a = np.array([[1,0], [-3,2]])\n",
    "eigenvalues, eigenvectors = np.linalg.eig(a)\n",
    "\n",
    "eigenvalues,eigenvectors\n"
   ]
  },
  {
   "cell_type": "markdown",
   "metadata": {},
   "source": [
    "# `np.allclose( )` returns TRUE, if two arrays are element wise equal within a threshold "
   ]
  },
  {
   "cell_type": "code",
   "execution_count": 39,
   "metadata": {},
   "outputs": [
    {
     "data": {
      "text/plain": [
       "True"
      ]
     },
     "execution_count": 39,
     "metadata": {},
     "output_type": "execute_result"
    }
   ],
   "source": [
    "# Verify e-vec * e-val = A * e-vec\n",
    "d = eigenvectors[:,0] * eigenvalues[0]\n",
    "e = a @ eigenvectors[:, 0]\n",
    "np.allclose(d,e)"
   ]
  },
  {
   "cell_type": "markdown",
   "metadata": {},
   "source": [
    "# `Hermitian Matrix:`\n",
    "\n",
    "<font size=4>$A^{\\theta}=A^T$</font>, the conjugate of (A) equals (A) transpose\n",
    "\n",
    "$A=\\begin{bmatrix} 6&2-j&4 \\\\ 2+j&-3&-j\\\\4&j&9   \\end{bmatrix}$\n",
    "\n",
    "`then`\n",
    "$A^{\\theta}=\\begin{bmatrix} 6&2+j&4 \\\\ 2-j&-3&j\\\\4&-j&9   \\end{bmatrix}$ = $A^T=\\begin{bmatrix} 6&2+j&4 \\\\ 2-j&-3&j\\\\ 4&-j&9  \\end{bmatrix}$\n",
    "\n",
    "**Numpy Function:** `np.linalg.eigh( )`"
   ]
  },
  {
   "cell_type": "code",
   "execution_count": 8,
   "metadata": {},
   "outputs": [
    {
     "data": {
      "text/plain": [
       "(array([-1.54138127,  4.54138127]),\n",
       " array([[-0.76301998, -0.6463749 ],\n",
       "        [-0.6463749 ,  0.76301998]]))"
      ]
     },
     "execution_count": 8,
     "metadata": {},
     "output_type": "execute_result"
    }
   ],
   "source": [
    "a = np.array([[1,0], [-3,2]])\n",
    "eigenvalues, eigenvectors = np.linalg.eigh(a)\n",
    "eigenvalues, eigenvectors\n",
    "np.linalg.eigh(a_)"
   ]
  },
  {
   "cell_type": "markdown",
   "metadata": {},
   "source": [
    "`------------------------------`\n",
    "\n",
    "# `Trace: np.trace(  ) `\n",
    "+ **Sum of the diagonals for a square matrix**\n",
    "\n",
    "$tr(AB) = \\begin{bmatrix}&\\leftarrow \\vec{a}_1\\rightarrow& \\\\&\\leftarrow \\vec{a}_2\\rightarrow&\\\\ &\\vdots&  \\\\&\\leftarrow\\vec{a}_n\\rightarrow& \\end{bmatrix}$ $\\begin{bmatrix}{\\uparrow\\\\ {\\vec{b}_1}\\\\ \\downarrow }& {\\uparrow\\\\{\\vec{b}_2}\\\\\\downarrow} & \\dots & {\\uparrow\\\\{\\vec{b}_n}\\\\\\downarrow}  \\end{bmatrix}$\n",
    "<font size=4> $=\\begin{bmatrix}\\vec{a}_1^T\\vec{b}_1&\\vec{a}_1^T\\vec{b}_2&\\dots&\\vec{a}_1^T\\vec{b}_n \\\\ \\vec{a}_2^T\\vec{b}_1&\\vec{a}_2^T\\vec{b}_2&\\dots&\\vec{a}_2^T\\vec{b}_n \\\\   \n",
    "\\vdots&&\\ddots&\\vdots \\\\\n",
    "\\vec{a}_n^T\\vec{b}_1&\\vec{a}_n^T\\vec{b}_2&\\dots&\\vec{a}_n^T\\vec{b}_n\n",
    "\\end{bmatrix}$</font> = \n",
    "<font size=4>$\\begin{bmatrix} \\vec{a}_1^T\\vec{b}_1&& \\\\\n",
    "&\\vec{a}_2^T\\vec{b}_2& \\\\ &&\\vec{a}_n^T\\vec{b}_n\n",
    "\\end{bmatrix}$</font> = \n",
    "<font size=4>$\\sum\\limits_{i=1}^m\\vec{a}_1^T\\vec{b}_1 + \\sum\\limits_{i=1}^m\n",
    "\\vec{a}_2^T\\vec{b}_2 +\\sum\\limits_{i=1}^m \\vec{a}_n^T\\vec{b}_n$</font>\n",
    "\n",
    "[other properties of traces](https://web.stanford.edu/~jduchi/projects/matrix_prop.pdf)"
   ]
  },
  {
   "cell_type": "code",
   "execution_count": 45,
   "metadata": {},
   "outputs": [
    {
     "data": {
      "text/html": [
       "<style  type=\"text/css\" >\n",
       "    #T_dd372eb4_2f3c_11eb_bcb0_a82066121fddrow0_col0 {\n",
       "            background-color:  yellow;\n",
       "        }    #T_dd372eb4_2f3c_11eb_bcb0_a82066121fddrow1_col1 {\n",
       "            background-color:  yellow;\n",
       "        }    #T_dd372eb4_2f3c_11eb_bcb0_a82066121fddrow2_col2 {\n",
       "            background-color:  yellow;\n",
       "        }    #T_dd372eb4_2f3c_11eb_bcb0_a82066121fddrow3_col3 {\n",
       "            background-color:  yellow;\n",
       "        }</style><table id=\"T_dd372eb4_2f3c_11eb_bcb0_a82066121fdd\" ><thead>    <tr>        <th class=\"blank level0\" ></th>        <th class=\"col_heading level0 col0\" >a</th>        <th class=\"col_heading level0 col1\" >b</th>        <th class=\"col_heading level0 col2\" >c</th>        <th class=\"col_heading level0 col3\" >d</th>    </tr></thead><tbody>\n",
       "                <tr>\n",
       "                        <th id=\"T_dd372eb4_2f3c_11eb_bcb0_a82066121fddlevel0_row0\" class=\"row_heading level0 row0\" >0</th>\n",
       "                        <td id=\"T_dd372eb4_2f3c_11eb_bcb0_a82066121fddrow0_col0\" class=\"data row0 col0\" >1</td>\n",
       "                        <td id=\"T_dd372eb4_2f3c_11eb_bcb0_a82066121fddrow0_col1\" class=\"data row0 col1\" >1</td>\n",
       "                        <td id=\"T_dd372eb4_2f3c_11eb_bcb0_a82066121fddrow0_col2\" class=\"data row0 col2\" >1</td>\n",
       "                        <td id=\"T_dd372eb4_2f3c_11eb_bcb0_a82066121fddrow0_col3\" class=\"data row0 col3\" >1</td>\n",
       "            </tr>\n",
       "            <tr>\n",
       "                        <th id=\"T_dd372eb4_2f3c_11eb_bcb0_a82066121fddlevel0_row1\" class=\"row_heading level0 row1\" >1</th>\n",
       "                        <td id=\"T_dd372eb4_2f3c_11eb_bcb0_a82066121fddrow1_col0\" class=\"data row1 col0\" >2</td>\n",
       "                        <td id=\"T_dd372eb4_2f3c_11eb_bcb0_a82066121fddrow1_col1\" class=\"data row1 col1\" >3</td>\n",
       "                        <td id=\"T_dd372eb4_2f3c_11eb_bcb0_a82066121fddrow1_col2\" class=\"data row1 col2\" >4</td>\n",
       "                        <td id=\"T_dd372eb4_2f3c_11eb_bcb0_a82066121fddrow1_col3\" class=\"data row1 col3\" >5</td>\n",
       "            </tr>\n",
       "            <tr>\n",
       "                        <th id=\"T_dd372eb4_2f3c_11eb_bcb0_a82066121fddlevel0_row2\" class=\"row_heading level0 row2\" >2</th>\n",
       "                        <td id=\"T_dd372eb4_2f3c_11eb_bcb0_a82066121fddrow2_col0\" class=\"data row2 col0\" >3</td>\n",
       "                        <td id=\"T_dd372eb4_2f3c_11eb_bcb0_a82066121fddrow2_col1\" class=\"data row2 col1\" >5</td>\n",
       "                        <td id=\"T_dd372eb4_2f3c_11eb_bcb0_a82066121fddrow2_col2\" class=\"data row2 col2\" >7</td>\n",
       "                        <td id=\"T_dd372eb4_2f3c_11eb_bcb0_a82066121fddrow2_col3\" class=\"data row2 col3\" >9</td>\n",
       "            </tr>\n",
       "            <tr>\n",
       "                        <th id=\"T_dd372eb4_2f3c_11eb_bcb0_a82066121fddlevel0_row3\" class=\"row_heading level0 row3\" >3</th>\n",
       "                        <td id=\"T_dd372eb4_2f3c_11eb_bcb0_a82066121fddrow3_col0\" class=\"data row3 col0\" >4</td>\n",
       "                        <td id=\"T_dd372eb4_2f3c_11eb_bcb0_a82066121fddrow3_col1\" class=\"data row3 col1\" >7</td>\n",
       "                        <td id=\"T_dd372eb4_2f3c_11eb_bcb0_a82066121fddrow3_col2\" class=\"data row3 col2\" >10</td>\n",
       "                        <td id=\"T_dd372eb4_2f3c_11eb_bcb0_a82066121fddrow3_col3\" class=\"data row3 col3\" >11</td>\n",
       "            </tr>\n",
       "    </tbody></table>"
      ],
      "text/plain": [
       "<pandas.io.formats.style.Styler at 0x11c9bbb70>"
      ]
     },
     "execution_count": 45,
     "metadata": {},
     "output_type": "execute_result"
    }
   ],
   "source": [
    "import pandas as pd\n",
    "\n",
    "df = pd.DataFrame({'a':[1,2,3,4],'b':[1,3,5,7],'c':[1,4,7,10],'d':[1,5,9,11]})\n",
    "\n",
    "def highlight_diag(data, color='yellow'):\n",
    "    '''\n",
    "    highlight the diag values in a DataFrame\n",
    "    '''\n",
    "    attr = 'background-color: {}'.format(color)\n",
    "    # create a new dataframe of the same structure with default style value\n",
    "    df_style = data.replace(data, '')\n",
    "    # fill diagonal with highlight color\n",
    "    np.fill_diagonal(df_style.values, attr)\n",
    "    return df_style\n",
    "\n",
    "df.style.apply(highlight_diag, axis=None)\n",
    "\n",
    "# code source in citations stackoverflow"
   ]
  },
  {
   "cell_type": "code",
   "execution_count": 59,
   "metadata": {},
   "outputs": [
    {
     "data": {
      "text/plain": [
       "22"
      ]
     },
     "execution_count": 59,
     "metadata": {},
     "output_type": "execute_result"
    }
   ],
   "source": [
    "# Trace of (A)\n",
    "a_tr =np.array([[1,1,1,1],[2,3,4,5],[3,5,7,9],[4,7,10,11]])\n",
    "np.trace(a_tr)"
   ]
  },
  {
   "cell_type": "code",
   "execution_count": 61,
   "metadata": {},
   "outputs": [
    {
     "name": "stdout",
     "output_type": "stream",
     "text": [
      "22\n",
      "22\n"
     ]
    }
   ],
   "source": [
    "# alternate way to do same things: original trace\n",
    "print(a_tr.trace())\n",
    "\n",
    "print(sum(a_tr.diagonal()))"
   ]
  },
  {
   "cell_type": "markdown",
   "metadata": {},
   "source": [
    "# `Offset trace:`\n",
    "\n",
    "This allows you to work on the off-diagonals of your choice"
   ]
  },
  {
   "cell_type": "code",
   "execution_count": 54,
   "metadata": {},
   "outputs": [
    {
     "name": "stdout",
     "output_type": "stream",
     "text": [
      "directly Right of yellow: 14\n",
      "directly Left of yellow 17\n"
     ]
    }
   ],
   "source": [
    "# offset trace:\n",
    "print('directly Right of yellow:',np.trace(a_tr,offset=1))\n",
    "print('directly Left of yellow',np.trace(a_tr,offset=-1)) "
   ]
  },
  {
   "cell_type": "markdown",
   "metadata": {},
   "source": [
    "# `Using Least Squares: np.linalg.lstsq(A,b)`\n",
    "+ Under the hood uses SVD\n",
    "\n",
    "When would we use this?\n",
    "\n",
    "+ Well, if we had a system of equations outweighing amount of unknowns\n",
    "\n",
    "`Ex.)` consider if we had these 3 equations:\n",
    "\n",
    "$y=x_o+3x_1+x_2=6$\n",
    "\n",
    "$y=2x_o+x_1+x_2=4$\n",
    "\n",
    "$y=.2x_o-4x_1+.2x_2=7.4$\n",
    "\n",
    "`We can express this as matrix: Ax=b`\n",
    "\n",
    "+ `x: solution`\n",
    "+ `residuals: error`\n",
    "+ `rank:`\n",
    "+ `s: singular values`\n",
    "\n",
    "[one example](https://numpy.org/doc/stable/reference/generated/numpy.linalg.lstsq.html) | [example 02](https://riptutorial.com/numpy/example/16034/find-the-least-squares-solution-to-a-linear-system-with-np-linalg-lstsq)"
   ]
  },
  {
   "cell_type": "code",
   "execution_count": 150,
   "metadata": {},
   "outputs": [],
   "source": [
    "A_l=np.array([[1,3,1],[2,1,1],[.2,-4,.2]])\n",
    "b_l=np.array([6,4,7.4])\n",
    "x, residuals, rank, s = np.linalg.lstsq(A_l,b_l,rcond=None)"
   ]
  },
  {
   "cell_type": "markdown",
   "metadata": {},
   "source": [
    "# `Solving Linear Systems with: np.linalg.solve()`\n",
    "+ (A) must be a square and full-rank matrix: All of its \n",
    "rows must be be linearly independent. \n",
    "+ (A) should be invertible/non-singular (its determinant is not zero)\n",
    "\n",
    "# Ex.) two equations and two unknowns\n",
    "\n",
    "$x_1+x_2=30$\n",
    "\n",
    "$6x_1+2.3x_2=44$\n",
    "\n",
    "\n",
    "we will use `Ax=b` to solve this problem\n"
   ]
  },
  {
   "cell_type": "code",
   "execution_count": 151,
   "metadata": {},
   "outputs": [
    {
     "data": {
      "text/plain": [
       "array([-6.75675676, 36.75675676])"
      ]
     },
     "execution_count": 151,
     "metadata": {},
     "output_type": "execute_result"
    }
   ],
   "source": [
    "# Ax=b -> [A^-1]*b, but dont directly instead with .solve()\n",
    "A = np.array([[1,1],[6,2.3]])\n",
    "b= np.array([30,44])\n",
    "\n",
    "np.linalg.solve(A,b)"
   ]
  },
  {
   "cell_type": "markdown",
   "metadata": {},
   "source": [
    "# `we could use: np.linalg.inv(A).dot(B)`\n",
    "\n",
    "To solve the problem from above, but there is a caveat and considerations.\n",
    "+ When using numpy we have two options to solve this problem, one is faster than the other.\n",
    "Let's take into account our other option and how it can inhibit our computations/time.\n",
    "\n",
    "+ We are starting with `Ax=b ->`$x=A^{-1}*b$ but computing the inverse is time consuming for a few reasons as well as resources allocated.\n",
    "\n",
    "`Direct version`\n",
    "Let's understand how `np.linalg.solve()` works.\n",
    "+ we are not calculating the inverse, instead we are using LAPACK routine.\n",
    "    + Then LU decomposition is used to find the values using forward/back substitution.\n",
    " \n",
    "`Slower version & (can be) Not as accurate`\n",
    "Now, `np.linalg.inv(A).dot(B)`\n",
    "+ you are using more floating point operations to solve the inverse\n",
    "    + If (A) is an ill-conditioned matrix you will have inaccuracy\n",
    "    + useless steps that are unneeded while computing\n",
    " \n",
    "[.solve() vs .inv.dot()](https://stackoverflow.com/questions/31256252/why-does-numpy-linalg-solve-offer-more-precise-matrix-inversions-than-numpy-li) | [LAPACK background](http://www.netlib.org/lapack/)"
   ]
  },
  {
   "cell_type": "code",
   "execution_count": 152,
   "metadata": {},
   "outputs": [
    {
     "data": {
      "text/plain": [
       "array([-6.75675676, 36.75675676])"
      ]
     },
     "execution_count": 152,
     "metadata": {},
     "output_type": "execute_result"
    }
   ],
   "source": [
    "np.linalg.inv(A).dot(b)"
   ]
  },
  {
   "cell_type": "markdown",
   "metadata": {},
   "source": [
    "# `Multiple Linear Regression:`\n",
    "\n",
    "<font size=4>$X =\\begin{bmatrix} 1&x_{1,1}&x_{1,2}&\\dots&x_{1,m} \\\\ 1&x_{2,1}&x_{2,2}&\\dots&x_{2,m}\\\\\\vdots&\\vdots&\\vdots&\\ddots&x_{2,m}\\\\1&x_{n,1}&x_{n,2}&\\dots&x_{n,m} \\end{bmatrix}$,\n",
    "$Y=\\begin{bmatrix}y_1\\\\y_2\\\\\\vdots\\\\y_n \\end{bmatrix}$</font>\n",
    "\n",
    "\n",
    "<font size=4>$\\hat y = x\\beta = \\beta_o +\\beta_1x+\\beta_2x+...\\beta_nx_n$</font>\n",
    "\n",
    "<font size=4>$\\beta=(X^TX)^{-1}X^Ty$</font>\n",
    "\n",
    "[doing by hand with code example](http://www2.lawrence.edu/fast/GREGGJ/Python/numpy/numpyLA.html)"
   ]
  },
  {
   "cell_type": "markdown",
   "metadata": {},
   "source": [
    "# Multiple Linear Regression: matrice form:\n",
    "\n",
    "`Xt = np.transpose(X)\n",
    "XtX = np.dot(Xt,X)\n",
    "Xty = np.dot(Xt,y)\n",
    "beta = np.linalg.solve(XtX,Xty)`"
   ]
  },
  {
   "cell_type": "markdown",
   "metadata": {},
   "source": [
    "# `Matrix Multiplication:`\n",
    "\n",
    "<font size=4>$A=\\begin{bmatrix} 1&2&3&4 \\\\ 5&6&7&8\\\\9&10&11&12   \\end{bmatrix}_{ 3x4}$\n",
    ",$B=\\begin{bmatrix} 2&4&6 \\\\ 8&10&12\\\\14&16&18  \\end{bmatrix}_{ 3x3}$</font>\n",
    "\n",
    "we have a $(3x4)(3x3)=(?)$, depends transpose and order of matrices `3x4 or 4x3`\n",
    "\n",
    "<font size=4>$[A^TB]_{3x4}$ versus $[BA^T]_{3x4}$</font>\n",
    "\n",
    "`Order MATTERS~`"
   ]
  },
  {
   "cell_type": "markdown",
   "metadata": {},
   "source": [
    "# `np.multiply(): element wise multiplication`"
   ]
  },
  {
   "cell_type": "code",
   "execution_count": 122,
   "metadata": {},
   "outputs": [
    {
     "data": {
      "text/plain": [
       "array([[[  2,  20,  54],\n",
       "        [  8,  50, 108],\n",
       "        [ 14,  80, 162]],\n",
       "\n",
       "       [[  4,  24,  60],\n",
       "        [ 16,  60, 120],\n",
       "        [ 28,  96, 180]],\n",
       "\n",
       "       [[  6,  28,  66],\n",
       "        [ 24,  70, 132],\n",
       "        [ 42, 112, 198]],\n",
       "\n",
       "       [[  8,  32,  72],\n",
       "        [ 32,  80, 144],\n",
       "        [ 56, 128, 216]]])"
      ]
     },
     "execution_count": 122,
     "metadata": {},
     "output_type": "execute_result"
    }
   ],
   "source": [
    "# 4x3*3x3 = 4x3x3\n",
    "aa=np.array([[1,2,3,4],[5,6,7,8],[9,10,11,12]])\n",
    "bb=np.array([[2,4,6],[8,10,12],[14,16,18]])\n",
    "np.multiply(aa[:,np.newaxis].T,bb)\n",
    "\n",
    "# np.multiply(bb,aa[:,np.newaxis].T) # samething"
   ]
  },
  {
   "cell_type": "markdown",
   "metadata": {},
   "source": [
    "# Pay Attention:\n",
    "\n",
    "# `np.matmul( ) != as np.multiply( )`\n",
    "\n",
    "here are what the first few entrys of `np.matmul(bb,aa)` looks like\n",
    "\n",
    "<font size=4>$B*A =\\begin{bmatrix} (2+20+54=76)&x_{1,2}&\\dots&x_{1,m} \\\\ (81+50+108=166)&x_{2,1}&x_{2,2}&\\dots&x_{2,m}\\\\(14+80+162=256)&\\vdots&\\vdots&\\ddots&x_{n,m}\\\\ \\end{bmatrix}$"
   ]
  },
  {
   "cell_type": "code",
   "execution_count": 124,
   "metadata": {},
   "outputs": [
    {
     "name": "stdout",
     "output_type": "stream",
     "text": [
      "[[168 198 228]\n",
      " [192 228 264]\n",
      " [216 258 300]\n",
      " [240 288 336]]\n",
      "------------------\n",
      "[[ 76  88 100 112]\n",
      " [166 196 226 256]\n",
      " [256 304 352 400]]\n"
     ]
    }
   ],
   "source": [
    "# 4x3*3x3 = 4*3\n",
    "print(np.matmul(aa.T,bb))\n",
    "print('------------------')\n",
    "# 3x3*3x4 = 3x4 \n",
    "print(np.matmul(bb,aa))"
   ]
  },
  {
   "cell_type": "markdown",
   "metadata": {},
   "source": [
    "# `Dot Product: np.dot(a,b) or a.dot(b)`\n",
    "\n",
    "`Returns a Scalar`\n",
    "\n",
    "<font size=4>$A=\\begin{bmatrix} 2&3\\\\4&5\\\\  \\end{bmatrix}$</font>,<font size=4>$B=\\begin{bmatrix} 7&8\\\\9&10  \\end{bmatrix}$</font>\n",
    "\n",
    "<font size=4>$dot(AB)=\\begin{bmatrix} 2*7+3*9&2*8+3*10 \\\\4*7+5*9&4*8+3*10  \\end{bmatrix}$</font> = <font size=4>$\\begin{bmatrix} 41&46\\\\73&62 \\end{bmatrix}$</font>"
   ]
  },
  {
   "cell_type": "code",
   "execution_count": 74,
   "metadata": {},
   "outputs": [
    {
     "name": "stdout",
     "output_type": "stream",
     "text": [
      "[[41 46]\n",
      " [73 82]]\n",
      "---------\n",
      "[[41 46]\n",
      " [73 82]]\n"
     ]
    }
   ],
   "source": [
    "a_=np.array([[2,3],[4,5]])\n",
    "b_=np.array([[7,8],[9,10]])\n",
    "\n",
    "print(np.dot(a_,b_))\n",
    "print('---------')\n",
    "print(a_.dot(b_))"
   ]
  },
  {
   "cell_type": "markdown",
   "metadata": {},
   "source": [
    "# `Inner Product: np.inner(a,b)` \n",
    "\n",
    "`Returns a SCALAR`\n",
    "\n",
    "<font size=4>$A=\\begin{bmatrix} 2&3\\\\4&5\\\\  \\end{bmatrix}$</font>,<font size=4>$B=\\begin{bmatrix} 7&8\\\\9&10  \\end{bmatrix}$</font>\n",
    "\n",
    "<font size=4>$dot(AB)=\\begin{bmatrix} 2*7+3*8&2*9+3*10 \\\\4*7+5*8&4*9+5*10  \\end{bmatrix}$</font> = <font size=4>$\\begin{bmatrix} 38&48\\\\68&86 \\end{bmatrix}$</font>\n"
   ]
  },
  {
   "cell_type": "code",
   "execution_count": 82,
   "metadata": {},
   "outputs": [
    {
     "data": {
      "text/plain": [
       "array([[38, 48],\n",
       "       [68, 86]])"
      ]
     },
     "execution_count": 82,
     "metadata": {},
     "output_type": "execute_result"
    }
   ],
   "source": [
    "np.inner(a_,b_)"
   ]
  },
  {
   "cell_type": "markdown",
   "metadata": {},
   "source": [
    "# `Cross Product:  np.cross( ) or a.cross(b)`\n",
    "\n",
    "`Returns a VECTOR`\n",
    "\n",
    "+ There is an assumption in numpy for horizontal vectors, so you may need to do a transpose if you get an error.\n",
    "\n",
    "<font size=5>$$u = vxw = (x_1,x_2,x_3)(y_1,y_2,y_3)$$</font>\n",
    "\n",
    "<font size=5>$$=(x_2y_3-x_3y_2)i+(x_3y_1-x_1y_3)j+(x_1y_2-x_2y_1)k$$</font>\n"
   ]
  },
  {
   "cell_type": "code",
   "execution_count": 83,
   "metadata": {},
   "outputs": [
    {
     "data": {
      "text/plain": [
       "array([-5, -5])"
      ]
     },
     "execution_count": 83,
     "metadata": {},
     "output_type": "execute_result"
    }
   ],
   "source": [
    "np.cross(a_,b_)"
   ]
  },
  {
   "cell_type": "markdown",
   "metadata": {},
   "source": [
    "# `Outer Product: np.outer(a,b)`\n",
    "\n",
    "`multiples (a) and (b) together`\n",
    "\n",
    "<font size=4>$u \\otimes v = uv^T =\\begin{bmatrix}u_1\\\\u_2\\\\\\vdots\\\\u_n \\end{bmatrix} \\begin{bmatrix}v_1&v_2&\\dots&v_n  \\end{bmatrix}=$</font><font size=4>$\\begin{bmatrix} u_1v_1&u_1v_2&\\dots&u_1v_n \\\\ u_2v_1&u_2v_2&\\dots&u_2v_n \\\\ \n",
    "\\vdots&\\vdots&\\ddots&\\vdots \\\\ u_nv_1&u_nv_2&\\dots&u_nv_n\n",
    "\\end{bmatrix}$</font>\n",
    "\n",
    "[extra help for you](http://www.inf.ed.ac.uk/teaching/courses/cfcs1/lectures/cfcs_l10.pdf)"
   ]
  },
  {
   "cell_type": "code",
   "execution_count": 85,
   "metadata": {},
   "outputs": [
    {
     "data": {
      "text/plain": [
       "array([[14, 16, 18, 20],\n",
       "       [21, 24, 27, 30],\n",
       "       [28, 32, 36, 40],\n",
       "       [35, 40, 45, 50]])"
      ]
     },
     "execution_count": 85,
     "metadata": {},
     "output_type": "execute_result"
    }
   ],
   "source": [
    "np.outer(a_,b_)"
   ]
  },
  {
   "cell_type": "markdown",
   "metadata": {},
   "source": [
    "# <font color=red>Like</font>,Share &\n",
    "\n",
    "# <font color=red>SUB</font>scribe\n",
    "\n",
    "**`Help Support the channel: Buy Me A Coffee @mrfugudatasci`**"
   ]
  },
  {
   "cell_type": "markdown",
   "metadata": {},
   "source": [
    "# `Citations & Help:`\n",
    "\n",
    "# ◔̯◔\n",
    "\n",
    "https://www.bogotobogo.com/python/python_numpy_matrix_tutorial.php\n",
    "\n",
    "https://www.twilio.com/blog/2018/06/data-science-linear-algebra-python-scipy-numpy.html\n",
    "\n",
    "http://www2.lawrence.edu/fast/GREGGJ/Python/numpy/numpyLA.html\n",
    "\n",
    "https://web.stanford.edu/class/cs231a/section/section1.pdf\n",
    "\n",
    "http://snowball.millersville.edu/~adecaria/ESCI386P/esci386-lesson18-Linear-Algebra.pdf\n",
    "\n",
    "https://courses.cs.washington.edu/courses/cse446/20wi/Section1/linear_algebra.html\n",
    "\n",
    "https://sites.calvin.edu/scofield/courses/m256/materials/eigenstuff.pdf\n",
    "\n",
    "https://stackoverflow.com/questions/56916128/pandas-style-how-to-highlight-diagonal-elements\n",
    "\n",
    "https://www.ms.uky.edu/~lee/amspekulin/eigenvectors.pdf"
   ]
  }
 ],
 "metadata": {
  "kernelspec": {
   "display_name": "Python 3",
   "language": "python",
   "name": "python3"
  },
  "language_info": {
   "codemirror_mode": {
    "name": "ipython",
    "version": 3
   },
   "file_extension": ".py",
   "mimetype": "text/x-python",
   "name": "python",
   "nbconvert_exporter": "python",
   "pygments_lexer": "ipython3",
   "version": "3.7.3"
  }
 },
 "nbformat": 4,
 "nbformat_minor": 4
}
