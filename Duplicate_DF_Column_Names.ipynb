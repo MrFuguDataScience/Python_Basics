{
 "cells": [
  {
   "cell_type": "markdown",
   "metadata": {},
   "source": [
    "# `Duplicate Dataframe Column Names: What to do & how to fix`\n",
    "\n",
    "# <font color=red>Mr Fugu Data Science</font>\n",
    "\n",
    "# (◕‿◕✿)\n",
    "\n",
    "# <font color=red>Outcome</font>: `fix duplicate columns names in DF`"
   ]
  },
  {
   "cell_type": "code",
   "execution_count": 1,
   "metadata": {},
   "outputs": [],
   "source": [
    "import pandas as pd # dataframe stuff\n",
    "from collections import defaultdict # dictionary where values are a list\n",
    "import numpy as np # Formatting data with Nan\n",
    "import collections # This is used to help find duplicate values later"
   ]
  },
  {
   "cell_type": "code",
   "execution_count": 2,
   "metadata": {},
   "outputs": [],
   "source": [
    "df_parse=pd.read_csv('mysql_play_data.csv')"
   ]
  },
  {
   "cell_type": "code",
   "execution_count": 3,
   "metadata": {},
   "outputs": [
    {
     "data": {
      "text/plain": [
       "Index(['bonusPointsEarned', 'bonusPointsEarnedReason', 'pointsEarned',\n",
       "       'purchasedItemCount', 'rewardsReceiptStatus', 'totalSpent', 'userId',\n",
       "       '_id.oid', 'createDate.date', 'dateScanned.date', 'finishedDate.date',\n",
       "       'modifyDate.date', 'pointsAwardedDate.date', 'purchaseDate.date',\n",
       "       'barcode', 'description', 'finalPrice', 'itemPrice', 'needsFetchReview',\n",
       "       'partnerItemId', 'preventTargetGapPoints', 'quantityPurchased',\n",
       "       'userFlaggedBarcode', 'userFlaggedNewItem', 'userFlaggedPrice',\n",
       "       'userFlaggedQuantity', 'needsFetchReviewReason',\n",
       "       'pointsNotAwardedReason', 'pointsPayerId', 'rewardsGroup',\n",
       "       'rewardsProductPartnerId', 'userFlaggedDescription',\n",
       "       'originalMetaBriteBarcode', 'originalMetaBriteDescription', 'brandCode',\n",
       "       'competitorRewardsGroup', 'discountedItemPrice',\n",
       "       'originalReceiptItemText', 'itemNumber',\n",
       "       'originalMetaBriteQuantityPurchased',\n",
       "       'rewardsReceiptItemList_pointsEarned', 'targetPrice',\n",
       "       'competitiveProduct', 'originalFinalPrice',\n",
       "       'originalMetaBriteItemPrice', 'deleted', 'priceAfterCoupon',\n",
       "       'metabriteCampaignId'],\n",
       "      dtype='object')"
      ]
     },
     "execution_count": 3,
     "metadata": {},
     "output_type": "execute_result"
    }
   ],
   "source": [
    "df_parse.columns"
   ]
  },
  {
   "cell_type": "markdown",
   "metadata": {},
   "source": [
    "# `Artifically create double names for illustrative purposes:`"
   ]
  },
  {
   "cell_type": "code",
   "execution_count": 4,
   "metadata": {},
   "outputs": [
    {
     "data": {
      "text/plain": [
       "Index(['bonusPointsEarned', 'bonusPointsEarnedReason', 'pointsEarned',\n",
       "       'purchasedItemCount', 'rewardsReceiptStatus', 'totalSpent', 'userId',\n",
       "       '_id.oid', 'createDate.date', 'dateScanned.date', 'finishedDate.date',\n",
       "       'modifyDate.date', 'pointsAwardedDate.date', 'purchaseDate.date',\n",
       "       'barcode', 'description', 'finalPrice', 'itemPrice', 'needsFetchReview',\n",
       "       'partnerItemId', 'preventTargetGapPoints', 'quantityPurchased',\n",
       "       'userFlaggedBarcode', 'userFlaggedNewItem', 'userFlaggedPrice',\n",
       "       'userFlaggedQuantity', 'needsFetchReviewReason',\n",
       "       'pointsNotAwardedReason', 'pointsPayerId', 'rewardsGroup',\n",
       "       'rewardsProductPartnerId', 'userFlaggedDescription',\n",
       "       'originalMetaBriteBarcode', 'originalMetaBriteDescription', 'brandCode',\n",
       "       'competitorRewardsGroup', 'discountedItemPrice',\n",
       "       'originalReceiptItemText', 'itemNumber',\n",
       "       'originalMetaBriteQuantityPurchased', 'pointsEarned', 'targetPrice',\n",
       "       'competitiveProduct', 'originalFinalPrice',\n",
       "       'originalMetaBriteItemPrice', 'deleted', 'priceAfterCoupon',\n",
       "       'metabriteCampaignId'],\n",
       "      dtype='object')"
      ]
     },
     "execution_count": 4,
     "metadata": {},
     "output_type": "execute_result"
    }
   ],
   "source": [
    "# Get the location of the Column we want to change and create our duplicate name!\n",
    "df_parse.columns.get_loc('rewardsReceiptItemList_pointsEarned')\n",
    "\n",
    "# Change\n",
    "df_parse=df_parse.rename(columns={df_parse.columns[40]:\"pointsEarned\"})\n",
    "\n",
    "df_parse.columns # Now we have duplicated Column names, we can have some fun to fix..."
   ]
  },
  {
   "cell_type": "markdown",
   "metadata": {},
   "source": [
    "# `Online Suggested FIX: (Spoiler, doesn't work here!)`\n",
    "\n",
    "+ But, why does this not work?"
   ]
  },
  {
   "cell_type": "code",
   "execution_count": 6,
   "metadata": {},
   "outputs": [
    {
     "data": {
      "text/plain": [
       "Index(['bonusPointsEarned', 'bonusPointsEarnedReason',\n",
       "       'rewardsReceiptItemList_pointsEarned', 'purchasedItemCount',\n",
       "       'rewardsReceiptStatus', 'totalSpent', 'userId', '_id.oid',\n",
       "       'createDate.date', 'dateScanned.date', 'finishedDate.date',\n",
       "       'modifyDate.date', 'pointsAwardedDate.date', 'purchaseDate.date',\n",
       "       'barcode', 'description', 'finalPrice', 'itemPrice', 'needsFetchReview',\n",
       "       'partnerItemId', 'preventTargetGapPoints', 'quantityPurchased',\n",
       "       'userFlaggedBarcode', 'userFlaggedNewItem', 'userFlaggedPrice',\n",
       "       'userFlaggedQuantity', 'needsFetchReviewReason',\n",
       "       'pointsNotAwardedReason', 'pointsPayerId', 'rewardsGroup',\n",
       "       'rewardsProductPartnerId', 'userFlaggedDescription',\n",
       "       'originalMetaBriteBarcode', 'originalMetaBriteDescription', 'brandCode',\n",
       "       'competitorRewardsGroup', 'discountedItemPrice',\n",
       "       'originalReceiptItemText', 'itemNumber',\n",
       "       'originalMetaBriteQuantityPurchased',\n",
       "       'rewardsReceiptItemList_pointsEarned', 'targetPrice',\n",
       "       'competitiveProduct', 'originalFinalPrice',\n",
       "       'originalMetaBriteItemPrice', 'deleted', 'priceAfterCoupon',\n",
       "       'metabriteCampaignId'],\n",
       "      dtype='object')"
      ]
     },
     "execution_count": 6,
     "metadata": {},
     "output_type": "execute_result"
    }
   ],
   "source": [
    "df_parse=df_parse.rename(columns={df_parse.columns[40]:\"rewardsReceiptItemList_pointsEarned\"})\n",
    "df_parse.columns # hmm"
   ]
  },
  {
   "cell_type": "markdown",
   "metadata": {},
   "source": [
    "# `How I Fixed`"
   ]
  },
  {
   "cell_type": "code",
   "execution_count": 13,
   "metadata": {},
   "outputs": [
    {
     "data": {
      "text/plain": [
       "Index(['bonusPointsEarned', 'bonusPointsEarnedReason', 'pointsEarned',\n",
       "       'purchasedItemCount', 'rewardsReceiptStatus', 'totalSpent', 'userId',\n",
       "       '_id.oid', 'createDate.date', 'dateScanned.date', 'finishedDate.date',\n",
       "       'modifyDate.date', 'pointsAwardedDate.date', 'purchaseDate.date',\n",
       "       'barcode', 'description', 'finalPrice', 'itemPrice', 'needsFetchReview',\n",
       "       'partnerItemId', 'preventTargetGapPoints', 'quantityPurchased',\n",
       "       'userFlaggedBarcode', 'userFlaggedNewItem', 'userFlaggedPrice',\n",
       "       'userFlaggedQuantity', 'needsFetchReviewReason',\n",
       "       'pointsNotAwardedReason', 'pointsPayerId', 'rewardsGroup',\n",
       "       'rewardsProductPartnerId', 'userFlaggedDescription',\n",
       "       'originalMetaBriteBarcode', 'originalMetaBriteDescription', 'brandCode',\n",
       "       'competitorRewardsGroup', 'discountedItemPrice',\n",
       "       'originalReceiptItemText', 'itemNumber',\n",
       "       'originalMetaBriteQuantityPurchased',\n",
       "       'rewardsReceiptItemList_pointsEarned', 'targetPrice',\n",
       "       'competitiveProduct', 'originalFinalPrice',\n",
       "       'originalMetaBriteItemPrice', 'deleted', 'priceAfterCoupon',\n",
       "       'metabriteCampaignId'],\n",
       "      dtype='object')"
      ]
     },
     "execution_count": 13,
     "metadata": {},
     "output_type": "execute_result"
    }
   ],
   "source": [
    "# We have a problem and we need to update this column: The DF has duplicated names!\n",
    "[item for item, count in collections.Counter(df_parse.columns).items() if count > 1]\n",
    "\n",
    "\n",
    "# Index position of duplicate name of columns:\n",
    "[idx for idx, item in enumerate(df_parse.columns) if item in df_parse.columns[:idx]]\n",
    "\n",
    "# Changing the second occurence of duplicate column name\n",
    "df_parse.columns.values[2] ='pointsEarned'\n",
    "\n",
    "df_parse.columns"
   ]
  },
  {
   "cell_type": "markdown",
   "metadata": {},
   "source": [
    "# Like, Share & <font color=red>SUB</font>scribe"
   ]
  },
  {
   "cell_type": "markdown",
   "metadata": {},
   "source": [
    "# `Citations & Help:`\n",
    "\n",
    "# ◔̯◔\n",
    "\n",
    "https://stackoverflow.com/questions/40459254/pandas-change-a-specific-column-name-in-dataframe-having-multilevel-columns\n",
    "\n",
    "https://tutorial.eyehunts.com/python/find-the-index-of-duplicate-elements-in-list-python-example-code/\n",
    "\n",
    "https://towardsdatascience.com/a-few-times-i-managed-to-broke-pandas-d3604d43708c\n",
    "\n",
    "https://datascience.stackexchange.com/questions/41448/how-to-rename-columns-that-have-the-same-name\n",
    "\n"
   ]
  }
 ],
 "metadata": {
  "kernelspec": {
   "display_name": "Python 3",
   "language": "python",
   "name": "python3"
  },
  "language_info": {
   "codemirror_mode": {
    "name": "ipython",
    "version": 3
   },
   "file_extension": ".py",
   "mimetype": "text/x-python",
   "name": "python",
   "nbconvert_exporter": "python",
   "pygments_lexer": "ipython3",
   "version": "3.7.3"
  }
 },
 "nbformat": 4,
 "nbformat_minor": 4
}
