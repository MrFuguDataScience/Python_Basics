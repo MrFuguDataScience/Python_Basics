{
 "cells": [
  {
   "cell_type": "markdown",
   "metadata": {},
   "source": [
    "# `Duplicate Dataframe Column Names: What to do & how to fix`\n",
    "\n",
    "# <font color=red>Mr Fugu Data Science</font>\n",
    "\n",
    "# (◕‿◕✿)"
   ]
  },
  {
   "cell_type": "code",
   "execution_count": null,
   "metadata": {},
   "outputs": [],
   "source": [
    "import pandas as pd # dataframe stuff\n",
    "import json # \n",
    "from collections import defaultdict # dictionary where values are a list\n",
    "import numpy as np # formatting data with Nan\n",
    "import collections # This is used to help find duplicate values later"
   ]
  },
  {
   "cell_type": "code",
   "execution_count": null,
   "metadata": {},
   "outputs": [],
   "source": []
  },
  {
   "cell_type": "code",
   "execution_count": null,
   "metadata": {},
   "outputs": [],
   "source": []
  },
  {
   "cell_type": "code",
   "execution_count": null,
   "metadata": {},
   "outputs": [],
   "source": []
  },
  {
   "cell_type": "code",
   "execution_count": null,
   "metadata": {},
   "outputs": [],
   "source": [
    "# Change all names of columns\n",
    "play.columns=list(play.iloc[:,:17].columns)+col_nms\n",
    "\n",
    "\n",
    "# We have a problem and we need to update this column: The DF has duplicated names!\n",
    "[item for item, count in collections.Counter(play.columns).items() if count > 1]\n",
    "\n",
    "\n",
    "# Index position of duplicate name of columns:\n",
    "[idx for idx, item in enumerate(play.columns) if item in play.columns[:idx]]\n",
    "\n",
    "# Changing the second occurence of duplicate column name\n",
    "play.columns.values[43] ='rewardsReceiptItemList_pointsEarned'\n",
    "\n",
    "play.columns"
   ]
  },
  {
   "cell_type": "code",
   "execution_count": null,
   "metadata": {},
   "outputs": [],
   "source": []
  },
  {
   "cell_type": "code",
   "execution_count": null,
   "metadata": {},
   "outputs": [],
   "source": []
  }
 ],
 "metadata": {
  "kernelspec": {
   "display_name": "Python 3",
   "language": "python",
   "name": "python3"
  },
  "language_info": {
   "codemirror_mode": {
    "name": "ipython",
    "version": 3
   },
   "file_extension": ".py",
   "mimetype": "text/x-python",
   "name": "python",
   "nbconvert_exporter": "python",
   "pygments_lexer": "ipython3",
   "version": "3.7.3"
  }
 },
 "nbformat": 4,
 "nbformat_minor": 4
}
