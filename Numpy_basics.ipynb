{
 "cells": [
  {
   "cell_type": "markdown",
   "metadata": {},
   "source": [
    "# `Numpy Basics for Python: Newbies`\n",
    "\n",
    "# <font color=red>Mr Fugu Data Science</font>\n",
    "\n",
    "# (◕‿◕✿)\n",
    "\n",
    "# `Purpose & Outcome:`\n",
    "\n",
    "+ `get a crash course to get you started!`\n",
    "\n",
    "`Don't always believe things blindly, try to visualize and get context. Also, get second opinions and please verify what you see. Just a good life lesson, ok`"
   ]
  },
  {
   "cell_type": "code",
   "execution_count": 208,
   "metadata": {},
   "outputs": [],
   "source": [
    "import numpy as np\n",
    "import time\n",
    "import pandas as pd"
   ]
  },
  {
   "cell_type": "markdown",
   "metadata": {},
   "source": [
    "+ Lists operations are extremeley common but using them can be slow, `numpy` can be one tool used to speed things up.\n",
    "    + written in C/C++, lends to speed and the fact that we are `storing arrays in 1 location in memory` unlike python lists.\n",
    "    + You are using vectorized code, allowing you to avoid (explicit) looping for instance. But, understand operations like these are just behind the scenes working in the C compiler. \n",
    "        + With vectorization we can compact our code into memory; as well as the fact that we are able to use contiguous memory management. \n",
    "            + Type Checking in regular old Python, is a part that makes it slower because it will infer during runtime. That is not a problem with Numpy.\n",
    "            + Also, each time you manipulate an array, you will recreate a new one unlike python where you may just add, delete or change something\n",
    "+ **Pay Attention Here: unlike Python Lists, Numpy arrays NEED to be same DATA TYPE**\n",
    "\n",
    "`You want to do mathematical or logical operations on arrays then Numpy is your buddy` \n",
    "\n",
    "`----------------`\n",
    "\n",
    "If you don't have Numpy install now:\n",
    "\n",
    "`pip install numpy` | `conda install numpy`"
   ]
  },
  {
   "cell_type": "markdown",
   "metadata": {},
   "source": [
    "# `Compare python to numpy examples`"
   ]
  },
  {
   "cell_type": "code",
   "execution_count": 528,
   "metadata": {},
   "outputs": [
    {
     "name": "stdout",
     "output_type": "stream",
     "text": [
      "Time taken by Lists : 20.206037998199463 seconds\n",
      "Time taken by NumPy Arrays : 2.0066680908203125 seconds\n"
     ]
    }
   ],
   "source": [
    "size = 100000000 # billion \n",
    "  \n",
    "list_1 = [val for val in range(size)]\n",
    "array_1 = np.arange(size)\n",
    "\n",
    "initialTime = time.time()\n",
    "resultantList = [(a * b) for a, b in zip(list_1, list_1)]\n",
    " \n",
    "# calculating execution time\n",
    "print(\"Time taken by Lists :\", \n",
    "      (time.time() - initialTime),\n",
    "      \"seconds\")\n",
    " \n",
    "# NumPy array\n",
    "initialTime = time.time()\n",
    "resultantArray = array_1 * array_1\n",
    " \n",
    "# calculating execution time \n",
    "print(\"Time taken by NumPy Arrays :\",\n",
    "      (time.time() - initialTime),\n",
    "      \"seconds\")"
   ]
  },
  {
   "cell_type": "markdown",
   "metadata": {},
   "source": [
    "# `Comparing various task side by side:`"
   ]
  },
  {
   "cell_type": "code",
   "execution_count": 530,
   "metadata": {},
   "outputs": [
    {
     "name": "stdout",
     "output_type": "stream",
     "text": [
      "\n",
      "Concatenation:\n",
      "Time taken by Lists : 10.227458953857422 seconds\n",
      "Time taken by NumPy Arrays : 3.2861599922180176 seconds\n",
      "\n",
      "Dot Product:\n",
      "Time taken by Lists : 28.33166527748108 seconds\n",
      "Time taken by NumPy Arrays : 0.24849390983581543 seconds\n",
      "\n",
      "Scalar Addition:\n",
      "Time taken by Lists : 15.311026811599731 seconds\n",
      "Time taken by NumPy Arrays : 1.2025680541992188 seconds\n",
      "\n",
      "Deletion: \n",
      "Time taken by Lists : 7.363348960876465 seconds\n",
      "Time taken by NumPy Arrays : 0.07433199882507324 seconds\n"
     ]
    }
   ],
   "source": [
    "# Concatenation\n",
    "print(\"\\nConcatenation:\")\n",
    " \n",
    "# list\n",
    "initialTime = time.time()\n",
    "list1 = list_1 + list_1\n",
    " \n",
    "# calculating execution time:\n",
    "print(\"Time taken by Lists :\",\n",
    "      (time.time() - initialTime),\n",
    "      \"seconds\")\n",
    "  \n",
    "# Numpy array:\n",
    "initialTime = time.time()\n",
    "array = np.concatenate((array_1, array_1),axis = 0)\n",
    " \n",
    "# calculating execution time \n",
    "print(\"Time taken by NumPy Arrays :\", \n",
    "      (time.time() - initialTime),\n",
    "      \"seconds\")\n",
    " \n",
    "# Dot Product:\n",
    "dot = 0\n",
    "print(\"\\nDot Product:\")\n",
    " \n",
    "# list\n",
    "initialTime = time.time()\n",
    "for a, b in zip(list_1, list_1):\n",
    "        dot = dot + (a * b)\n",
    "         \n",
    "# calculating execution time\n",
    "print(\"Time taken by Lists :\", \n",
    "      (time.time() - initialTime),\n",
    "      \"seconds\")\n",
    "  \n",
    "# NumPy array\n",
    "initialTime = time.time()\n",
    "array = np.dot(array_1, array_1)\n",
    " \n",
    "# calculating execution time \n",
    "print(\"Time taken by NumPy Arrays :\",\n",
    "      (time.time() - initialTime),\n",
    "      \"seconds\")\n",
    " \n",
    "# Scalar Addtion \n",
    "print(\"\\nScalar Addition:\")\n",
    " \n",
    "# list\n",
    "initialTime = time.time()\n",
    "list1 =[i + 2 for i in range(size)]\n",
    " \n",
    "# calculating execution time\n",
    "print(\"Time taken by Lists :\",\n",
    "      (time.time() - initialTime),\n",
    "      \"seconds\")\n",
    "  \n",
    "# NumPy array\n",
    "initialTime = time.time()\n",
    "array1 = array_1 + 2\n",
    " \n",
    "# calculating execution time \n",
    "print(\"Time taken by NumPy Arrays :\", \n",
    "      (time.time() - initialTime), \n",
    "      \"seconds\")\n",
    " \n",
    "# Deletion\n",
    "print(\"\\nDeletion: \")\n",
    " \n",
    "# list\n",
    "initialTime = time.time()\n",
    "del(list1)\n",
    " \n",
    "# calculating execution time\n",
    "print(\"Time taken by Lists :\",\n",
    "      (time.time() - initialTime),\n",
    "      \"seconds\")\n",
    "  \n",
    "# NumPy array\n",
    "initialTime = time.time()\n",
    "del(array1)\n",
    " \n",
    "# calculating execution time \n",
    "print(\"Time taken by NumPy Arrays :\", \n",
    "      (time.time() - initialTime),\n",
    "      \"seconds\")"
   ]
  },
  {
   "cell_type": "markdown",
   "metadata": {},
   "source": [
    "# `Conditional Operators:`"
   ]
  },
  {
   "cell_type": "code",
   "execution_count": 526,
   "metadata": {},
   "outputs": [
    {
     "name": "stdout",
     "output_type": "stream",
     "text": [
      "Boolean where True is >9: [False False False False False False False False False False  True  True]\n",
      "--------------\n",
      "Find: 5-7: [5 6 7]\n"
     ]
    }
   ],
   "source": [
    "new_arr_ = np.arange(0,12)\n",
    "\n",
    "print('Boolean where True is >9:',new_arr_ > 9)\n",
    "print('--------------')\n",
    "print('Find: 5-7:',new_arr_[(new_arr_> 4) & (new_arr_< 8)])"
   ]
  },
  {
   "cell_type": "markdown",
   "metadata": {},
   "source": [
    "# `Indexing:`"
   ]
  },
  {
   "cell_type": "code",
   "execution_count": 520,
   "metadata": {},
   "outputs": [
    {
     "name": "stdout",
     "output_type": "stream",
     "text": [
      "elements 2-5: [2 3 4 5]\n",
      "elements 1-8 in steps of 2: [1 3 5 7]\n",
      "repeated elements specified: [13 13 15  8]\n"
     ]
    }
   ],
   "source": [
    "x_ =np.arange(17)\n",
    "\n",
    "x_desc=np.arange(17,1,-1)\n",
    "\n",
    "print('elements 2-5:',x_[2:6])\n",
    "\n",
    "print('elements 1-8 in steps of 2:',x_[1:8:2])\n",
    "\n",
    "print('repeated elements specified:',x_desc[np.array([4, 4, 2, 9])])\n",
    "\n",
    "# x_\n",
    "# x_desc"
   ]
  },
  {
   "cell_type": "code",
   "execution_count": 499,
   "metadata": {},
   "outputs": [
    {
     "name": "stdout",
     "output_type": "stream",
     "text": [
      "2nd element of 1st dimension: 1\n"
     ]
    }
   ],
   "source": [
    "# 2D:\n",
    "arr = np.array([[0,1,2,3,4,5], [6,7,8,9,10,11]])\n",
    "\n",
    "print('2nd element of 1st dimension:', arr[0, 1])"
   ]
  },
  {
   "cell_type": "code",
   "execution_count": 498,
   "metadata": {},
   "outputs": [
    {
     "name": "stdout",
     "output_type": "stream",
     "text": [
      "6th element of 2nd dimension= 11\n"
     ]
    }
   ],
   "source": [
    "#2D:\n",
    "arr = np.array([[0,1,2,3,4,5], [6,7,8,9,10,11]])\n",
    "\n",
    "print('6th element of 2nd dimension=', arr[1, 5])"
   ]
  },
  {
   "cell_type": "code",
   "execution_count": 495,
   "metadata": {},
   "outputs": [
    {
     "name": "stdout",
     "output_type": "stream",
     "text": [
      "3rd element of 2nd array inside first array= 6\n"
     ]
    }
   ],
   "source": [
    "# 3D:\n",
    "arr_ = np.array([[[0,1,2,3], [4,5,6,7]], [[8,9,10,11], [11,12,13,14]]])\n",
    "\n",
    "print('3rd element of 2nd array inside first array =',arr_[0, 1, 2])\n",
    "# arr.shape\n"
   ]
  },
  {
   "cell_type": "markdown",
   "metadata": {},
   "source": [
    "# `Import/Export:`\n",
    "\n",
    "`np.loadtxt('some_file.txt'): From a .txt file\n",
    "np.genfromtxt('some_file.csv', delimiter=','): From a .csv file\n",
    "np.savetxt('some_file.txt',arr, delimiter=' '): Writes to .txt file\n",
    "np.savetxt('some_file.csv', arr, delimiter=','):Writes to .csv file\n",
    "`\n"
   ]
  },
  {
   "cell_type": "markdown",
   "metadata": {},
   "source": [
    "# `Inspect properties:`\n",
    "\n",
    "`your_array.size(): Returns # of elements in array\n",
    "your_array.shape(): Returns dimensions of array (rows,columns)\n",
    "your_array.ndim(): Return dimensions of array\n",
    "your_array.dtype(): Returns type of elements in array\n",
    "your_array.astype(dtype): Convert array elements to type dtype\n",
    "your_array.tolist(): Converts array to Python list\n",
    "np.info(something of interest: i.e. np.linspace) \n",
    "`"
   ]
  },
  {
   "cell_type": "markdown",
   "metadata": {},
   "source": [
    "# `linspace():`\n",
    "\n",
    "+ returns evenly spaced numbers over a given/specified interval"
   ]
  },
  {
   "cell_type": "code",
   "execution_count": 461,
   "metadata": {},
   "outputs": [
    {
     "data": {
      "text/plain": [
       "array([0. , 0.6, 1.2, 1.8, 2.4, 3. ])"
      ]
     },
     "execution_count": 461,
     "metadata": {},
     "output_type": "execute_result"
    }
   ],
   "source": [
    "np.linspace(0,3,6)"
   ]
  },
  {
   "cell_type": "markdown",
   "metadata": {},
   "source": [
    "# `Copy vs view:`\n",
    "\n",
    "+ `Copy():` will provide a new array, any new changes to the array occur with the copy not the original\n",
    "\n",
    "+ `View`: just that, a view of the array."
   ]
  },
  {
   "cell_type": "code",
   "execution_count": 463,
   "metadata": {},
   "outputs": [
    {
     "name": "stdout",
     "output_type": "stream",
     "text": [
      "None\n",
      "[11 12 31 14  9]\n"
     ]
    }
   ],
   "source": [
    "# Check if x vs y, will own its array or not!\n",
    "arr = np.array([11, 12, 31, 14, 9])\n",
    "\n",
    "x_copy = arr.copy()\n",
    "y_view = arr.view()\n",
    "\n",
    "print(x_copy.base)\n",
    "print(y_view.base)"
   ]
  },
  {
   "cell_type": "markdown",
   "metadata": {},
   "source": [
    "# `Reshape:`"
   ]
  },
  {
   "cell_type": "code",
   "execution_count": 278,
   "metadata": {},
   "outputs": [],
   "source": [
    "# reshape\n",
    "one_d_array = np.array([3,6,9,12])\n",
    "reshape_one_d_to_two_d=np.reshape(one_d_array,(2,2))\n"
   ]
  },
  {
   "cell_type": "code",
   "execution_count": 543,
   "metadata": {},
   "outputs": [
    {
     "name": "stdout",
     "output_type": "stream",
     "text": [
      "(rows X cols)=(4,) ,Number of elements:4, Dim=1\n",
      "----------\n",
      "reshape (rows X cols)=(2, 2), new size:4, new dim=2\n"
     ]
    }
   ],
   "source": [
    "print('(rows X cols)={} ,Number of elements:{}, Dim={}'.format(\n",
    "one_d_array.shape,one_d_array.size,one_d_array.ndim,one_d_array))\n",
    "print('----------')\n",
    "print('reshape (rows X cols)={}, new size:{}, new dim={}'.format(\n",
    "reshape_one_d_to_two_d.shape,reshape_one_d_to_two_d.size,\n",
    "reshape_one_d_to_two_d.ndim))"
   ]
  },
  {
   "cell_type": "markdown",
   "metadata": {},
   "source": [
    "# `Sorting:`\n",
    "\n",
    "+ `kind:` what sorting algorithm you want: 'quicksort', 'mergesort', 'heapsort', 'stable'\n",
    "\n",
    "+ `axis:` 0= column, 1=row reverse of pandas!"
   ]
  },
  {
   "cell_type": "code",
   "execution_count": 221,
   "metadata": {},
   "outputs": [
    {
     "data": {
      "text/html": [
       "<div>\n",
       "<style scoped>\n",
       "    .dataframe tbody tr th:only-of-type {\n",
       "        vertical-align: middle;\n",
       "    }\n",
       "\n",
       "    .dataframe tbody tr th {\n",
       "        vertical-align: top;\n",
       "    }\n",
       "\n",
       "    .dataframe thead th {\n",
       "        text-align: right;\n",
       "    }\n",
       "</style>\n",
       "<table border=\"1\" class=\"dataframe\">\n",
       "  <thead>\n",
       "    <tr style=\"text-align: right;\">\n",
       "      <th></th>\n",
       "      <th>0</th>\n",
       "      <th>1</th>\n",
       "      <th>2</th>\n",
       "      <th>3</th>\n",
       "    </tr>\n",
       "  </thead>\n",
       "  <tbody>\n",
       "    <tr>\n",
       "      <th>0</th>\n",
       "      <td>5</td>\n",
       "      <td>6</td>\n",
       "      <td>7</td>\n",
       "      <td>4</td>\n",
       "    </tr>\n",
       "    <tr>\n",
       "      <th>1</th>\n",
       "      <td>9</td>\n",
       "      <td>2</td>\n",
       "      <td>3</td>\n",
       "      <td>7</td>\n",
       "    </tr>\n",
       "  </tbody>\n",
       "</table>\n",
       "</div>"
      ],
      "text/plain": [
       "   0  1  2  3\n",
       "0  5  6  7  4\n",
       "1  9  2  3  7"
      ]
     },
     "execution_count": 221,
     "metadata": {},
     "output_type": "execute_result"
    }
   ],
   "source": [
    "a_ = np.array([[5,6,7,4],\n",
    "              [9,2,3,7]])\n",
    "\n",
    "pd.DataFrame(a_)"
   ]
  },
  {
   "cell_type": "code",
   "execution_count": 222,
   "metadata": {},
   "outputs": [
    {
     "data": {
      "text/html": [
       "<div>\n",
       "<style scoped>\n",
       "    .dataframe tbody tr th:only-of-type {\n",
       "        vertical-align: middle;\n",
       "    }\n",
       "\n",
       "    .dataframe tbody tr th {\n",
       "        vertical-align: top;\n",
       "    }\n",
       "\n",
       "    .dataframe thead th {\n",
       "        text-align: right;\n",
       "    }\n",
       "</style>\n",
       "<table border=\"1\" class=\"dataframe\">\n",
       "  <thead>\n",
       "    <tr style=\"text-align: right;\">\n",
       "      <th></th>\n",
       "      <th>0</th>\n",
       "      <th>1</th>\n",
       "      <th>2</th>\n",
       "      <th>3</th>\n",
       "    </tr>\n",
       "  </thead>\n",
       "  <tbody>\n",
       "    <tr>\n",
       "      <th>0</th>\n",
       "      <td>4</td>\n",
       "      <td>5</td>\n",
       "      <td>6</td>\n",
       "      <td>7</td>\n",
       "    </tr>\n",
       "    <tr>\n",
       "      <th>1</th>\n",
       "      <td>2</td>\n",
       "      <td>3</td>\n",
       "      <td>7</td>\n",
       "      <td>9</td>\n",
       "    </tr>\n",
       "  </tbody>\n",
       "</table>\n",
       "</div>"
      ],
      "text/plain": [
       "   0  1  2  3\n",
       "0  4  5  6  7\n",
       "1  2  3  7  9"
      ]
     },
     "execution_count": 222,
     "metadata": {},
     "output_type": "execute_result"
    }
   ],
   "source": [
    "pd.DataFrame(np.sort(a_,axis=1,kind='mergresort')) # sort row"
   ]
  },
  {
   "cell_type": "code",
   "execution_count": 214,
   "metadata": {},
   "outputs": [
    {
     "data": {
      "text/html": [
       "<div>\n",
       "<style scoped>\n",
       "    .dataframe tbody tr th:only-of-type {\n",
       "        vertical-align: middle;\n",
       "    }\n",
       "\n",
       "    .dataframe tbody tr th {\n",
       "        vertical-align: top;\n",
       "    }\n",
       "\n",
       "    .dataframe thead th {\n",
       "        text-align: right;\n",
       "    }\n",
       "</style>\n",
       "<table border=\"1\" class=\"dataframe\">\n",
       "  <thead>\n",
       "    <tr style=\"text-align: right;\">\n",
       "      <th></th>\n",
       "      <th>0</th>\n",
       "      <th>1</th>\n",
       "      <th>2</th>\n",
       "      <th>3</th>\n",
       "    </tr>\n",
       "  </thead>\n",
       "  <tbody>\n",
       "    <tr>\n",
       "      <th>0</th>\n",
       "      <td>5</td>\n",
       "      <td>2</td>\n",
       "      <td>3</td>\n",
       "      <td>4</td>\n",
       "    </tr>\n",
       "    <tr>\n",
       "      <th>1</th>\n",
       "      <td>9</td>\n",
       "      <td>6</td>\n",
       "      <td>7</td>\n",
       "      <td>7</td>\n",
       "    </tr>\n",
       "  </tbody>\n",
       "</table>\n",
       "</div>"
      ],
      "text/plain": [
       "   0  1  2  3\n",
       "0  5  2  3  4\n",
       "1  9  6  7  7"
      ]
     },
     "execution_count": 214,
     "metadata": {},
     "output_type": "execute_result"
    }
   ],
   "source": [
    "pd.DataFrame(np.sort(a_,axis=0,kind='mergresort')) # sort column"
   ]
  },
  {
   "cell_type": "markdown",
   "metadata": {},
   "source": [
    "# `Add/remove elements: from existing array`"
   ]
  },
  {
   "cell_type": "code",
   "execution_count": 443,
   "metadata": {},
   "outputs": [
    {
     "data": {
      "text/plain": [
       "array([[ 2,  9],\n",
       "       [ 5, 77],\n",
       "       [ 3, 12]])"
      ]
     },
     "execution_count": 443,
     "metadata": {},
     "output_type": "execute_result"
    }
   ],
   "source": [
    "# Append: You will need both arrays to have same number of dimensions \n",
    "\n",
    "a_p = np.array([[2,9],\n",
    "             [5,77]])\n",
    "\n",
    "appd_arry=np.append(a_p,[[3,12]], axis=0)\n",
    "appd_arry"
   ]
  },
  {
   "cell_type": "code",
   "execution_count": 444,
   "metadata": {},
   "outputs": [
    {
     "data": {
      "text/plain": [
       "array([[2],\n",
       "       [5],\n",
       "       [3]])"
      ]
     },
     "execution_count": 444,
     "metadata": {},
     "output_type": "execute_result"
    }
   ],
   "source": [
    "# Delete: By Column and Index=1 for column to drop\n",
    "\n",
    "np.delete(appd_arry, 1, axis=1)"
   ]
  },
  {
   "cell_type": "code",
   "execution_count": 445,
   "metadata": {},
   "outputs": [
    {
     "data": {
      "text/plain": [
       "array([[ 2,  9],\n",
       "       [ 3, 12]])"
      ]
     },
     "execution_count": 445,
     "metadata": {},
     "output_type": "execute_result"
    }
   ],
   "source": [
    "# Drop row 2 based on index=1\n",
    "np.delete(appd_arry, 1, axis=0)"
   ]
  },
  {
   "cell_type": "code",
   "execution_count": 448,
   "metadata": {},
   "outputs": [
    {
     "data": {
      "text/plain": [
       "array([[ 5, 77]])"
      ]
     },
     "execution_count": 448,
     "metadata": {},
     "output_type": "execute_result"
    }
   ],
   "source": [
    "# drop multiple rows:\n",
    "np.delete(appd_arry, [0,2], axis=0)"
   ]
  },
  {
   "cell_type": "markdown",
   "metadata": {},
   "source": [
    "# `Changing Dimensions using (Squeeze or Expand)`\n",
    "\n",
    "+ `Expand:` add new axis (rows or columns)\n",
    "\n",
    "+ `Squeeze:` opposite, but very distinct: will only shrink if axis has single entry\n",
    "    * `example`: shape=(1,3,1), it will work on axis=0, axis=2 where they are equal to 1"
   ]
  },
  {
   "cell_type": "code",
   "execution_count": 343,
   "metadata": {},
   "outputs": [
    {
     "name": "stdout",
     "output_type": "stream",
     "text": [
      "four_d_array: \n",
      " [[[[ 7]\n",
      "   [10]\n",
      "   [11]\n",
      "   [12]]]]\n",
      "\n",
      " PAY ATTENTION TO NUMBER OF BRACKETS! \n",
      "\n",
      "four_d_array,squeeze_axis_0: \n",
      " [[[ 7]\n",
      "  [10]\n",
      "  [11]\n",
      "  [12]]]\n",
      "\n",
      " These two look the same but, pay attention to next code block for distinction\n",
      "\n",
      " four_d_array,squeeze_axis_1: \n",
      " [[[ 7]\n",
      "  [10]\n",
      "  [11]\n",
      "  [12]]]\n"
     ]
    }
   ],
   "source": [
    "# Squeeze:\n",
    "four_d_array = np.array([[[[7], [10], [11],[12]]]])\n",
    "\n",
    "squeeze_axis_0=np.squeeze(four_d_array,axis=0)\n",
    "squeeze_axis_1=np.squeeze(four_d_array,axis=1)\n",
    "squeeze_axis_3=np.squeeze(four_d_array,axis=3)\n",
    "\n",
    "print('four_d_array: \\n',four_d_array)\n",
    "print('\\n PAY ATTENTION TO NUMBER OF BRACKETS! \\n')\n",
    "print('four_d_array,squeeze_axis_0: \\n',squeeze_axis_0)\n",
    "print('\\n These two look the same but, pay attention to next code block for distinction')\n",
    "print('\\n four_d_array,squeeze_axis_1: \\n',squeeze_axis_1)"
   ]
  },
  {
   "cell_type": "code",
   "execution_count": 347,
   "metadata": {},
   "outputs": [
    {
     "name": "stdout",
     "output_type": "stream",
     "text": [
      "Look for the distinctions here: \n",
      "\n",
      "4D Array: shape(1, 1, 4, 1),size=4,Dim=4\n",
      "-----------\n",
      "Array SQUEEZE axis=0: shape(1, 4, 1),size=4,Dim=3\n",
      "-----------\n",
      "Array SQUEEZE axis=1: shape(1, 4, 1),size=4,Dim=3\n",
      "-----------\n",
      "Array SQUEEZE axis=3: shape(1, 1, 4),size=4,Dim=3\n"
     ]
    }
   ],
   "source": [
    "print('Look for the distinctions here: \\n')\n",
    "print('4D Array: shape{},size={},Dim={}'.format(four_d_array.shape,\n",
    "                      four_d_array.size,four_d_array.ndim))\n",
    "print('-----------')\n",
    "print('Array SQUEEZE axis=0: shape{},size={},Dim={}'.format(squeeze_axis_0.shape,\n",
    "    squeeze_axis_0.size,squeeze_axis_0.ndim))\n",
    "print('-----------')\n",
    "print('Array SQUEEZE axis=1: shape{},size={},Dim={}'.format(squeeze_axis_1.shape,\n",
    "    squeeze_axis_1.size,squeeze_axis_1.ndim))\n",
    "print('-----------')\n",
    "print('Array SQUEEZE axis=3: shape{},size={},Dim={}'.format(squeeze_axis_3.shape,\n",
    "    squeeze_axis_3.size,squeeze_axis_3.ndim))"
   ]
  },
  {
   "cell_type": "code",
   "execution_count": 298,
   "metadata": {},
   "outputs": [],
   "source": [
    "# Expand:\n",
    "\n",
    "reg_one_d = np.array([10,20,30,40,50])\n",
    "reg_one_d_exp_cols = np.expand_dims(reg_one_d,axis=0)\n",
    "reg_one_d_exp_rows = np.expand_dims(reg_one_d,axis=1)\n"
   ]
  },
  {
   "cell_type": "code",
   "execution_count": 440,
   "metadata": {},
   "outputs": [
    {
     "name": "stdout",
     "output_type": "stream",
     "text": [
      "Original 1D array: \n",
      " Shape (5,) \n",
      " [[10 20 30 40 50]]\n",
      "Expand along columns: \n",
      " Shape (1, 5) \n",
      " [[10 20 30 40 50]]\n",
      "Expand along rows: \n",
      " Shape (5, 1) \n",
      " [[10]\n",
      " [20]\n",
      " [30]\n",
      " [40]\n",
      " [50]]\n"
     ]
    }
   ],
   "source": [
    "print('Original 1D array:','\\n','Shape',reg_one_d.shape,'\\n',\n",
    "      reg_one_d_exp_cols)\n",
    "print('Expand along columns:','\\n','Shape',reg_one_d_exp_cols.shape,'\\n',\n",
    "      reg_one_d_exp_cols)\n",
    "print('Expand along rows:','\\n','Shape',reg_one_d_exp_rows.shape,'\\n',\n",
    "      reg_one_d_exp_rows)"
   ]
  },
  {
   "cell_type": "markdown",
   "metadata": {},
   "source": [
    "# `Vector Math/Concepts:`"
   ]
  },
  {
   "cell_type": "code",
   "execution_count": 548,
   "metadata": {},
   "outputs": [],
   "source": [
    "# \"I\"dentity matrix: returns a square matrix of 3X3\n",
    "i_matrix = np.eye(3,3)\n",
    "\n",
    "# Zeroes\n",
    "zroes_=np.zeros((6,2))\n",
    "\n",
    "# Ones\n",
    "ones_=np.ones(3)\n",
    "\n",
    "# Random\n",
    "\n",
    "# rnd_ = np.random.rand()\n"
   ]
  },
  {
   "cell_type": "code",
   "execution_count": 460,
   "metadata": {},
   "outputs": [
    {
     "name": "stdout",
     "output_type": "stream",
     "text": [
      "Sum of all values: 300\n",
      "Column Sums: [50 55 60 65 70]\n",
      "Row Sums: [ 10  35  60  85 110]\n"
     ]
    }
   ],
   "source": [
    "# SUM Operations:\n",
    "\n",
    "mat_ = np.arange(0,25).reshape(5,5)\n",
    "print('Sum of all values:',mat_.sum())\n",
    "print('Column Sums:',mat_.sum(axis=0))\n",
    "print('Row Sums:',mat_.sum(axis=1)) "
   ]
  },
  {
   "cell_type": "markdown",
   "metadata": {},
   "source": [
    "# `Flatten and Ravel:`\n",
    "\n",
    "+ `Flatten:` creates a deep copy\n",
    "    + `deep copy:` you are creating a new ndarray in memory, any changes made will not effect the original\n",
    "    \n",
    "+ `Ravel:` shallow copy\n",
    "    + `shallow copy:` using a pointer for the memory location, and changes will effect original\n"
   ]
  },
  {
   "cell_type": "code",
   "execution_count": 318,
   "metadata": {},
   "outputs": [],
   "source": [
    "ones_two_by_two = np.ones((2,2))\n",
    "\n",
    "# Flatten:\n",
    "flat_two_by_two = ones_two_by_two.flatten()"
   ]
  },
  {
   "cell_type": "code",
   "execution_count": 317,
   "metadata": {},
   "outputs": [
    {
     "name": "stdout",
     "output_type": "stream",
     "text": [
      "ones_two_by_two: shape=(2, 2), size= 4, dim= 2\n",
      "-------------------\n",
      "FLAT_two_by_two: shape=(4,), size= 4, dim= 1\n",
      "---------------\n",
      "______Making DEEP COPY!!!!______\n"
     ]
    }
   ],
   "source": [
    "print('ones_two_by_two: shape={}, size= {}, dim= {}'.format(ones_two_by_two.shape,\n",
    "ones_two_by_two.size,ones_two_by_two.ndim))\n",
    "print('-------------------')\n",
    "print('FLAT_two_by_two: shape={}, size= {}, dim= {}'.format(flat_two_by_two.shape,\n",
    "            flat_two_by_two.size, flat_two_by_two.ndim))\n",
    "print('---------------')\n",
    "print('______Making DEEP COPY!!!!______')"
   ]
  },
  {
   "cell_type": "code",
   "execution_count": 283,
   "metadata": {},
   "outputs": [],
   "source": [
    "ones_two_by_two = np.ones((2,2))\n",
    "\n",
    "# Ravel:\n",
    "ravel_two_by_two = ones_two_by_two.ravel()"
   ]
  },
  {
   "cell_type": "code",
   "execution_count": 296,
   "metadata": {},
   "outputs": [
    {
     "name": "stdout",
     "output_type": "stream",
     "text": [
      "ones_two_by_two: shape=(2, 2), size= 4, dim= 2\n",
      "-------------------\n",
      "RAVEL_two_by_two: shape=(4,), size= 4, dim= 1\n",
      "---------------\n",
      "________Making SHALLOW COPY!!!!_______\n"
     ]
    }
   ],
   "source": [
    "\n",
    "print('ones_two_by_two: shape={}, size= {}, dim= {}'.format(ones_two_by_two.shape,\n",
    "ones_two_by_two.size,ones_two_by_two.ndim))\n",
    "print('-------------------')\n",
    "print('RAVEL_two_by_two: shape={}, size= {}, dim= {}'.format(ravel_two_by_two.shape,\n",
    "            ravel_two_by_two.size, ravel_two_by_two.ndim))\n",
    "print('---------------')\n",
    "print('________Making SHALLOW COPY!!!!_______')"
   ]
  },
  {
   "cell_type": "markdown",
   "metadata": {},
   "source": [
    "# `Stats:`\n",
    "\n",
    "`\n",
    "np.mean(array,axis=?)\n",
    "np.var(): variance\n",
    "np.min(): min value of array\n",
    "np.max(): max\n",
    "np.std(): standard deviation\n",
    "np.corrcoeff(): correlation coefficient\n",
    "np.argmax(): returns index of largest item in array\n",
    "np.argmin(): reverse\n",
    "`"
   ]
  },
  {
   "cell_type": "markdown",
   "metadata": {},
   "source": [
    "# `Stacking and Concatinating:`\n",
    "\n",
    "`Vstack():` increase rows\n",
    "\n",
    "`hstack():` increase number of columns\n",
    "\n",
    "`Dstack():` this will concatonate along a third axis, this uses an index based approach\n",
    "\n",
    "`Concatenate:` joining arrays along an existing axis"
   ]
  },
  {
   "cell_type": "code",
   "execution_count": null,
   "metadata": {},
   "outputs": [],
   "source": [
    "arry_one = np.arange(2,7)\n",
    "arry_two =np.arange(5,10)"
   ]
  },
  {
   "cell_type": "code",
   "execution_count": 356,
   "metadata": {},
   "outputs": [
    {
     "data": {
      "text/plain": [
       "array([[2, 3, 4, 5, 6],\n",
       "       [5, 6, 7, 8, 9]])"
      ]
     },
     "execution_count": 356,
     "metadata": {},
     "output_type": "execute_result"
    }
   ],
   "source": [
    "# vstack:\n",
    "np.vstack((arry_one,arry_two))"
   ]
  },
  {
   "cell_type": "code",
   "execution_count": 358,
   "metadata": {},
   "outputs": [
    {
     "data": {
      "text/plain": [
       "array([2, 3, 4, 5, 6, 5, 6, 7, 8, 9])"
      ]
     },
     "execution_count": 358,
     "metadata": {},
     "output_type": "execute_result"
    }
   ],
   "source": [
    "# hstack:\n",
    "np.hstack((arry_one,arry_two))"
   ]
  },
  {
   "cell_type": "code",
   "execution_count": 375,
   "metadata": {},
   "outputs": [
    {
     "name": "stdout",
     "output_type": "stream",
     "text": [
      "3\n"
     ]
    }
   ],
   "source": [
    "a_2d = np.array([[111,226],[105,256]])\n",
    "b_2d = np.array([[500,600],[700,800]])\n",
    "c_3d = np.dstack((a_2d,b_2d))"
   ]
  },
  {
   "cell_type": "code",
   "execution_count": 396,
   "metadata": {},
   "outputs": [
    {
     "name": "stdout",
     "output_type": "stream",
     "text": [
      "Pay attention to brackets for each vector!\n",
      "\n",
      "a_2d=b_2d in quantities: shape(2, 2) ,size=4, Dim=2,a_2d\n",
      " \n",
      "[[111 226]\n",
      " [105 256]]:\n",
      "\n",
      " -------------------\n",
      "\n",
      "Dstack with c_3d: shape(2, 2, 2) ,size=8, Dim=3,c_3d:\n",
      " \n",
      "[[[111 500]\n",
      "  [226 600]]\n",
      "\n",
      " [[105 700]\n",
      "  [256 800]]], look at brackets\n"
     ]
    }
   ],
   "source": [
    "print('Pay attention to brackets for each vector!\\n')\n",
    "print('a_2d=b_2d in quantities: shape{} ,size={}, Dim={},a_2d\\n \\n{}:'.format(a_2d.shape,\n",
    "    a_2d.size,a_2d.ndim,a_2d))\n",
    "print('\\n -------------------\\n')\n",
    "print('Dstack with c_3d: shape{} ,size={}, Dim={},c_3d:\\n \\n{}, look at brackets'.format(c_3d.shape,\n",
    "    c_3d.size,c_3d.ndim,c_3d))"
   ]
  },
  {
   "cell_type": "code",
   "execution_count": 416,
   "metadata": {},
   "outputs": [
    {
     "data": {
      "text/plain": [
       "array([[111, 226],\n",
       "       [105, 256],\n",
       "       [500, 600],\n",
       "       [700, 800]])"
      ]
     },
     "execution_count": 416,
     "metadata": {},
     "output_type": "execute_result"
    }
   ],
   "source": [
    "# Concate:\n",
    "a_2d = np.array([[111,226],[105,256]])\n",
    "b_2d = np.array([[500,600],[700,800]])\n",
    "\n",
    "# like traditional append to the end of data frame\n",
    "concate_by_rows=np.concatenate((a_2d, b_2d), axis=0) # Row wise\n",
    "concate_by_rows"
   ]
  },
  {
   "cell_type": "code",
   "execution_count": 417,
   "metadata": {},
   "outputs": [
    {
     "name": "stdout",
     "output_type": "stream",
     "text": [
      "a_2d: shape(2, 2), Dim=2, size=4,\n",
      "concate_by_rows: shape(4, 2), Dim=2, size=8\n"
     ]
    },
    {
     "data": {
      "text/plain": [
       "array([[111, 226],\n",
       "       [105, 256],\n",
       "       [500, 600],\n",
       "       [700, 800]])"
      ]
     },
     "execution_count": 417,
     "metadata": {},
     "output_type": "execute_result"
    }
   ],
   "source": [
    "print('a_2d: shape{}, Dim={}, size={},\\nconcate_by_rows: shape{}, Dim={}, size={}'.format(\n",
    "a_2d.shape,\n",
    "a_2d.ndim,a_2d.size,\n",
    "concate_by_rows.shape,concate_by_rows.ndim,concate_by_rows.size))\n",
    "\n",
    "concate_by_rows"
   ]
  },
  {
   "cell_type": "code",
   "execution_count": 418,
   "metadata": {},
   "outputs": [
    {
     "data": {
      "text/plain": [
       "array([[111, 226, 500, 600],\n",
       "       [105, 256, 700, 800]])"
      ]
     },
     "execution_count": 418,
     "metadata": {},
     "output_type": "execute_result"
    }
   ],
   "source": [
    "# think adding columns like in a data frame:\n",
    "concate_by_cols=np.concatenate((a_2d, b_2d), axis=1) #column wise\n",
    "concate_by_cols"
   ]
  },
  {
   "cell_type": "code",
   "execution_count": 425,
   "metadata": {},
   "outputs": [
    {
     "name": "stdout",
     "output_type": "stream",
     "text": [
      "a_2d: shape(2, 2), Dim=2,\n",
      "concate_by_cols: shape(2, 4), Dim=2\n"
     ]
    }
   ],
   "source": [
    "print('a_2d: shape{}, Dim={},\\nconcate_by_cols: shape{}, Dim={}'.format(a_2d.shape,\n",
    "a_2d.ndim,concate_by_cols.shape,concate_by_cols.ndim))"
   ]
  },
  {
   "cell_type": "code",
   "execution_count": 426,
   "metadata": {},
   "outputs": [
    {
     "data": {
      "text/plain": [
       "array([111, 226, 105, 256, 500, 600, 700, 800])"
      ]
     },
     "execution_count": 426,
     "metadata": {},
     "output_type": "execute_result"
    }
   ],
   "source": [
    "# Think of extending a list instead of append\n",
    "concate_by_none=np.concatenate((a_2d, b_2d), axis=None)# neither,flatten to single level\n",
    "concate_by_none"
   ]
  },
  {
   "cell_type": "code",
   "execution_count": 427,
   "metadata": {},
   "outputs": [
    {
     "name": "stdout",
     "output_type": "stream",
     "text": [
      "a_2d: shape(2, 2), Dim=2,\n",
      "concate_by_none: shape(8,), Dim=1\n"
     ]
    }
   ],
   "source": [
    "print('a_2d: shape{}, Dim={},\\nconcate_by_none: shape{}, Dim={}'.format(a_2d.shape,\n",
    "a_2d.ndim,concate_by_none.shape,concate_by_none.ndim))"
   ]
  },
  {
   "cell_type": "markdown",
   "metadata": {},
   "source": [
    "# `Broadcasting:` `OUTER` operations\n",
    "\n",
    "+ Allows you to do arithmetic operations on arrays of mismatched sizes\n",
    "    + This will be done by stretching the smaller array to fill the void. It will basically wrap around values in the smaller array to make it match the size of larger array.\n",
    "+ `To make this work: either they need to be the same size or one of them needs to be 1`\n",
    "    + If this isn't met you will receive: `ValueError()` meaning that there are incompatible shapes"
   ]
  },
  {
   "cell_type": "code",
   "execution_count": 550,
   "metadata": {},
   "outputs": [
    {
     "name": "stdout",
     "output_type": "stream",
     "text": [
      "shape, Aa:  (4,) , Bb shape:  (2, 4)\n",
      "(Aa + Bb) shape:  (2, 4)\n"
     ]
    },
    {
     "data": {
      "text/plain": [
       "array([[1.1, 2.2, 3.3, 4.4],\n",
       "       [1.5, 2.6, 3.7, 4.8]])"
      ]
     },
     "execution_count": 550,
     "metadata": {},
     "output_type": "execute_result"
    }
   ],
   "source": [
    "Aa=np.array([1.,2.,3.,4.])\n",
    "print('shape, Aa: ',Aa.shape,', Bb shape: ',Bb.shape)\n",
    "\n",
    "Bb=np.array([[.1,.2,.3,.4],[.5,.6,.7,.8]])\n",
    "print('(Aa + Bb) shape: ',(Aa+Bb).shape)\n",
    "\n",
    "Aa+Bb\n"
   ]
  },
  {
   "cell_type": "code",
   "execution_count": 555,
   "metadata": {},
   "outputs": [
    {
     "name": "stdout",
     "output_type": "stream",
     "text": [
      "a shape: (4, 3) , b shape: (3,)\n",
      "a+b shape: (4, 3)\n"
     ]
    },
    {
     "data": {
      "text/plain": [
       "array([[ 1.,  2.,  3.],\n",
       "       [11., 12., 13.],\n",
       "       [21., 22., 23.],\n",
       "       [31., 32., 33.]])"
      ]
     },
     "execution_count": 555,
     "metadata": {},
     "output_type": "execute_result"
    }
   ],
   "source": [
    "#2D\n",
    "a = np.array([[ 0.0,  0.0,  0.0],\n",
    "            [10.0, 10.0, 10.0],\n",
    "           [20.0, 20.0, 20.0],\n",
    "           [30.0, 30.0, 30.0]])\n",
    "\n",
    "# 1D\n",
    "b = np.array([1.0, 2.0, 3.0])\n",
    "\n",
    "print('a shape:',a.shape,', b shape:',b.shape)\n",
    "print('a+b shape:',(a+b).shape)\n",
    "a+b\n"
   ]
  },
  {
   "cell_type": "markdown",
   "metadata": {},
   "source": [
    "# `Now a thoughtful example:`\n",
    "\n",
    "+ Mental gymnastics are fun, sometimes..."
   ]
  },
  {
   "cell_type": "code",
   "execution_count": 202,
   "metadata": {},
   "outputs": [
    {
     "name": "stdout",
     "output_type": "stream",
     "text": [
      "B shape: (2, 4) , A shape: (6,)\n",
      "n transpose shape: (6, 2)\n",
      "change axis, n.T shape: (6, 2, 1)\n"
     ]
    }
   ],
   "source": [
    "# 1D\n",
    "A=np.array([1.,2.,3.,4.,5.,6.])\n",
    "\n",
    "# 2D\n",
    "B=np.array([[.1,.2,.3,.4],[.5,.6,.7,.8]])\n",
    "\n",
    "print('B shape:',B.shape,', A shape:',A.shape)\n",
    "n=(A+np.zeros((2,6)))\n",
    "\n",
    "print('n transpose shape:',n.T.shape)\n",
    "print('change axis, n.T shape:',n[np.newaxis,:].T.shape)\n"
   ]
  },
  {
   "cell_type": "code",
   "execution_count": 264,
   "metadata": {},
   "outputs": [
    {
     "name": "stdout",
     "output_type": "stream",
     "text": [
      "n[np.newaxis,:].T.shape (6, 2, 1) + B.shape(2, 4) = result shape(6, 2, 4)\n",
      "------------------\n",
      "# of dimensions: n[np.newaxis,:].T.ndim =[3] +\n",
      " B.ndim=[2] \n",
      "= result dimensions=[3]\n"
     ]
    },
    {
     "data": {
      "text/plain": [
       "array([[[1.1, 1.2, 1.3, 1.4],\n",
       "        [1.5, 1.6, 1.7, 1.8]],\n",
       "\n",
       "       [[2.1, 2.2, 2.3, 2.4],\n",
       "        [2.5, 2.6, 2.7, 2.8]],\n",
       "\n",
       "       [[3.1, 3.2, 3.3, 3.4],\n",
       "        [3.5, 3.6, 3.7, 3.8]],\n",
       "\n",
       "       [[4.1, 4.2, 4.3, 4.4],\n",
       "        [4.5, 4.6, 4.7, 4.8]],\n",
       "\n",
       "       [[5.1, 5.2, 5.3, 5.4],\n",
       "        [5.5, 5.6, 5.7, 5.8]],\n",
       "\n",
       "       [[6.1, 6.2, 6.3, 6.4],\n",
       "        [6.5, 6.6, 6.7, 6.8]]])"
      ]
     },
     "execution_count": 264,
     "metadata": {},
     "output_type": "execute_result"
    }
   ],
   "source": [
    "print('n[np.newaxis,:].T.shape {} + B.shape{} = result shape{}'.format(n[np.newaxis,:].T.shape,B.shape,\n",
    "                    (n[np.newaxis,:].T+B).shape))\n",
    "print('------------------')\n",
    "print('# of dimensions: n[np.newaxis,:].T.ndim =[{}] +\\n B.ndim=[{}] \\n= result dimensions=[{}]'.format(n[np.newaxis,:].T.ndim,B.ndim,\n",
    "(n[np.newaxis,:].T+B).ndim))\n",
    "\n",
    "n[np.newaxis,:].T+B"
   ]
  },
  {
   "cell_type": "code",
   "execution_count": 234,
   "metadata": {},
   "outputs": [
    {
     "name": "stdout",
     "output_type": "stream",
     "text": [
      "Number of New Dimensions: 3\n"
     ]
    },
    {
     "data": {
      "text/plain": [
       "array([[[0.1, 0.2, 0.3, 0.4],\n",
       "        [0.5, 0.6, 0.7, 0.8]],\n",
       "\n",
       "       [[0.2, 0.4, 0.6, 0.8],\n",
       "        [1. , 1.2, 1.4, 1.6]],\n",
       "\n",
       "       [[0.3, 0.6, 0.9, 1.2],\n",
       "        [1.5, 1.8, 2.1, 2.4]],\n",
       "\n",
       "       [[0.4, 0.8, 1.2, 1.6],\n",
       "        [2. , 2.4, 2.8, 3.2]],\n",
       "\n",
       "       [[0.5, 1. , 1.5, 2. ],\n",
       "        [2.5, 3. , 3.5, 4. ]],\n",
       "\n",
       "       [[0.6, 1.2, 1.8, 2.4],\n",
       "        [3. , 3.6, 4.2, 4.8]]])"
      ]
     },
     "execution_count": 234,
     "metadata": {},
     "output_type": "execute_result"
    }
   ],
   "source": [
    "# Element wise: multiplication (OUTER)\n",
    "print('Number of New Dimensions:',(B*n[np.newaxis,:].T).ndim)\n",
    "B*n[np.newaxis,:].T"
   ]
  },
  {
   "cell_type": "markdown",
   "metadata": {},
   "source": [
    "# `Dot Product: 'Inner'`"
   ]
  },
  {
   "cell_type": "code",
   "execution_count": 226,
   "metadata": {},
   "outputs": [
    {
     "data": {
      "text/plain": [
       "array([[0.6, 1.2, 1.8, 2.4, 3. , 3.6],\n",
       "       [0.8, 1.6, 2.4, 3.2, 4. , 4.8],\n",
       "       [1. , 2. , 3. , 4. , 5. , 6. ],\n",
       "       [1.2, 2.4, 3.6, 4.8, 6. , 7.2]])"
      ]
     },
     "execution_count": 226,
     "metadata": {},
     "output_type": "execute_result"
    }
   ],
   "source": [
    "np.dot(B.T,n)"
   ]
  },
  {
   "cell_type": "markdown",
   "metadata": {},
   "source": [
    "# <font color=red>Like</font>, share &\n",
    "\n",
    "# <font color=red>SUB</font>scribe"
   ]
  },
  {
   "cell_type": "markdown",
   "metadata": {},
   "source": [
    "# Citations & Help:\n",
    "\n",
    "# ◔̯◔\n",
    "\n",
    "https://towardsdatascience.com/lets-talk-about-numpy-for-datascience-beginners-b8088722309f\n",
    "\n",
    "https://numpy.org/doc/stable/user/whatisnumpy.html\n",
    "\n",
    "https://towardsdatascience.com/first-step-in-data-science-with-python-numpy-5e99d6821953\n",
    "\n",
    "https://www.dataquest.io/blog/numpy-cheat-sheet/\n",
    "\n",
    "https://www.analyticsvidhya.com/blog/2020/04/the-ultimate-numpy-tutorial-for-data-science-beginners/\n",
    "\n",
    "https://numpy.org/devdocs/user/theory.broadcasting.html\n",
    "\n",
    "https://thispointer.com/delete-elements-rows-or-columns-from-a-numpy-array-by-index-positions-using-numpy-delete-in-python/"
   ]
  }
 ],
 "metadata": {
  "kernelspec": {
   "display_name": "Python 3",
   "language": "python",
   "name": "python3"
  },
  "language_info": {
   "codemirror_mode": {
    "name": "ipython",
    "version": 3
   },
   "file_extension": ".py",
   "mimetype": "text/x-python",
   "name": "python",
   "nbconvert_exporter": "python",
   "pygments_lexer": "ipython3",
   "version": "3.7.3"
  }
 },
 "nbformat": 4,
 "nbformat_minor": 4
}
